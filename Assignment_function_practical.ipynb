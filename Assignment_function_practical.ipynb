{
 "cells": [
  {
   "cell_type": "markdown",
   "id": "404a83c4-8ed4-471e-aa29-b2100b9dc5ce",
   "metadata": {},
   "source": [
    "### 1.Write a Python function that takes a list of numbers as input and returns the sum of all even numbers in the list."
   ]
  },
  {
   "cell_type": "code",
   "execution_count": 51,
   "id": "2c8cb633-f9a8-44e1-a552-e6c50d5db659",
   "metadata": {},
   "outputs": [
    {
     "name": "stdin",
     "output_type": "stream",
     "text": [
      "How many list elements do you want:  5\n",
      "Enter the 1no. element:  1\n",
      "Enter the 2no. element:  2\n",
      "Enter the 3no. element:  3\n",
      "Enter the 4no. element:  4\n",
      "Enter the 5no. element:  5\n"
     ]
    },
    {
     "name": "stdout",
     "output_type": "stream",
     "text": [
      " lists are:  [1, 2, 3, 4, 5]\n",
      "The even no. of list from the given list are :  [2, 4]\n",
      "Sum of Even no. is: 6\n"
     ]
    }
   ],
   "source": [
    "from functools import reduce\n",
    "a = int(input(\"How many list elements do you want: \"))\n",
    "list1 = [int(input(f\"Enter the {i + 1}no. element: \")) for i in range(a)]\n",
    "print(\" lists are: \",list1)\n",
    "c=list(filter(lambda x: x%2==0,list1))\n",
    "print(\"The even no. of list from the given list are : \",c)\n",
    "d=reduce(lambda x,y:  x+y,c)\n",
    "print(\"Sum of Even no. is:\",d)"
   ]
  },
  {
   "cell_type": "code",
   "execution_count": 54,
   "id": "8f5af5db-e306-41bc-9f09-8173d926ff46",
   "metadata": {},
   "outputs": [
    {
     "name": "stdin",
     "output_type": "stream",
     "text": [
      "How many list elements do you want:  5\n",
      "Enter the 1no. element:  1\n",
      "Enter the 2no. element:  2\n",
      "Enter the 3no. element:  3\n",
      "Enter the 4no. element:  4\n",
      "Enter the 5no. element:  5\n"
     ]
    },
    {
     "name": "stdout",
     "output_type": "stream",
     "text": [
      "Sum of even no are:  6\n"
     ]
    }
   ],
   "source": [
    "# Using regular function\n",
    "def list_input():\n",
    "    a = int(input(\"How many list elements do you want: \"))\n",
    "    list2 = [int(input(f\"Enter the {i + 1}no. element: \")) for i in range(a)]\n",
    "    return list2\n",
    "def even_sum():\n",
    "    sum=0\n",
    "    for i in list_input():\n",
    "        if i%2==0:\n",
    "            sum=sum+i\n",
    "    print(\"Sum of even no are: \", sum)\n",
    "even_sum()\n",
    "        "
   ]
  },
  {
   "cell_type": "markdown",
   "id": "4ca33bb0-dd56-4d86-b597-d2f981ffe66d",
   "metadata": {},
   "source": [
    "### 2. Create a Python function that accepts a string and returns the reverse of that string."
   ]
  },
  {
   "cell_type": "code",
   "execution_count": 56,
   "id": "7146721e-5aa4-40eb-ae37-e52fced6d00b",
   "metadata": {},
   "outputs": [
    {
     "name": "stdin",
     "output_type": "stream",
     "text": [
      "Enter a string:  kiran kumar koley\n"
     ]
    },
    {
     "name": "stdout",
     "output_type": "stream",
     "text": [
      "The input string is  kiran kumar koley\n",
      "The reverse string is: yelok ramuk narik\n"
     ]
    }
   ],
   "source": [
    "def reverse_string():\n",
    "    a=input(\"Enter a string: \")\n",
    "    print(\"The input string is \",a)\n",
    "    b=a[::-1]\n",
    "    print(\"The reverse string is:\",b)\n",
    "reverse_string()"
   ]
  },
  {
   "cell_type": "code",
   "execution_count": 57,
   "id": "ef705bda-5bf2-47b5-b040-323339af694d",
   "metadata": {},
   "outputs": [
    {
     "name": "stdin",
     "output_type": "stream",
     "text": [
      "Enter the string:  Hello world\n"
     ]
    },
    {
     "name": "stdout",
     "output_type": "stream",
     "text": [
      "The input string is:  Hello world\n",
      "The reverse string:  dlrow olleH\n"
     ]
    }
   ],
   "source": [
    "# ANOTHER WAY\n",
    "def rev_str(n):\n",
    "    c=d[::-1]\n",
    "    print(\"The reverse string: \",c)\n",
    "d=input(\"Enter the string: \")\n",
    "print(\"The input string is: \",d)\n",
    "rev_str(d)"
   ]
  },
  {
   "cell_type": "markdown",
   "id": "ef3737a5-de26-4173-b448-5fd838ffd386",
   "metadata": {},
   "source": [
    "### 3. Implement a Python function that takes a list of integers and returns a new list containing the squares of each number."
   ]
  },
  {
   "cell_type": "code",
   "execution_count": 61,
   "id": "52b42525-cbdd-4ccc-8697-e1604b29c27a",
   "metadata": {},
   "outputs": [
    {
     "name": "stdin",
     "output_type": "stream",
     "text": [
      "How many list element you want :  5\n",
      "Enter the 1no. element:  2\n",
      "Enter the 2no. element:  4\n",
      "Enter the 3no. element:  5\n",
      "Enter the 4no. element:  6\n",
      "Enter the 5no. element:  7\n"
     ]
    },
    {
     "name": "stdout",
     "output_type": "stream",
     "text": [
      "The input lists are:  [2, 4, 5, 6, 7]\n",
      "The Square of the given list is:  [4, 16, 25, 36, 49]\n"
     ]
    }
   ],
   "source": [
    "def sqr(n):\n",
    "    b=[i**2 for i in n]\n",
    "    print(\"The Square of the given list is: \",b)\n",
    "num=int(input(\"How many list element you want : \"))\n",
    "a=[int(input(f\"Enter the {i+1}no. element: \"))for i in range(num)]\n",
    "print(\"The input lists are: \",a)\n",
    "sqr(a)\n",
    "\n",
    "             "
   ]
  },
  {
   "cell_type": "markdown",
   "id": "0f2412b4-0ae9-465c-abbd-68c5fde4e0d4",
   "metadata": {},
   "source": [
    "### 4. Write a Python function that checks if a given number is prime or not from 1 to 200."
   ]
  },
  {
   "cell_type": "code",
   "execution_count": 30,
   "id": "fdfefdad-b605-4bb3-8873-152a2cd232dd",
   "metadata": {},
   "outputs": [
    {
     "name": "stdin",
     "output_type": "stream",
     "text": [
      "Enter the range:  200\n"
     ]
    },
    {
     "name": "stdout",
     "output_type": "stream",
     "text": [
      "0 is neither prime nor composite\n",
      "1 is neither prime nor composite\n",
      "Prime numbers: [2, 3, 5, 7, 11, 13, 17, 19, 23, 29, 31, 37, 41, 43, 47, 53, 59, 61, 67, 71, 73, 79, 83, 89, 97, 101, 103, 107, 109, 113, 127, 131, 137, 139, 149, 151, 157, 163, 167, 173, 179, 181, 191, 193, 197, 199]\n",
      "\n",
      "Non-prime numbers: [4, 6, 8, 9, 10, 12, 14, 15, 16, 18, 20, 21, 22, 24, 25, 26, 27, 28, 30, 32, 33, 34, 35, 36, 38, 39, 40, 42, 44, 45, 46, 48, 49, 50, 51, 52, 54, 55, 56, 57, 58, 60, 62, 63, 64, 65, 66, 68, 69, 70, 72, 74, 75, 76, 77, 78, 80, 81, 82, 84, 85, 86, 87, 88, 90, 91, 92, 93, 94, 95, 96, 98, 99, 100, 102, 104, 105, 106, 108, 110, 111, 112, 114, 115, 116, 117, 118, 119, 120, 121, 122, 123, 124, 125, 126, 128, 129, 130, 132, 133, 134, 135, 136, 138, 140, 141, 142, 143, 144, 145, 146, 147, 148, 150, 152, 153, 154, 155, 156, 158, 159, 160, 161, 162, 164, 165, 166, 168, 169, 170, 171, 172, 174, 175, 176, 177, 178, 180, 182, 183, 184, 185, 186, 187, 188, 189, 190, 192, 194, 195, 196, 198, 200]\n"
     ]
    }
   ],
   "source": [
    "def is_prime(n):\n",
    "    for i in range(2, int(n/2) + 1):\n",
    "        if n % i == 0:\n",
    "            return False\n",
    "    return True\n",
    "prime_numbers = []\n",
    "non_prime_numbers = []\n",
    "a=int(input(\"Enter the range: \"))\n",
    "for n in range(a+1):\n",
    "    if n<2:\n",
    "        print(n,\"is neither prime nor composite\")\n",
    "    elif is_prime(n):\n",
    "        prime_numbers.append(n)\n",
    "    else:\n",
    "        non_prime_numbers.append(n)\n",
    "print(\"Prime numbers:\", prime_numbers)\n",
    "print()\n",
    "print(\"Non-prime numbers:\", non_prime_numbers)\n"
   ]
  },
  {
   "cell_type": "markdown",
   "id": "53629fd8-b1ef-45c6-bf3b-7e3d9eef57ed",
   "metadata": {},
   "source": [
    "### 5. Create an iterator class in Python that generates the Fibonacci sequence up to a specified number of terms."
   ]
  },
  {
   "cell_type": "code",
   "execution_count": 33,
   "id": "91aad46f-00a6-40ab-b0f1-749f5c301ee1",
   "metadata": {},
   "outputs": [
    {
     "name": "stdin",
     "output_type": "stream",
     "text": [
      "What's number you want: 5\n"
     ]
    },
    {
     "data": {
      "text/plain": [
       "[0, 1, 1, 2, 3]"
      ]
     },
     "execution_count": 33,
     "metadata": {},
     "output_type": "execute_result"
    }
   ],
   "source": [
    "fibo=lambda x: x if x<=1 else fibo(x-1)+fibo(x-2)\n",
    "a=int(input(\"What's number you want:\"))\n",
    "a=[fibo(i) for i in range(a)]\n",
    "a"
   ]
  },
  {
   "cell_type": "markdown",
   "id": "7c84c793-7896-44f6-9b2a-60f1b8fd978a",
   "metadata": {},
   "source": [
    "### 6. . Write a generator function in Python that yields the powers of 2 up to a given exponent."
   ]
  },
  {
   "cell_type": "code",
   "execution_count": 47,
   "id": "c97bae2b-f001-426b-8b09-6f3c691d3911",
   "metadata": {},
   "outputs": [
    {
     "name": "stdin",
     "output_type": "stream",
     "text": [
      "Enter the maximum exponent:  10\n"
     ]
    },
    {
     "name": "stdout",
     "output_type": "stream",
     "text": [
      "1\n",
      "2\n",
      "4\n",
      "8\n",
      "16\n",
      "32\n",
      "64\n",
      "128\n",
      "256\n",
      "512\n",
      "1024\n"
     ]
    }
   ],
   "source": [
    "def powers_of_two(max_exponent):\n",
    "    exponent = 0\n",
    "    while exponent <= max_exponent:\n",
    "        yield 2 ** exponent\n",
    "        exponent += 1\n",
    "max_exp=int(input(\"Enter the maximum exponent: \"))\n",
    "for value in powers_of_two(max_exp):\n",
    "    print(value)"
   ]
  },
  {
   "cell_type": "markdown",
   "id": "969638f6-6fac-4f29-b460-a99024b921d8",
   "metadata": {},
   "source": [
    "### 7. Implement a generator function that reads a file line by line and yields each line as a string."
   ]
  },
  {
   "cell_type": "code",
   "execution_count": 18,
   "id": "2a98d097-592b-466d-b62d-b1be359696d2",
   "metadata": {},
   "outputs": [
    {
     "name": "stdout",
     "output_type": "stream",
     "text": [
      "Kiran kumar koley is a good boy,\n",
      "i belongs to howrah,westbengal\n",
      "recently i completed my graduation from GIST,haldia in Bachelop of computer application. i completed my higher secondary\n",
      "and matriculation  from the same school in 2021 and 2019 with\n",
      "80% and 72%\n"
     ]
    }
   ],
   "source": [
    "def read(file):\n",
    "    with open(file,'r') as f:\n",
    "        for line in f:\n",
    "            yield line.strip()\n",
    "file='example.txt'\n",
    "for i in read(file):\n",
    "    print(i)"
   ]
  },
  {
   "cell_type": "code",
   "execution_count": 19,
   "id": "d1adb469-8a87-461d-81c5-bb91d44dc474",
   "metadata": {},
   "outputs": [],
   "source": [
    "a=read(file)"
   ]
  },
  {
   "cell_type": "code",
   "execution_count": 20,
   "id": "8a961ede-ba43-45b5-b94b-c434a1595aa9",
   "metadata": {},
   "outputs": [
    {
     "data": {
      "text/plain": [
       "'Kiran kumar koley is a good boy,'"
      ]
     },
     "execution_count": 20,
     "metadata": {},
     "output_type": "execute_result"
    }
   ],
   "source": [
    "next(a)"
   ]
  },
  {
   "cell_type": "code",
   "execution_count": 21,
   "id": "f929b8fc-55bc-4c41-bc93-9ea0a82e1ee3",
   "metadata": {},
   "outputs": [
    {
     "data": {
      "text/plain": [
       "'i belongs to howrah,westbengal'"
      ]
     },
     "execution_count": 21,
     "metadata": {},
     "output_type": "execute_result"
    }
   ],
   "source": [
    "next(a)"
   ]
  },
  {
   "cell_type": "code",
   "execution_count": 22,
   "id": "bcc73dd6-c619-4fb6-ad75-397e1c23e012",
   "metadata": {},
   "outputs": [
    {
     "data": {
      "text/plain": [
       "'recently i completed my graduation from GIST,haldia in Bachelop of computer application. i completed my higher secondary'"
      ]
     },
     "execution_count": 22,
     "metadata": {},
     "output_type": "execute_result"
    }
   ],
   "source": [
    "next(a)"
   ]
  },
  {
   "cell_type": "code",
   "execution_count": 23,
   "id": "11985ca3-ad07-44f6-8148-3cd3cb8adabe",
   "metadata": {},
   "outputs": [
    {
     "data": {
      "text/plain": [
       "'and matriculation  from the same school in 2021 and 2019 with'"
      ]
     },
     "execution_count": 23,
     "metadata": {},
     "output_type": "execute_result"
    }
   ],
   "source": [
    "next(a)"
   ]
  },
  {
   "cell_type": "code",
   "execution_count": 24,
   "id": "8076d3db-a963-4ae4-ab0f-765126089b9d",
   "metadata": {},
   "outputs": [
    {
     "data": {
      "text/plain": [
       "'80% and 72%'"
      ]
     },
     "execution_count": 24,
     "metadata": {},
     "output_type": "execute_result"
    }
   ],
   "source": [
    "next(a)"
   ]
  },
  {
   "cell_type": "markdown",
   "id": "001878db-e7d1-415c-8c84-66e8395a89fa",
   "metadata": {},
   "source": [
    "### 8. Use a lambda function in Python to sort a list of tuples based on the second element of each tuple."
   ]
  },
  {
   "cell_type": "code",
   "execution_count": 26,
   "id": "beb63614-6d2e-4299-9584-19df7cc371da",
   "metadata": {},
   "outputs": [
    {
     "name": "stdin",
     "output_type": "stream",
     "text": [
      "How many tuple you want in a list 3\n"
     ]
    },
    {
     "name": "stdout",
     "output_type": "stream",
     "text": [
      " The user can enter multiple tuples with 2 elements each and returna list of tuples\n",
      "This is 1no. Tuple.\n"
     ]
    },
    {
     "name": "stdin",
     "output_type": "stream",
     "text": [
      "Enter name:  Kiran\n",
      "Enter age : 25\n"
     ]
    },
    {
     "name": "stdout",
     "output_type": "stream",
     "text": [
      "This is 2no. Tuple.\n"
     ]
    },
    {
     "name": "stdin",
     "output_type": "stream",
     "text": [
      "Enter name:  Sankha\n",
      "Enter age : 12\n"
     ]
    },
    {
     "name": "stdout",
     "output_type": "stream",
     "text": [
      "This is 3no. Tuple.\n"
     ]
    },
    {
     "name": "stdin",
     "output_type": "stream",
     "text": [
      "Enter name:  Partha\n",
      "Enter age : 6\n"
     ]
    },
    {
     "name": "stdout",
     "output_type": "stream",
     "text": [
      "The list tuples are:  [('Kiran', 25), ('Sankha', 12), ('Partha', 6)]\n",
      "Sorted list of tuples by second element [('Partha', 6), ('Sankha', 12), ('Kiran', 25)]\n"
     ]
    }
   ],
   "source": [
    "# A list of tuples Name and age two element in a tuples.\n",
    "def List_tuples(a):\n",
    "    \"\"\" The user can enter multiple tuples with 2 elements each and returna list of tuples\"\"\"\n",
    "    lt=[]\n",
    "    for i in range(a):\n",
    "        print(f\"This is {i+1}no. Tuple.\")\n",
    "        name=str(input(\"Enter name: \"))\n",
    "        age=int(input(\"Enter age :\"))\n",
    "        p=(name,age)\n",
    "        lt.append(p)\n",
    "    return lt\n",
    "a=int(input(\"How many tuple you want in a list\"))\n",
    "print(List_tuples.__doc__)\n",
    "b=List_tuples(a)\n",
    "print(\"The list tuples are: \",b)\n",
    "\n",
    "sorting=sorted(b, key=lambda x: x[1])\n",
    "print(\"Sorted list of tuples by second element\",sorting)\n"
   ]
  },
  {
   "cell_type": "markdown",
   "id": "2398a97e-5491-4cb8-aab6-df8725312ebe",
   "metadata": {},
   "source": [
    "### 9. Write a Python program that uses `map()` to convert a list of temperatures from Celsius to Fahrenheit."
   ]
  },
  {
   "cell_type": "code",
   "execution_count": 32,
   "id": "6fae0315-71b3-4a2b-8706-727f96016135",
   "metadata": {},
   "outputs": [
    {
     "name": "stdin",
     "output_type": "stream",
     "text": [
      "Enter How many element you want:  4\n",
      "Enter the temparatures in celsius:  5\n",
      "Enter the temparatures in celsius:  6\n",
      "Enter the temparatures in celsius:  7\n",
      "Enter the temparatures in celsius:  8\n"
     ]
    },
    {
     "name": "stdout",
     "output_type": "stream",
     "text": [
      "Celsius list are:  [5, 6, 7, 8]\n",
      "Aftr conversion Fahrenheit list are:  [41.0, 42.8, 44.6, 46.4]\n"
     ]
    }
   ],
   "source": [
    "num=int((input(\"Enter How many element you want: \")))\n",
    "celsius_list=[int(input(\"Enter the temparatures in celsius: \")) for i in range(num)]\n",
    "print(\"Celsius list are: \", celsius_list)\n",
    "Fahrenheit_result=list(map(lambda x: (x*9/5)+32, celsius_list))\n",
    "print(\"Aftr conversion Fahrenheit list are: \",Fahrenheit_result)"
   ]
  },
  {
   "cell_type": "markdown",
   "id": "a662cb8d-39d9-41c4-acff-2f9c58cc42d7",
   "metadata": {},
   "source": [
    "### 10. Create a Python program that uses 'filter() to remove all the vowels from a given string."
   ]
  },
  {
   "cell_type": "code",
   "execution_count": 39,
   "id": "a9b37456-1c54-4561-9d33-92f7b251b8a9",
   "metadata": {},
   "outputs": [
    {
     "name": "stdin",
     "output_type": "stream",
     "text": [
      "Enter a string here :  KirAn KUmar kolEy\n"
     ]
    },
    {
     "name": "stdout",
     "output_type": "stream",
     "text": [
      "Remove all vowles from the input string : Krn Kmr kly\n"
     ]
    }
   ],
   "source": [
    "def rem_vowel(char):\n",
    "    vowels=\"aeiouAEIOU\"\n",
    "    return char not in vowels\n",
    "string=input(\"Enter a string here : \")\n",
    "result=filter(rem_vowel,string)\n",
    "fresult=\"\".join(result)\n",
    "print(\"Remove all vowles from the input string :\",fresult)\n"
   ]
  },
  {
   "cell_type": "markdown",
   "id": "096f14ae-4a3a-4d4a-9726-791b339805e9",
   "metadata": {},
   "source": [
    "#### 11. Imagine an accounting routine used in a book shop. It works on a list with sublists, which look like this:\n",
    "#### Write a Python program, which returns a list with 2-tuples. Each tuple consists of the order number and the product of the price per item and the quantity. The product should be increased by 10,- € if the value of the order is smaller than 100,00 €.\n",
    "#### Write a Python program using lambda and map."
   ]
  },
  {
   "attachments": {
    "eba54ed7-630c-4051-9179-b8b703b7d564.png": {
     "image/png": "[encoded data removed]"
    }
   },
   "cell_type": "markdown",
   "id": "54e28b64-b543-48f0-9159-9e251b12e715",
   "metadata": {},
   "source": [
    "![image.png](attachment:eba54ed7-630c-4051-9179-b8b703b7d564.png)\n"
   ]
  },
  {
   "cell_type": "code",
   "execution_count": 5,
   "id": "b68e1038-f337-4600-9d78-e2a2ca637d23",
   "metadata": {},
   "outputs": [
    {
     "data": {
      "text/plain": [
       "[(34587, 163.8), (98762, 284.0), (77226, 108.85), (88112, 84.97)]"
      ]
     },
     "execution_count": 5,
     "metadata": {},
     "output_type": "execute_result"
    }
   ],
   "source": [
    "def order(b):\n",
    "    order_number, _, quantity, price=b\n",
    "    total=quantity*price\n",
    "    return order_number,round(total + (10 if total<100 else 0),2)\n",
    "\n",
    "orders = [\n",
    "  (34587, \"Learning Python, Mark Lutz\", 4, 40.95),\n",
    "  (98762, \"Programming Python, Mark Lutz\", 5, 56.80),\n",
    "  (77226, \"Head First Python, Paul Barry\", 3, 32.95),\n",
    "  (88112, \"Einführung in Python3, Bernd Klein\", 3, 24.99)\n",
    "]\n",
    "a=list(map(order,orders))\n",
    "a"
   ]
  },
  {
   "cell_type": "code",
   "execution_count": 10,
   "id": "432695c7-45a3-45f0-9208-70b52efa8769",
   "metadata": {},
   "outputs": [
    {
     "data": {
      "text/plain": [
       "[(34587, 163.8), (98762, 284.0), (77226, 108.85000000000001), (88112, 84.97)]"
      ]
     },
     "execution_count": 10,
     "metadata": {},
     "output_type": "execute_result"
    }
   ],
   "source": [
    "# using one line lambda and map()\n",
    "orders = [\n",
    "  (34587, \"Learning Python, Mark Lutz\", 4, 40.95),\n",
    "  (98762, \"Programming Python, Mark Lutz\", 5, 56.80),\n",
    "  (77226, \"Head First Python, Paul Barry\", 3, 32.95),\n",
    "  (88112, \"Einführung in Python3, Bernd Klein\", 3, 24.99)\n",
    "]\n",
    "b=list(map(lambda x: (x[0], x[2]*x[3] + (10 if x[2]*x[3] < 100 else 0)),orders))\n",
    "b"
   ]
  },
  {
   "cell_type": "code",
   "execution_count": null,
   "id": "cf520d1c-5afe-40a5-82f7-7177e88c189d",
   "metadata": {},
   "outputs": [],
   "source": []
  },
  {
   "cell_type": "code",
   "execution_count": null,
   "id": "f3b045bd-a641-4234-94d7-16ec4bf00c4c",
   "metadata": {},
   "outputs": [],
   "source": []
  }
 ],
 "metadata": {
  "kernelspec": {
   "display_name": "Python 3 (ipykernel)",
   "language": "python",
   "name": "python3"
  },
  "language_info": {
   "codemirror_mode": {
    "name": "ipython",
    "version": 3
   },
   "file_extension": ".py",
   "mimetype": "text/x-python",
   "name": "python",
   "nbconvert_exporter": "python",
   "pygments_lexer": "ipython3",
   "version": "3.10.8"
  }
 },
 "nbformat": 4,
 "nbformat_minor": 5
}

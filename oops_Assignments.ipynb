{
 "cells": [
  {
   "cell_type": "markdown",
   "id": "9196ba6b-dff8-4a36-a9f8-832f00dae72c",
   "metadata": {},
   "source": [
    "### 2. Write a Python class for a Car with attributes for make`, `model', and 'year'. Include a method to display the car's information."
   ]
  },
  {
   "cell_type": "code",
   "execution_count": 1,
   "id": "3616923b-3aa0-4ef5-ae39-1397f8289c2d",
   "metadata": {},
   "outputs": [
    {
     "name": "stdout",
     "output_type": "stream",
     "text": [
      "Car Info: 2021 Toyota Corolla\n"
     ]
    }
   ],
   "source": [
    "class Car:\n",
    "    def __init__(self, make, model, year):\n",
    "        self.make = make\n",
    "        self.model = model\n",
    "        self.year = year\n",
    "\n",
    "    def display_info(self):\n",
    "        print(f\"Car Info: {self.year} {self.make} {self.model}\")\n",
    "\n",
    "# Example usage:\n",
    "car1 = Car(\"Toyota\", \"Corolla\", 2021)\n",
    "car1.display_info()"
   ]
  },
  {
   "cell_type": "markdown",
   "id": "3b3ad7ed-1bf5-479a-8abc-142516ba97d7",
   "metadata": {},
   "source": [
    "### 3.  Explain the difference between instance methods and class methods. Provide an example of each.\n"
   ]
  },
  {
   "cell_type": "code",
   "execution_count": 1,
   "id": "b8cb9ad1-19c6-4e62-9aab-5f5e49de36d8",
   "metadata": {},
   "outputs": [
    {
     "name": "stdout",
     "output_type": "stream",
     "text": [
      "2022 Toyota Camry\n"
     ]
    }
   ],
   "source": [
    "class Car:\n",
    "    def __init__(self, make, model, year):\n",
    "        self.make = make\n",
    "        self.model = model\n",
    "        self.year = year\n",
    "\n",
    "    def display_info(self):  # Instance method\n",
    "        return f\"{self.year} {self.make} {self.model}\"\n",
    "\n",
    "car = Car(\"Toyota\", \"Camry\", 2022)\n",
    "print(car.display_info())  # Output: 2022 Toyota Camry"
   ]
  },
  {
   "cell_type": "code",
   "execution_count": 2,
   "id": "70d4a000-f14b-4f0c-b2bd-1a8029ec6535",
   "metadata": {},
   "outputs": [
    {
     "name": "stdout",
     "output_type": "stream",
     "text": [
      "Total cars: 2\n"
     ]
    }
   ],
   "source": [
    "class Car:\n",
    "    car_count = 0  # Class attribute\n",
    "\n",
    "    def __init__(self, make, model, year):\n",
    "        self.make = make\n",
    "        self.model = model\n",
    "        self.year = year\n",
    "        Car.car_count += 1\n",
    "\n",
    "    @classmethod\n",
    "    def total_cars(cls):  # Class method\n",
    "        return f\"Total cars: {cls.car_count}\"\n",
    "\n",
    "car1 = Car(\"Toyota\", \"Corolla\", 2021)\n",
    "car2 = Car(\"Honda\", \"Civic\", 2023)\n",
    "print(Car.total_cars()) \n"
   ]
  },
  {
   "cell_type": "markdown",
   "id": "7af7e7b9-a843-46a7-bab0-cd964ec72c3d",
   "metadata": {},
   "source": [
    "### 4. How does Python implement method overloading? Give an example."
   ]
  },
  {
   "cell_type": "code",
   "execution_count": 10,
   "id": "3d1616cb-4abc-4794-8e80-ae2a10105b5b",
   "metadata": {},
   "outputs": [
    {
     "name": "stdout",
     "output_type": "stream",
     "text": [
      "demo  \n",
      "Demo 12 \n",
      "Demo 12 56\n"
     ]
    }
   ],
   "source": [
    "class demo:\n",
    "    def display(self,name =\"\", age = \"\", roll = \"\"):\n",
    "        print(name,age,roll)\n",
    "d = demo()\n",
    "d.display(\"demo\")\n",
    "d.display(\"Demo\",12)\n",
    "d.display(\"Demo\",12,56)"
   ]
  },
  {
   "cell_type": "markdown",
   "id": "cdc0b609-e5ce-447a-9fba-11bed9016b3b",
   "metadata": {},
   "source": [
    "### 5.What are the three types of access modifiers in Python? How are they denoted?"
   ]
  },
  {
   "cell_type": "code",
   "execution_count": 11,
   "id": "48125a79-9fd1-4636-9bc1-a6e1a67e2b31",
   "metadata": {},
   "outputs": [],
   "source": [
    "# public = Accible from anywhere outside or inside of the class\n",
    "class demo:\n",
    "    def __init__(self,name):\n",
    "        self.name=name\n",
    "p = demo(\"Kiran\")"
   ]
  },
  {
   "cell_type": "code",
   "execution_count": 12,
   "id": "a793ec8e-a94c-406c-b69a-55b823d98c0c",
   "metadata": {},
   "outputs": [
    {
     "data": {
      "text/plain": [
       "'Kiran'"
      ]
     },
     "execution_count": 12,
     "metadata": {},
     "output_type": "execute_result"
    }
   ],
   "source": [
    "p.name"
   ]
  },
  {
   "cell_type": "code",
   "execution_count": 17,
   "id": "bc9f9712-dcc9-463b-99b8-5285220f6bc8",
   "metadata": {},
   "outputs": [],
   "source": [
    "# private = Data /  Method accessible with in a class, private the data/ and method using __ (double underscore)\n",
    "class demo:\n",
    "    def __init__(self, name):\n",
    "        self.__name=name\n",
    "    def display(self):\n",
    "        return self.__name\n",
    "p = demo(\"Kiran\")"
   ]
  },
  {
   "cell_type": "code",
   "execution_count": 18,
   "id": "645fe190-78c4-4e57-9b30-2de0b88ead5a",
   "metadata": {},
   "outputs": [
    {
     "ename": "AttributeError",
     "evalue": "'demo' object has no attribute 'name'",
     "output_type": "error",
     "traceback": [
      "\u001b[1;31m---------------------------------------------------------------------------\u001b[0m",
      "\u001b[1;31mAttributeError\u001b[0m                            Traceback (most recent call last)",
      "Cell \u001b[1;32mIn[18], line 1\u001b[0m\n\u001b[1;32m----> 1\u001b[0m \u001b[43mp\u001b[49m\u001b[38;5;241;43m.\u001b[39;49m\u001b[43mname\u001b[49m \u001b[38;5;66;03m# return error because fon't access outside of the class\u001b[39;00m\n",
      "\u001b[1;31mAttributeError\u001b[0m: 'demo' object has no attribute 'name'"
     ]
    }
   ],
   "source": [
    "p.name # return error because fon't access outside of the class"
   ]
  },
  {
   "cell_type": "code",
   "execution_count": 19,
   "id": "b253d461-1700-4fab-8861-c7eefd71993a",
   "metadata": {},
   "outputs": [
    {
     "data": {
      "text/plain": [
       "'Kiran'"
      ]
     },
     "execution_count": 19,
     "metadata": {},
     "output_type": "execute_result"
    }
   ],
   "source": [
    "p.display()"
   ]
  },
  {
   "cell_type": "code",
   "execution_count": 1,
   "id": "0f6c952c-89e0-42f3-8cec-302a1387944c",
   "metadata": {},
   "outputs": [],
   "source": [
    "# protective = protected member can be access with in the class and sub class using _(single undercore)\n",
    "class College:\n",
    "    def __init__(self):\n",
    "        self._college_name = \"PWSkills\"\n",
    "class Student(College):\n",
    "    def __init__(self, name):\n",
    "        self.name = name\n",
    "        College.__init__(self) #accesing variable of base class>>classname__init__(self)\n",
    "        \n",
    "    def show(self):\n",
    "        print(\"name\", self.name, \"college\", self._college_name) #directly call the base class variable using \"_\" "
   ]
  },
  {
   "cell_type": "code",
   "execution_count": 2,
   "id": "f9e076c7-268d-443d-99a7-48e8c9c02bd6",
   "metadata": {},
   "outputs": [],
   "source": [
    "std = Student(\"Kiran\")"
   ]
  },
  {
   "cell_type": "code",
   "execution_count": 3,
   "id": "b0c6cb7b-670a-409c-9888-68c76ab4ea8c",
   "metadata": {},
   "outputs": [
    {
     "data": {
      "text/plain": [
       "'Kiran'"
      ]
     },
     "execution_count": 3,
     "metadata": {},
     "output_type": "execute_result"
    }
   ],
   "source": [
    "std.name"
   ]
  },
  {
   "cell_type": "code",
   "execution_count": 4,
   "id": "bf3f5944-d03d-4ff8-8c46-acc0c98826b9",
   "metadata": {},
   "outputs": [
    {
     "name": "stdout",
     "output_type": "stream",
     "text": [
      "name Kiran college PWSkills\n"
     ]
    }
   ],
   "source": [
    "std.show()"
   ]
  },
  {
   "cell_type": "code",
   "execution_count": 5,
   "id": "9ba0bd73-2439-4d02-911c-59e5951d0454",
   "metadata": {},
   "outputs": [],
   "source": [
    "clg = College()"
   ]
  },
  {
   "cell_type": "code",
   "execution_count": 6,
   "id": "abdbc705-a2ed-4efd-9103-2e02cf7b055c",
   "metadata": {},
   "outputs": [
    {
     "data": {
      "text/plain": [
       "'PWSkills'"
      ]
     },
     "execution_count": 6,
     "metadata": {},
     "output_type": "execute_result"
    }
   ],
   "source": [
    "clg._college_name"
   ]
  },
  {
   "cell_type": "code",
   "execution_count": null,
   "id": "98b62e65-1580-4897-b139-b18d76e0542a",
   "metadata": {},
   "outputs": [],
   "source": []
  },
  {
   "cell_type": "markdown",
   "id": "07845530-91ec-4ea1-aa86-8f912636f3d7",
   "metadata": {},
   "source": [
    "### 6. Describe the five types of inheritance in Python. Provide a simple example of multiple inheritance."
   ]
  },
  {
   "cell_type": "code",
   "execution_count": 8,
   "id": "d7c80bc7-4721-41ae-b226-e941e86ef5c8",
   "metadata": {},
   "outputs": [],
   "source": [
    "# There are five types of inheritence present.4\n",
    "# 1. Single inheritence: Whern a derived class has only one parent class."
   ]
  },
  {
   "cell_type": "code",
   "execution_count": 9,
   "id": "2d70e6be-1df0-4132-9ab7-675b2f0a79a9",
   "metadata": {},
   "outputs": [],
   "source": [
    "class Parent:\n",
    "    def show(self):\n",
    "        print(\"This is parent class\")\n",
    "class Child(Parent):\n",
    "    def display(self):\n",
    "        print(\"This is child class\")\n",
    "cls =Child()"
   ]
  },
  {
   "cell_type": "code",
   "execution_count": 10,
   "id": "01907777-ced1-4cf9-96f1-37c02cc0ada4",
   "metadata": {},
   "outputs": [
    {
     "name": "stdout",
     "output_type": "stream",
     "text": [
      "This is child class\n"
     ]
    }
   ],
   "source": [
    "cls.display()"
   ]
  },
  {
   "cell_type": "code",
   "execution_count": 11,
   "id": "955fabc7-7c64-40de-99b0-8a570ec487d5",
   "metadata": {},
   "outputs": [
    {
     "name": "stdout",
     "output_type": "stream",
     "text": [
      "This is parent class\n"
     ]
    }
   ],
   "source": [
    "cls.show()"
   ]
  },
  {
   "cell_type": "code",
   "execution_count": 12,
   "id": "49cdc5e0-e9f1-493b-af3b-f6b60d32ed8c",
   "metadata": {},
   "outputs": [],
   "source": [
    "# Multilevel Inheritence : This is another type of inheritence Where a class inherit from a class and which itself \n",
    "# inherit from another class\n",
    "class Grand:\n",
    "    def show(self):\n",
    "        print(\"This is Grand class\")\n",
    "class Parent(Grand):\n",
    "    def show1(self):\n",
    "        print(\"This is Parent class\")\n",
    "class Child(Parent):\n",
    "    def show2(self):\n",
    "        print(\"This is child class\")\n",
    "cls = Child()"
   ]
  },
  {
   "cell_type": "code",
   "execution_count": 13,
   "id": "5ed77c18-dfe8-43ac-a2e3-2ea0aa54c76d",
   "metadata": {},
   "outputs": [
    {
     "name": "stdout",
     "output_type": "stream",
     "text": [
      "This is Grand class\n",
      "This is Parent class\n",
      "This is child class\n"
     ]
    }
   ],
   "source": [
    "cls.show()\n",
    "cls.show1()\n",
    "cls.show2()"
   ]
  },
  {
   "cell_type": "code",
   "execution_count": 14,
   "id": "9a9fd023-b18c-4bcb-9d64-3eec65ef41b9",
   "metadata": {},
   "outputs": [],
   "source": [
    "# Multiple Inhritence : It occures when a child class inherit from two or more than two parent class.\n",
    "class Parent:\n",
    "    def show(self):\n",
    "        print(\"This is 1st parent class\")\n",
    "class Parent1:\n",
    "    def show1(self):\n",
    "        print(\"This is 2nd parent class\")\n",
    "class Child(Parent,Parent1):\n",
    "    def display(self):\n",
    "        print(\"This is child class\")\n",
    "cls = Child()"
   ]
  },
  {
   "cell_type": "code",
   "execution_count": 15,
   "id": "5acbcbf2-5b02-453c-9fa3-24f725a06138",
   "metadata": {},
   "outputs": [
    {
     "name": "stdout",
     "output_type": "stream",
     "text": [
      "This is child class\n"
     ]
    }
   ],
   "source": [
    "cls.display()"
   ]
  },
  {
   "cell_type": "code",
   "execution_count": 16,
   "id": "2925b294-7c03-4f0e-b74b-652850b8803f",
   "metadata": {},
   "outputs": [
    {
     "name": "stdout",
     "output_type": "stream",
     "text": [
      "This is 1st parent class\n"
     ]
    }
   ],
   "source": [
    "cls.show()"
   ]
  },
  {
   "cell_type": "code",
   "execution_count": 17,
   "id": "2846ddb9-ec01-4b5e-8eb0-a094afdd710c",
   "metadata": {},
   "outputs": [
    {
     "name": "stdout",
     "output_type": "stream",
     "text": [
      "This is 2nd parent class\n"
     ]
    }
   ],
   "source": [
    "cls.show1()"
   ]
  },
  {
   "cell_type": "code",
   "execution_count": 20,
   "id": "0ad4111a-bae1-4883-a522-1e78755cd438",
   "metadata": {},
   "outputs": [],
   "source": [
    "# Hierarchical Inheritance: A single parent class gives rise to multiple child classes under hierarchical\n",
    "#inheritance. To put it another way, we can say that there is one parent class and several child classes.\n",
    "class Vehicle:\n",
    "    def info(self):\n",
    "        print(\"This is vehicle\")\n",
    "class Car(Vehicle):\n",
    "    def car_info(self, name):\n",
    "        print(\"This is car info\", name)\n",
    "class Truck(Vehicle):\n",
    "    def truck_info(self, name):\n",
    "        print(\"Truck info\", name)\n",
    "c = Car()\n",
    "t = Truck()"
   ]
  },
  {
   "cell_type": "code",
   "execution_count": 21,
   "id": "a9d8cf74-c7d2-4224-a30a-585455e85a04",
   "metadata": {},
   "outputs": [
    {
     "name": "stdout",
     "output_type": "stream",
     "text": [
      "This is vehicle\n"
     ]
    }
   ],
   "source": [
    "c.info()"
   ]
  },
  {
   "cell_type": "code",
   "execution_count": 23,
   "id": "c811ce8f-ed70-4a04-974e-adef2fad53a6",
   "metadata": {},
   "outputs": [
    {
     "name": "stdout",
     "output_type": "stream",
     "text": [
      "This is car info Maruti\n"
     ]
    }
   ],
   "source": [
    "c.car_info(\"Maruti\")"
   ]
  },
  {
   "cell_type": "code",
   "execution_count": 24,
   "id": "a50a04cb-c8e1-402f-bd38-bba7015dd484",
   "metadata": {},
   "outputs": [
    {
     "name": "stdout",
     "output_type": "stream",
     "text": [
      "This is vehicle\n"
     ]
    }
   ],
   "source": [
    "t.info()"
   ]
  },
  {
   "cell_type": "code",
   "execution_count": 26,
   "id": "cfa48ebf-bb67-4eb4-9dab-26edf106494a",
   "metadata": {},
   "outputs": [
    {
     "name": "stdout",
     "output_type": "stream",
     "text": [
      "Truck info Lori\n"
     ]
    }
   ],
   "source": [
    "t.truck_info(\"Lori\")"
   ]
  },
  {
   "cell_type": "code",
   "execution_count": 31,
   "id": "fb342363-66c4-4263-9c10-cd9c259aabb7",
   "metadata": {},
   "outputs": [],
   "source": [
    "# Hybrid Inheritence : multiple types or combination of different inheritance\n",
    "class Vehicle:\n",
    "    def vehicle_info(self):\n",
    "        print(\"Inside the vehicle class\")\n",
    "        \n",
    "class Car(Vehicle):\n",
    "    def car_info(self):\n",
    "        print(\"Inside the car class\")\n",
    "        \n",
    "class Truck(Vehicle):\n",
    "    def truck_info(self):\n",
    "        print(\"Inside truck info\")\n",
    "        \n",
    "class SportsCar(Car, Vehicle):\n",
    "    def sports_info(self):\n",
    "        print(\"Inside sports car class\")\n",
    "        "
   ]
  },
  {
   "cell_type": "code",
   "execution_count": 32,
   "id": "42ae39f2-d015-43ac-9233-8b1d5a6a294a",
   "metadata": {},
   "outputs": [],
   "source": [
    "c =Car()\n",
    "t = Truck()\n",
    "s = SportsCar()"
   ]
  },
  {
   "cell_type": "code",
   "execution_count": 34,
   "id": "343db76b-51ec-46e9-badc-ac735d9571e5",
   "metadata": {},
   "outputs": [
    {
     "name": "stdout",
     "output_type": "stream",
     "text": [
      "Inside the vehicle class\n",
      "Inside the car class\n",
      "Inside the vehicle class\n",
      "Inside truck info\n",
      "Inside sports car class\n",
      "Inside the car class\n",
      "Inside the vehicle class\n"
     ]
    }
   ],
   "source": [
    "c.vehicle_info()\n",
    "c.car_info()\n",
    "t.vehicle_info()\n",
    "t.truck_info()\n",
    "s.sports_info()\n",
    "s.car_info()\n",
    "s.vehicle_info()"
   ]
  },
  {
   "cell_type": "markdown",
   "id": "ef214b19-220a-4b3f-81d6-e70f041ce2da",
   "metadata": {},
   "source": [
    "### 7. What is the Method Resolution Order (MRO) in Python? How can you retrieve it programmatically?"
   ]
  },
  {
   "cell_type": "code",
   "execution_count": 35,
   "id": "d8637a62-7df8-4a8e-8d6d-cca27c2ac43e",
   "metadata": {},
   "outputs": [],
   "source": [
    "class A:\n",
    "    def method(self):\n",
    "        print(\"Method in A\")\n",
    "class B(A):\n",
    "    def method(self):\n",
    "        print(\"Method in B\")\n",
    "class C(A):\n",
    "    def method(self):\n",
    "        print(\"Method in c\")\n",
    "class D(B,C):\n",
    "    pass\n",
    "d = D()"
   ]
  },
  {
   "cell_type": "code",
   "execution_count": 36,
   "id": "68988076-4d5b-4b90-b2df-6a3ff6e5f103",
   "metadata": {},
   "outputs": [
    {
     "name": "stdout",
     "output_type": "stream",
     "text": [
      "Method in B\n"
     ]
    }
   ],
   "source": [
    "d.method()"
   ]
  },
  {
   "cell_type": "code",
   "execution_count": 38,
   "id": "a2eb0031-a778-4e77-ac8c-cc73ffec006b",
   "metadata": {},
   "outputs": [],
   "source": [
    "# In this example We have  four classes A,B,C,D. Both B and C inherit from A and Din herits from both B and C,\n",
    "#All classess define a method call method().\n",
    "# When d.method() is called python follows the MRO to determine the order in which the base classess are searched\n",
    "# for the method, in this case, the MRO is D> B>C>A. so, python looks for the method() in class D first, then in B, \n",
    "# then in c andfinally in A.\n",
    "# As a result the output is \"Method in B\", This is because the B is the first classin the MRO that defines\n",
    "# the method(), so, its implemention in good.\n",
    "# Python MRo algorithm effectively resolves the diamond problem by providing a well defined order for  \n",
    "# method resolution . "
   ]
  },
  {
   "cell_type": "markdown",
   "id": "2c4c572b-f586-4d7d-99d2-2946d83a9b9b",
   "metadata": {},
   "source": [
    "### 8. Create an abstract base class \" Shape\"  with an abstract method \"area()\". Then create two subclasses 'Circle' and 'Rectangle that implement the area()` method."
   ]
  },
  {
   "cell_type": "code",
   "execution_count": 39,
   "id": "d3b001de-127b-4238-b753-83ed9422d562",
   "metadata": {},
   "outputs": [],
   "source": [
    "import abc\n",
    "class Shape:\n",
    "    \n",
    "    @abc.abstractmethod\n",
    "    def calculate_area(self):\n",
    "        pass\n",
    "class Rectangle(Shape):\n",
    "    def calculate_area(self):\n",
    "        return \"Area of rectange is len*breadth\"\n",
    "class Circle(Shape):\n",
    "    def calculate_area(self):\n",
    "        return \"area of circle is pi r **2\""
   ]
  },
  {
   "cell_type": "code",
   "execution_count": 40,
   "id": "05650a5d-c0e0-48cf-9018-b914018ae208",
   "metadata": {},
   "outputs": [
    {
     "data": {
      "text/plain": [
       "'Area of rectange is len*breadth'"
      ]
     },
     "execution_count": 40,
     "metadata": {},
     "output_type": "execute_result"
    }
   ],
   "source": [
    "ret = Rectangle()\n",
    "ret.calculate_area()"
   ]
  },
  {
   "cell_type": "code",
   "execution_count": 41,
   "id": "2911f6e9-c316-4c7d-b08c-a1061b797013",
   "metadata": {},
   "outputs": [
    {
     "data": {
      "text/plain": [
       "'area of circle is pi r **2'"
      ]
     },
     "execution_count": 41,
     "metadata": {},
     "output_type": "execute_result"
    }
   ],
   "source": [
    "cir  =  Circle()\n",
    "cir.calculate_area()"
   ]
  },
  {
   "cell_type": "markdown",
   "id": "8556189e-2550-4d7a-bd03-101eac768648",
   "metadata": {},
   "source": [
    "### 9. Demonstrate polymorphism by creating a function that can work with different shape objects to calculate and print their areas."
   ]
  },
  {
   "cell_type": "code",
   "execution_count": 1,
   "id": "61c8981a-733d-4704-a84b-ca6ffd4e0c79",
   "metadata": {},
   "outputs": [
    {
     "name": "stdout",
     "output_type": "stream",
     "text": [
      "The area is: 78.53981633974483\n",
      "The area is: 24\n"
     ]
    }
   ],
   "source": [
    "import math\n",
    "\n",
    "# Define the Circle class\n",
    "class Circle:\n",
    "    def __init__(self, radius):\n",
    "        self.radius = radius\n",
    "\n",
    "    def area(self):\n",
    "        return math.pi * (self.radius ** 2)\n",
    "\n",
    "# Define the Rectangle class\n",
    "class Rectangle:\n",
    "    def __init__(self, width, height):\n",
    "        self.width = width\n",
    "        self.height = height\n",
    "\n",
    "    def area(self):\n",
    "        return self.width * self.height\n",
    "\n",
    "# Define a function that accepts any shape and prints its area\n",
    "def print_area(shape):\n",
    "    print(f\"The area is: {shape.area()}\")\n",
    "\n",
    "# Example usage:\n",
    "circle = Circle(5)\n",
    "rectangle = Rectangle(4, 6)\n",
    "\n",
    "print_area(circle)     # Works with Circle\n",
    "print_area(rectangle)  # Works with Rectangle\n"
   ]
  },
  {
   "cell_type": "markdown",
   "id": "830e7e99-7a0f-4900-852c-b2320ebfbd23",
   "metadata": {},
   "source": [
    "### 10. Implement encapsulation in a 'BankAccount class with private attributes for balance` and \"account_number. Include methods for deposit, withdrawal, and balance inquiry."
   ]
  },
  {
   "cell_type": "code",
   "execution_count": 2,
   "id": "01f0edf9-0547-4434-b3ec-60cf4f307e71",
   "metadata": {},
   "outputs": [
    {
     "name": "stdout",
     "output_type": "stream",
     "text": [
      "Deposited: $200\n",
      "Current balance: $700\n",
      "Withdrew: $150\n",
      "Current balance: $550\n"
     ]
    }
   ],
   "source": [
    "class BankAccount:\n",
    "    def __init__(self, account_number, initial_balance=0):\n",
    "        self.__account_number = account_number  # Private attribute\n",
    "        self.__balance = initial_balance        # Private attribute\n",
    "\n",
    "    def deposit(self, amount):\n",
    "        if amount > 0:\n",
    "            self.__balance += amount\n",
    "            print(f\"Deposited: ${amount}\")\n",
    "        else:\n",
    "            print(\"Invalid deposit amount.\")\n",
    "\n",
    "    def withdraw(self, amount):\n",
    "        if 0 < amount <= self.__balance:\n",
    "            self.__balance -= amount\n",
    "            print(f\"Withdrew: ${amount}\")\n",
    "        else:\n",
    "            print(\"Invalid withdrawal amount or insufficient funds.\")\n",
    "\n",
    "    def get_balance(self):\n",
    "        return f\"Current balance: ${self.__balance}\"\n",
    "\n",
    "# Example usage:\n",
    "account = BankAccount(\"123456789\", 500)\n",
    "account.deposit(200)\n",
    "print(account.get_balance())    # Output: Current balance: $700\n",
    "account.withdraw(150)\n",
    "print(account.get_balance())    # Output: Current balance: $550\n"
   ]
  },
  {
   "cell_type": "markdown",
   "id": "9cdf02e9-426f-4007-a89c-1268d548d19f",
   "metadata": {},
   "source": [
    "### 11. Write a class that overrides the__str__` and `__add__magic methods. What will these methods allow you to do?"
   ]
  },
  {
   "cell_type": "code",
   "execution_count": 16,
   "id": "cf8a2a94-eb05-4fee-94cf-3461f6d0829c",
   "metadata": {},
   "outputs": [
    {
     "name": "stdout",
     "output_type": "stream",
     "text": [
      "Book: 'Python Basics', Pages: 300\n",
      "Book: 'Advanced Python', Pages: 450\n",
      "750\n"
     ]
    }
   ],
   "source": [
    "class Book:\n",
    "    def __init__(self, title, pages):\n",
    "        self.title = title\n",
    "        self.pages = pages\n",
    "\n",
    "    # Override __str__ to provide a custom string representation\n",
    "    def __str__(self):\n",
    "        return f\"Book: '{self.title}', Pages: {self.pages}\"\n",
    "\n",
    "    # Override __add__ to add pages of two books\n",
    "    def __add__(self, other):\n",
    "        if isinstance(other, Book):\n",
    "            return self.pages + other.pages\n",
    "        return NotImplemented\n",
    "\n",
    "# Example usage:\n",
    "book1 = Book(\"Python Basics\", 300)\n",
    "book2 = Book(\"Advanced Python\", 450)\n",
    "\n",
    "print(book1)             # Output: Book: 'Python Basics', Pages: 300\n",
    "print(book2)             # Output: Book: 'Advanced Python', Pages: 450\n",
    "print(book1 + book2)     # Output: 750\n"
   ]
  },
  {
   "cell_type": "markdown",
   "id": "bc4124f3-f426-474b-894b-918416fef53c",
   "metadata": {},
   "source": [
    "### 12. Create a decorator that measures and prints the execution time of a function."
   ]
  },
  {
   "cell_type": "code",
   "execution_count": 5,
   "id": "61004a05-b7d7-4cec-b3d9-1273be4864c4",
   "metadata": {},
   "outputs": [],
   "source": [
    "import time\n",
    "class Demo:\n",
    "    def __init__(self,fun):\n",
    "       self.fun = fun\n",
    "    def __call__(self,a,b):\n",
    "        start= time.time()\n",
    "        self.fun(a,b)\n",
    "        end = time.time()\n",
    "        print(\"The function execution time is:\", end-start)"
   ]
  },
  {
   "cell_type": "code",
   "execution_count": 6,
   "id": "978d12b7-0adc-4daf-988a-e62c3331d292",
   "metadata": {},
   "outputs": [
    {
     "name": "stdout",
     "output_type": "stream",
     "text": [
      "Ressult is :  99999999999900000\n",
      "The function execution time is: 0.0\n"
     ]
    }
   ],
   "source": [
    "@Demo\n",
    "def ex(a,b):\n",
    "    print(\"Ressult is : \", a*b)\n",
    "ex(100000,999999999999)"
   ]
  },
  {
   "cell_type": "markdown",
   "id": "c107e392-f6b6-4589-9fba-bad4168b4d31",
   "metadata": {},
   "source": [
    "### 13. Explain the concept of the Diamond Problem in multiple inheritance. How does Python resolve it?"
   ]
  },
  {
   "cell_type": "code",
   "execution_count": 7,
   "id": "f7bcba81-cd80-4de8-9a85-0f3dd53e9c9c",
   "metadata": {},
   "outputs": [
    {
     "name": "stdout",
     "output_type": "stream",
     "text": [
      "Method in B\n"
     ]
    }
   ],
   "source": [
    "# The diamond problem is a specific issue that can arise in programming languages that support multiple\n",
    "# inheritance, including Python. It occurs when a class inherits from two or more classes that have a common\n",
    "# base class. This can lead to ambiguity in method resolution, causing conflicts and making it unclear which\n",
    "# version of a method should be used.\n",
    "# To mitigate the diamond problem, Python uses a method resolution order (MRO) algorithm called C3\n",
    "# linearization. The MRO determines the order in which the base classes are searched for a method or attribute. It\n",
    "# follows a specific set of rules to ensure a consistent and unambiguous order.\n",
    "# Here’s an example that demonstrates the diamond problem and how Python resolves it:\n",
    "class A:\n",
    "    def method(self):\n",
    "        print(\"Method in A\")\n",
    "class B(A):\n",
    "    def method(self):\n",
    "        print(\"Method in B\")\n",
    "class C(A):\n",
    "    def method(self):\n",
    "        print(\"Method in c\")\n",
    "class D(B,C):\n",
    "    pass\n",
    "d = D()\n",
    "d.method()"
   ]
  },
  {
   "cell_type": "code",
   "execution_count": 8,
   "id": "839b735e-c0d5-4abc-88de-00362857ef99",
   "metadata": {},
   "outputs": [],
   "source": [
    "# In this example We have  four classes A,B,C,D. Both B and C inherit from A and Din herits from both B and C,\n",
    "#All classess define a method call method().\n",
    "# When d.method() is called python follows the MRO to determine the order in which the base classess are searched\n",
    "# for the method, in this case, the MRO is D> B>C>A. so, python looks for the method() in class D first, then in B, \n",
    "# then in c andfinally in A.\n",
    "# As a result the output is \"Method in B\", This is because the B is the first classin the MRO that defines\n",
    "# the method(), so, its implemention in good.\n",
    "# Python MRo algorithm effectively resolves the diamond problem by providing a well defined order for  \n",
    "# method resolution . "
   ]
  },
  {
   "cell_type": "markdown",
   "id": "ca84f5df-b2ca-4b5d-a5d1-1ab89dc10408",
   "metadata": {},
   "source": [
    "### 14. Write a class method that keeps track of the number of instances created from a class."
   ]
  },
  {
   "cell_type": "code",
   "execution_count": 11,
   "id": "78b7c2fb-8ef7-430c-a450-dc0d7e89bd2a",
   "metadata": {},
   "outputs": [],
   "source": [
    "class Demo:\n",
    "    obj_count=0\n",
    "    def __init__(self):\n",
    "        Demo.obj_count = Demo.obj_count+1\n",
    "    @classmethod\n",
    "    def count(cls):\n",
    "        print(\"Count Object : \",cls.obj_count)"
   ]
  },
  {
   "cell_type": "code",
   "execution_count": 12,
   "id": "8fd34f53-f4ea-47ab-907b-6ff7fbc2a891",
   "metadata": {},
   "outputs": [],
   "source": [
    "d = Demo()\n",
    "m = Demo()\n",
    "f = Demo()"
   ]
  },
  {
   "cell_type": "code",
   "execution_count": 13,
   "id": "d2d88329-4ac8-4956-8830-a1105eb49847",
   "metadata": {},
   "outputs": [
    {
     "name": "stdout",
     "output_type": "stream",
     "text": [
      "Count Object :  3\n"
     ]
    }
   ],
   "source": [
    "Demo.count()"
   ]
  },
  {
   "cell_type": "markdown",
   "id": "b6d84cbd-059e-4afa-9856-b2ce2f4fb2d5",
   "metadata": {},
   "source": [
    "### 15. Implement a static method in a class that checks if a given year is a leap year."
   ]
  },
  {
   "cell_type": "code",
   "execution_count": 15,
   "id": "495f6572-5c39-466f-b3ab-8f53133f3c80",
   "metadata": {},
   "outputs": [
    {
     "name": "stdout",
     "output_type": "stream",
     "text": [
      "True\n",
      "False\n"
     ]
    }
   ],
   "source": [
    "class DateUtils:\n",
    "    @staticmethod\n",
    "    def is_leap_year(year):\n",
    "        if (year % 4 == 0 and year % 100 != 0) or (year % 400 == 0):\n",
    "            return True\n",
    "        return False\n",
    "\n",
    "# Example usage:\n",
    "print(DateUtils.is_leap_year(2024)) \n",
    "print(DateUtils.is_leap_year(2023)) \n"
   ]
  },
  {
   "cell_type": "code",
   "execution_count": null,
   "id": "373cadd0-9a13-4cc4-bcf3-126d827717d0",
   "metadata": {},
   "outputs": [],
   "source": []
  }
 ],
 "metadata": {
  "kernelspec": {
   "display_name": "Python 3 (ipykernel)",
   "language": "python",
   "name": "python3"
  },
  "language_info": {
   "codemirror_mode": {
    "name": "ipython",
    "version": 3
   },
   "file_extension": ".py",
   "mimetype": "text/x-python",
   "name": "python",
   "nbconvert_exporter": "python",
   "pygments_lexer": "ipython3",
   "version": "3.12.4"
  }
 },
 "nbformat": 4,
 "nbformat_minor": 5
}

{
 "cells": [
  {
   "cell_type": "markdown",
   "id": "b3ff9af2-0a8d-49a0-921d-38d93ea62a4d",
   "metadata": {},
   "source": [
    "#### 1. Demonstrate three different methods for creating identical 2D arrays in NumPy. Provide the code for each method and the final output after each method."
   ]
  },
  {
   "cell_type": "code",
   "execution_count": 1,
   "id": "a66acc93-883c-478a-90a3-24b79a8f42be",
   "metadata": {},
   "outputs": [],
   "source": [
    "import numpy as np"
   ]
  },
  {
   "cell_type": "code",
   "execution_count": 9,
   "id": "3b9a5074-1c38-48b3-afd4-0d55576f880c",
   "metadata": {},
   "outputs": [
    {
     "data": {
      "text/plain": [
       "array([[1, 2, 3],\n",
       "       [4, 5, 6]])"
      ]
     },
     "execution_count": 9,
     "metadata": {},
     "output_type": "execute_result"
    }
   ],
   "source": [
    "# 1. Using np.array()\n",
    "array1=np.array([[1,2,3],[4,5,6]])\n",
    "array1"
   ]
  },
  {
   "cell_type": "code",
   "execution_count": 11,
   "id": "02a90df6-d204-406b-afaf-fbdf01242f20",
   "metadata": {},
   "outputs": [
    {
     "data": {
      "text/plain": [
       "array([[1, 2, 3],\n",
       "       [4, 5, 6]])"
      ]
     },
     "execution_count": 11,
     "metadata": {},
     "output_type": "execute_result"
    }
   ],
   "source": [
    "# 2. Using np.zeros() \n",
    "array2= np.zeros((2,3), dtype=int)\n",
    "array2[0]=[1,2,3]\n",
    "array2[1]=[4,5,6]\n",
    "array2"
   ]
  },
  {
   "cell_type": "code",
   "execution_count": 12,
   "id": "ebed0522-e09e-4f7b-9e4f-f27d49eaecff",
   "metadata": {},
   "outputs": [
    {
     "data": {
      "text/plain": [
       "array([[1, 2, 3],\n",
       "       [4, 5, 6]])"
      ]
     },
     "execution_count": 12,
     "metadata": {},
     "output_type": "execute_result"
    }
   ],
   "source": [
    "# 3. # using np.full()\n",
    "array3=np.full((2,3),0)\n",
    "array3[0]=[1,2,3]\n",
    "array3[1]=[4,5,6]\n",
    "array3"
   ]
  },
  {
   "cell_type": "markdown",
   "id": "0253f3e0-f8aa-41d7-92d9-d0df063b33aa",
   "metadata": {},
   "source": [
    "#### 2. Using the Numpy function, generate an array of 100 evenly spaced numbers between 1 and 10 and Reshape that ID array into a 2D array."
   ]
  },
  {
   "cell_type": "code",
   "execution_count": 20,
   "id": "06c58ac3-f128-4876-a444-0792cf2d8435",
   "metadata": {},
   "outputs": [
    {
     "name": "stdout",
     "output_type": "stream",
     "text": [
      "After reshape 2d array :  [[ 1.          1.09090909  1.18181818  1.27272727  1.36363636  1.45454545\n",
      "   1.54545455  1.63636364  1.72727273  1.81818182  1.90909091  2.\n",
      "   2.09090909  2.18181818  2.27272727  2.36363636  2.45454545  2.54545455\n",
      "   2.63636364  2.72727273]\n",
      " [ 2.81818182  2.90909091  3.          3.09090909  3.18181818  3.27272727\n",
      "   3.36363636  3.45454545  3.54545455  3.63636364  3.72727273  3.81818182\n",
      "   3.90909091  4.          4.09090909  4.18181818  4.27272727  4.36363636\n",
      "   4.45454545  4.54545455]\n",
      " [ 4.63636364  4.72727273  4.81818182  4.90909091  5.          5.09090909\n",
      "   5.18181818  5.27272727  5.36363636  5.45454545  5.54545455  5.63636364\n",
      "   5.72727273  5.81818182  5.90909091  6.          6.09090909  6.18181818\n",
      "   6.27272727  6.36363636]\n",
      " [ 6.45454545  6.54545455  6.63636364  6.72727273  6.81818182  6.90909091\n",
      "   7.          7.09090909  7.18181818  7.27272727  7.36363636  7.45454545\n",
      "   7.54545455  7.63636364  7.72727273  7.81818182  7.90909091  8.\n",
      "   8.09090909  8.18181818]\n",
      " [ 8.27272727  8.36363636  8.45454545  8.54545455  8.63636364  8.72727273\n",
      "   8.81818182  8.90909091  9.          9.09090909  9.18181818  9.27272727\n",
      "   9.36363636  9.45454545  9.54545455  9.63636364  9.72727273  9.81818182\n",
      "   9.90909091 10.        ]]\n"
     ]
    }
   ],
   "source": [
    "arr=np.linspace(1,10,100)\n",
    "re_arr= arr.reshape(5,20)\n",
    "print(\"After reshape 2d array : \",re_arr)"
   ]
  },
  {
   "cell_type": "markdown",
   "id": "bfab61b7-10e7-4036-8c86-165e9beb2140",
   "metadata": {},
   "source": [
    "#### 3. Explain the following terms:• The difference in np.array, np.asarray and np.asanyarray.• The difference between Deep copy and shallow copy."
   ]
  },
  {
   "cell_type": "code",
   "execution_count": null,
   "id": "ebb3f1a1-b3cc-43ee-a666-eabc846de1c8",
   "metadata": {},
   "outputs": [],
   "source": [
    "# The difference in np.array, np.asarray and np.asanyarray"
   ]
  },
  {
   "cell_type": "code",
   "execution_count": 22,
   "id": "5df82ec3-4a14-40e1-89fd-df3475c912c5",
   "metadata": {},
   "outputs": [
    {
     "data": {
      "text/plain": [
       "matrix([[1, 2, 3, 4]])"
      ]
     },
     "execution_count": 22,
     "metadata": {},
     "output_type": "execute_result"
    }
   ],
   "source": [
    "mat= np.matrix([1,2,3,4])\n",
    "mat"
   ]
  },
  {
   "cell_type": "code",
   "execution_count": 27,
   "id": "b7ee4228-260f-4a21-8501-8e058a9d2cc7",
   "metadata": {},
   "outputs": [
    {
     "data": {
      "text/plain": [
       "array([[1, 2, 3, 4]])"
      ]
     },
     "execution_count": 27,
     "metadata": {},
     "output_type": "execute_result"
    }
   ],
   "source": [
    "# np.array() >> Always returns a new array (even if input is an array). copies the input data by default\n",
    "np.array(mat)"
   ]
  },
  {
   "cell_type": "code",
   "execution_count": 31,
   "id": "dc86bca1-bddf-4532-95f6-64c18f2589f5",
   "metadata": {},
   "outputs": [
    {
     "data": {
      "text/plain": [
       "array([[1, 2, 3, 4]])"
      ]
     },
     "execution_count": 31,
     "metadata": {},
     "output_type": "execute_result"
    }
   ],
   "source": [
    "# np.asarray() >>  Convert the input to an array > does not copy input data if the input is already an array\n",
    "np.asarray(mat)"
   ]
  },
  {
   "cell_type": "code",
   "execution_count": 29,
   "id": "4a6a4f16-8d01-4ded-ba6b-3904bc171b75",
   "metadata": {},
   "outputs": [
    {
     "data": {
      "text/plain": [
       "matrix([[1, 2, 3, 4]])"
      ]
     },
     "execution_count": 29,
     "metadata": {},
     "output_type": "execute_result"
    }
   ],
   "source": [
    "# np.asanyarray() Convert the input to an ndarray, but pass ndarray subclasses through.\n",
    "np.asanyarray(mat)"
   ]
  },
  {
   "cell_type": "code",
   "execution_count": 33,
   "id": "934caf1a-b54d-4b98-9f79-18bbb40b74ad",
   "metadata": {},
   "outputs": [],
   "source": [
    "# Deep copy and Shallow copy"
   ]
  },
  {
   "cell_type": "code",
   "execution_count": 34,
   "id": "9a6641d7-7123-4e69-b969-61aee354f495",
   "metadata": {},
   "outputs": [
    {
     "name": "stdout",
     "output_type": "stream",
     "text": [
      "The arr value is =  [1 2 3]\n",
      "The a value is =  [1 2 3]\n",
      "In deep copy if we change the array value of a then arr value automatic change\n",
      "After change one value from a 1 position\n",
      "a value =  [1 5 3]\n",
      "arr value =  [1 5 3]\n"
     ]
    }
   ],
   "source": [
    "# shallow copy\n",
    "arr=np.array([1,2,3])\n",
    "print(\"The arr value is = \",arr)\n",
    "a=arr\n",
    "print(\"The a value is = \",a)\n",
    "print(\"In deep copy if we change the array value of a then arr value automatic change\")\n",
    "a[1]=5\n",
    "print(\"After change one value from a 1 position\")\n",
    "print(\"a value = \",a)\n",
    "print(\"arr value = \",arr)"
   ]
  },
  {
   "cell_type": "code",
   "execution_count": 35,
   "id": "3e4e1f0a-6040-4e9d-a55a-3763f473176d",
   "metadata": {},
   "outputs": [
    {
     "name": "stdout",
     "output_type": "stream",
     "text": [
      "arr value are [7 8 9]\n",
      "a value are [7 8 9]\n",
      "After modify a value\n",
      "Values of a :  [ 7 85  9]\n",
      "Values of arr :  [7 8 9]\n"
     ]
    }
   ],
   "source": [
    "# deep copy >> If we change one value then other array value not be changed because 2 array locate different address\n",
    "arr=np.array([7,8,9])\n",
    "a=arr.copy()\n",
    "print(\"arr value are\", arr)\n",
    "print(\"a value are\",a)\n",
    "a[1]=85\n",
    "print(\"After modify a value\")\n",
    "print(\"Values of a : \",a)\n",
    "print(\"Values of arr : \",arr)"
   ]
  },
  {
   "cell_type": "markdown",
   "id": "83c81a9b-ed85-4af7-81e7-f04e93807751",
   "metadata": {},
   "source": [
    "#### 4. Generate a 3x3 array with random floating-point numbers between 5 and 20. Then, round each number in the array to 2 decimal places."
   ]
  },
  {
   "cell_type": "code",
   "execution_count": 7,
   "id": "38da90ed-7d88-4ab9-92cc-c8a18c587f26",
   "metadata": {},
   "outputs": [
    {
     "data": {
      "text/plain": [
       "array([[6.5 , 5.16, 9.29],\n",
       "       [5.45, 5.06, 8.85],\n",
       "       [9.77, 6.67, 9.27]])"
      ]
     },
     "execution_count": 7,
     "metadata": {},
     "output_type": "execute_result"
    }
   ],
   "source": [
    "arr=np.random.uniform(5,10,(3,3))\n",
    "for i in range(3):\n",
    "    for j in range(3):\n",
    "        arr[i,j] = round(arr[i,j],2)\n",
    "arr"
   ]
  },
  {
   "cell_type": "markdown",
   "id": "8d355755-ced0-4424-a77f-9d71c8ca19f4",
   "metadata": {},
   "source": [
    "#### 5.-Create a NumPy array with random integers between 1 and 10 of shape (5, 6). After creating the array perform the following operations: (a) Extract all even integers from array.  (b) Extract all odd integers from array."
   ]
  },
  {
   "cell_type": "code",
   "execution_count": 25,
   "id": "82b56910-e0e0-499f-b8af-1580000fe2d7",
   "metadata": {},
   "outputs": [
    {
     "data": {
      "text/plain": [
       "array([[5, 1, 8, 2, 5, 6],\n",
       "       [7, 8, 4, 3, 6, 2],\n",
       "       [4, 1, 1, 1, 2, 5],\n",
       "       [6, 3, 1, 2, 9, 3],\n",
       "       [2, 6, 1, 2, 1, 1]], dtype=int32)"
      ]
     },
     "execution_count": 25,
     "metadata": {},
     "output_type": "execute_result"
    }
   ],
   "source": [
    "# Random integer 1 to 10\n",
    "arr=np.random.randint(1,10,(5,6))\n",
    "arr"
   ]
  },
  {
   "cell_type": "code",
   "execution_count": 26,
   "id": "a5c59f4a-3c58-4b2c-a1b4-02d4d29612ce",
   "metadata": {},
   "outputs": [],
   "source": [
    "# (a) Extract all even and odd integer from array.\n",
    "even_arr=arr[arr%2==0]\n",
    "odd_arr=arr[arr%2!=0]"
   ]
  },
  {
   "cell_type": "code",
   "execution_count": 27,
   "id": "caa61083-686b-422f-a3ee-1a5e936de152",
   "metadata": {},
   "outputs": [
    {
     "data": {
      "text/plain": [
       "array([8, 2, 6, 8, 4, 6, 2, 4, 2, 6, 2, 2, 6, 2], dtype=int32)"
      ]
     },
     "execution_count": 27,
     "metadata": {},
     "output_type": "execute_result"
    }
   ],
   "source": [
    "even_arr"
   ]
  },
  {
   "cell_type": "code",
   "execution_count": 28,
   "id": "c535dab6-8181-4f01-ba90-436b64e0b135",
   "metadata": {},
   "outputs": [
    {
     "data": {
      "text/plain": [
       "array([5, 1, 5, 7, 3, 1, 1, 1, 5, 3, 1, 9, 3, 1, 1, 1], dtype=int32)"
      ]
     },
     "execution_count": 28,
     "metadata": {},
     "output_type": "execute_result"
    }
   ],
   "source": [
    "odd_arr"
   ]
  },
  {
   "cell_type": "markdown",
   "id": "7acf3b7f-7982-464b-b7cd-74e471b53f94",
   "metadata": {},
   "source": [
    "#### 6. Create a 3D NumPy array of shape (3, 3, 3) containing random integers between 1 and 10. Perform the following operations: (a) Find the indices of the maximum values along each depth level (third axis).  (b) Perform element-wise multiplication of between both array."
   ]
  },
  {
   "cell_type": "code",
   "execution_count": 68,
   "id": "f423d7dd-b558-45d4-979d-0b7f53d00af7",
   "metadata": {},
   "outputs": [],
   "source": [
    "# 3d array of random integer 1 to 10\n",
    "np.random.seed(0)\n",
    "arr=np.random.randint(1,10,(3,3,3))\n",
    "# (a)\n",
    "max_indices=np.argmax(arr,axis=2) # Returns the indices of the maximum values along an axis.\n",
    "# (b)\n",
    "multiplied_arr=arr*arr"
   ]
  },
  {
   "cell_type": "code",
   "execution_count": 69,
   "id": "a2c28970-1da6-40bd-94ce-627ae8cdfa55",
   "metadata": {},
   "outputs": [
    {
     "data": {
      "text/plain": [
       "array([[0, 1, 0],\n",
       "       [2, 0, 2],\n",
       "       [2, 0, 1]])"
      ]
     },
     "execution_count": 69,
     "metadata": {},
     "output_type": "execute_result"
    }
   ],
   "source": [
    "max_indices"
   ]
  },
  {
   "cell_type": "code",
   "execution_count": 70,
   "id": "9b8269ff-7ae8-4ca9-be52-fbbe377fb617",
   "metadata": {},
   "outputs": [
    {
     "data": {
      "text/plain": [
       "array([[[36,  1, 16],\n",
       "        [16, 64, 16],\n",
       "        [36,  9, 25]],\n",
       "\n",
       "       [[64, 49, 81],\n",
       "        [81,  4, 49],\n",
       "        [64, 64, 81]],\n",
       "\n",
       "       [[ 4, 36, 81],\n",
       "        [25, 16,  1],\n",
       "        [16, 36,  1]]], dtype=int32)"
      ]
     },
     "execution_count": 70,
     "metadata": {},
     "output_type": "execute_result"
    }
   ],
   "source": [
    "multiplied_arr"
   ]
  },
  {
   "cell_type": "markdown",
   "id": "0a20270e-6617-40cc-b833-b19db38ec413",
   "metadata": {},
   "source": [
    "#### 7. Clean and transform the 'Phone' column in the sample dataset to remove non-numeric characters and convert it to a numeric data type. Also display the table attributes and data types of each column."
   ]
  },
  {
   "cell_type": "code",
   "execution_count": 3,
   "id": "1e32a802-fd37-4c1b-93a7-87c121084ffe",
   "metadata": {},
   "outputs": [],
   "source": [
    "import pandas as pd\n",
    "import re"
   ]
  },
  {
   "cell_type": "code",
   "execution_count": 116,
   "id": "99c3b813-efa2-4950-bf69-ace4e82691e1",
   "metadata": {},
   "outputs": [],
   "source": [
    "df = pd.read_csv(\"People Data.csv\")\n",
    "# remove non numaric character\n",
    "df[\"Phone\"]=df[\"Phone\"].apply(lambda x: re.sub(r'\\D', '', str(x)))"
   ]
  },
  {
   "cell_type": "code",
   "execution_count": 117,
   "id": "76cbc62d-aa50-4fe6-8129-8551ee53f2c6",
   "metadata": {},
   "outputs": [
    {
     "data": {
      "text/plain": [
       "0            8571398239\n",
       "1                      \n",
       "2            5997820605\n",
       "3                      \n",
       "4        39041716353010\n",
       "             ...       \n",
       "995          0217752933\n",
       "996    0011497107799721\n",
       "997    1750774412833265\n",
       "998          9152922254\n",
       "999     079752542467259\n",
       "Name: Phone, Length: 1000, dtype: object"
      ]
     },
     "execution_count": 117,
     "metadata": {},
     "output_type": "execute_result"
    }
   ],
   "source": [
    "df[\"Phone\"]"
   ]
  },
  {
   "cell_type": "code",
   "execution_count": 118,
   "id": "2471588f-cfce-4228-ba1b-71dd89650154",
   "metadata": {},
   "outputs": [
    {
     "name": "stdout",
     "output_type": "stream",
     "text": [
      "<class 'pandas.core.frame.DataFrame'>\n",
      "RangeIndex: 1000 entries, 0 to 999\n",
      "Data columns (total 10 columns):\n",
      " #   Column         Non-Null Count  Dtype  \n",
      "---  ------         --------------  -----  \n",
      " 0   Index          1000 non-null   int64  \n",
      " 1   User Id        1000 non-null   object \n",
      " 2   First Name     1000 non-null   object \n",
      " 3   Last Name      1000 non-null   object \n",
      " 4   Gender         1000 non-null   object \n",
      " 5   Email          1000 non-null   object \n",
      " 6   Phone          979 non-null    float64\n",
      " 7   Date of birth  1000 non-null   object \n",
      " 8   Job Title      1000 non-null   object \n",
      " 9   Salary         1000 non-null   int64  \n",
      "dtypes: float64(1), int64(2), object(7)\n",
      "memory usage: 78.3+ KB\n"
     ]
    }
   ],
   "source": [
    "# conver numaric data type\n",
    "df['Phone'] = pd.to_numeric(df['Phone'], errors='coerce')\n",
    "df.info()"
   ]
  },
  {
   "cell_type": "markdown",
   "id": "fbc710ff-5ad9-4af6-b087-6aa3ed0ab383",
   "metadata": {},
   "source": [
    "#### 8. Perform the following tasks using people dataset:"
   ]
  },
  {
   "cell_type": "code",
   "execution_count": 120,
   "id": "6940802e-335c-4801-98aa-9a4cb4846251",
   "metadata": {},
   "outputs": [
    {
     "data": {
      "text/html": [
       "<div>\n",
       "<style scoped>\n",
       "    .dataframe tbody tr th:only-of-type {\n",
       "        vertical-align: middle;\n",
       "    }\n",
       "\n",
       "    .dataframe tbody tr th {\n",
       "        vertical-align: top;\n",
       "    }\n",
       "\n",
       "    .dataframe thead th {\n",
       "        text-align: right;\n",
       "    }\n",
       "</style>\n",
       "<table border=\"1\" class=\"dataframe\">\n",
       "  <thead>\n",
       "    <tr style=\"text-align: right;\">\n",
       "      <th></th>\n",
       "      <th>50</th>\n",
       "      <th>afF3018e9cdd1dA</th>\n",
       "      <th>George</th>\n",
       "      <th>Mercer</th>\n",
       "      <th>Female</th>\n",
       "      <th>douglascontreras@example.net</th>\n",
       "      <th>+1-326-669-0118x4341</th>\n",
       "      <th>11-09-1941</th>\n",
       "      <th>Human resources officer</th>\n",
       "      <th>70000</th>\n",
       "    </tr>\n",
       "  </thead>\n",
       "  <tbody>\n",
       "    <tr>\n",
       "      <th>0</th>\n",
       "      <td>51</td>\n",
       "      <td>CccE5DAb6E288e5</td>\n",
       "      <td>Jo</td>\n",
       "      <td>Zavala</td>\n",
       "      <td>Male</td>\n",
       "      <td>pamela64@example.net</td>\n",
       "      <td>001-859-448-9935x54536</td>\n",
       "      <td>23-11-1992</td>\n",
       "      <td>Nurse, adult</td>\n",
       "      <td>80000</td>\n",
       "    </tr>\n",
       "    <tr>\n",
       "      <th>1</th>\n",
       "      <td>52</td>\n",
       "      <td>DfBDc3621D4bcec</td>\n",
       "      <td>Joshua</td>\n",
       "      <td>Carey</td>\n",
       "      <td>Female</td>\n",
       "      <td>dianashepherd@example.net</td>\n",
       "      <td>001-274-739-8470x814</td>\n",
       "      <td>07-01-1915</td>\n",
       "      <td>Seismic interpreter</td>\n",
       "      <td>70000</td>\n",
       "    </tr>\n",
       "    <tr>\n",
       "      <th>2</th>\n",
       "      <td>53</td>\n",
       "      <td>f55b0A249f5E44D</td>\n",
       "      <td>Rickey</td>\n",
       "      <td>Hobbs</td>\n",
       "      <td>Female</td>\n",
       "      <td>ingramtiffany@example.org</td>\n",
       "      <td>241.179.9509x498</td>\n",
       "      <td>01-07-1910</td>\n",
       "      <td>Barrister</td>\n",
       "      <td>60000</td>\n",
       "    </tr>\n",
       "    <tr>\n",
       "      <th>3</th>\n",
       "      <td>54</td>\n",
       "      <td>Ed71DcfaBFd0beE</td>\n",
       "      <td>Robyn</td>\n",
       "      <td>Reilly</td>\n",
       "      <td>Male</td>\n",
       "      <td>carriecrawford@example.org</td>\n",
       "      <td>207.797.8345x6177</td>\n",
       "      <td>27-07-1982</td>\n",
       "      <td>Engineer, structural</td>\n",
       "      <td>100000</td>\n",
       "    </tr>\n",
       "    <tr>\n",
       "      <th>4</th>\n",
       "      <td>55</td>\n",
       "      <td>FDaFD0c3f5387EC</td>\n",
       "      <td>Christina</td>\n",
       "      <td>Conrad</td>\n",
       "      <td>Male</td>\n",
       "      <td>fuentesclaudia@example.net</td>\n",
       "      <td>001-599-042-7428x143</td>\n",
       "      <td>06-01-1998</td>\n",
       "      <td>Producer, radio</td>\n",
       "      <td>50000</td>\n",
       "    </tr>\n",
       "    <tr>\n",
       "      <th>...</th>\n",
       "      <td>...</td>\n",
       "      <td>...</td>\n",
       "      <td>...</td>\n",
       "      <td>...</td>\n",
       "      <td>...</td>\n",
       "      <td>...</td>\n",
       "      <td>...</td>\n",
       "      <td>...</td>\n",
       "      <td>...</td>\n",
       "      <td>...</td>\n",
       "    </tr>\n",
       "    <tr>\n",
       "      <th>945</th>\n",
       "      <td>996</td>\n",
       "      <td>fedF4c7Fd9e7cFa</td>\n",
       "      <td>Kurt</td>\n",
       "      <td>Bryant</td>\n",
       "      <td>Female</td>\n",
       "      <td>lyonsdaisy@example.net</td>\n",
       "      <td>021.775.2933</td>\n",
       "      <td>05-01-1959</td>\n",
       "      <td>Personnel officer</td>\n",
       "      <td>90000</td>\n",
       "    </tr>\n",
       "    <tr>\n",
       "      <th>946</th>\n",
       "      <td>997</td>\n",
       "      <td>ECddaFEDdEc4FAB</td>\n",
       "      <td>Donna</td>\n",
       "      <td>Barry</td>\n",
       "      <td>Female</td>\n",
       "      <td>dariusbryan@example.com</td>\n",
       "      <td>001-149-710-7799x721</td>\n",
       "      <td>06-10-2001</td>\n",
       "      <td>Education administrator</td>\n",
       "      <td>50000</td>\n",
       "    </tr>\n",
       "    <tr>\n",
       "      <th>947</th>\n",
       "      <td>998</td>\n",
       "      <td>2adde51d8B8979E</td>\n",
       "      <td>Cathy</td>\n",
       "      <td>Mckinney</td>\n",
       "      <td>Female</td>\n",
       "      <td>georgechan@example.org</td>\n",
       "      <td>+1-750-774-4128x33265</td>\n",
       "      <td>13-05-1918</td>\n",
       "      <td>Commercial/residential surveyor</td>\n",
       "      <td>60000</td>\n",
       "    </tr>\n",
       "    <tr>\n",
       "      <th>948</th>\n",
       "      <td>999</td>\n",
       "      <td>Fb2FE369D1E171A</td>\n",
       "      <td>Jermaine</td>\n",
       "      <td>Phelps</td>\n",
       "      <td>Male</td>\n",
       "      <td>wanda04@example.net</td>\n",
       "      <td>(915)292-2254</td>\n",
       "      <td>31-08-1971</td>\n",
       "      <td>Ambulance person</td>\n",
       "      <td>100000</td>\n",
       "    </tr>\n",
       "    <tr>\n",
       "      <th>949</th>\n",
       "      <td>1000</td>\n",
       "      <td>8b756f6231DDC6e</td>\n",
       "      <td>Lee</td>\n",
       "      <td>Tran</td>\n",
       "      <td>Female</td>\n",
       "      <td>deannablack@example.org</td>\n",
       "      <td>079.752.5424x67259</td>\n",
       "      <td>24-01-1947</td>\n",
       "      <td>Nurse, learning disability</td>\n",
       "      <td>90000</td>\n",
       "    </tr>\n",
       "  </tbody>\n",
       "</table>\n",
       "<p>950 rows × 10 columns</p>\n",
       "</div>"
      ],
      "text/plain": [
       "       50  afF3018e9cdd1dA     George    Mercer  Female  \\\n",
       "0      51  CccE5DAb6E288e5         Jo    Zavala    Male   \n",
       "1      52  DfBDc3621D4bcec     Joshua     Carey  Female   \n",
       "2      53  f55b0A249f5E44D     Rickey     Hobbs  Female   \n",
       "3      54  Ed71DcfaBFd0beE      Robyn    Reilly    Male   \n",
       "4      55  FDaFD0c3f5387EC  Christina    Conrad    Male   \n",
       "..    ...              ...        ...       ...     ...   \n",
       "945   996  fedF4c7Fd9e7cFa       Kurt    Bryant  Female   \n",
       "946   997  ECddaFEDdEc4FAB      Donna     Barry  Female   \n",
       "947   998  2adde51d8B8979E      Cathy  Mckinney  Female   \n",
       "948   999  Fb2FE369D1E171A   Jermaine    Phelps    Male   \n",
       "949  1000  8b756f6231DDC6e        Lee      Tran  Female   \n",
       "\n",
       "    douglascontreras@example.net    +1-326-669-0118x4341  11-09-1941  \\\n",
       "0           pamela64@example.net  001-859-448-9935x54536  23-11-1992   \n",
       "1      dianashepherd@example.net    001-274-739-8470x814  07-01-1915   \n",
       "2      ingramtiffany@example.org        241.179.9509x498  01-07-1910   \n",
       "3     carriecrawford@example.org       207.797.8345x6177  27-07-1982   \n",
       "4     fuentesclaudia@example.net    001-599-042-7428x143  06-01-1998   \n",
       "..                           ...                     ...         ...   \n",
       "945       lyonsdaisy@example.net            021.775.2933  05-01-1959   \n",
       "946      dariusbryan@example.com    001-149-710-7799x721  06-10-2001   \n",
       "947       georgechan@example.org   +1-750-774-4128x33265  13-05-1918   \n",
       "948          wanda04@example.net           (915)292-2254  31-08-1971   \n",
       "949      deannablack@example.org      079.752.5424x67259  24-01-1947   \n",
       "\n",
       "             Human resources officer   70000  \n",
       "0                       Nurse, adult   80000  \n",
       "1                Seismic interpreter   70000  \n",
       "2                          Barrister   60000  \n",
       "3               Engineer, structural  100000  \n",
       "4                    Producer, radio   50000  \n",
       "..                               ...     ...  \n",
       "945                Personnel officer   90000  \n",
       "946          Education administrator   50000  \n",
       "947  Commercial/residential surveyor   60000  \n",
       "948                 Ambulance person  100000  \n",
       "949       Nurse, learning disability   90000  \n",
       "\n",
       "[950 rows x 10 columns]"
      ]
     },
     "execution_count": 120,
     "metadata": {},
     "output_type": "execute_result"
    }
   ],
   "source": [
    "# (a) Read the 'data.csv' file using pandas, skipping the first 50 rows.\n",
    "pd.read_csv(\"People Data.csv\", skiprows=50)"
   ]
  },
  {
   "cell_type": "code",
   "execution_count": 128,
   "id": "568dd8e3-057d-4d1a-826f-ab5f0f792f69",
   "metadata": {},
   "outputs": [
    {
     "data": {
      "text/html": [
       "<div>\n",
       "<style scoped>\n",
       "    .dataframe tbody tr th:only-of-type {\n",
       "        vertical-align: middle;\n",
       "    }\n",
       "\n",
       "    .dataframe tbody tr th {\n",
       "        vertical-align: top;\n",
       "    }\n",
       "\n",
       "    .dataframe thead th {\n",
       "        text-align: right;\n",
       "    }\n",
       "</style>\n",
       "<table border=\"1\" class=\"dataframe\">\n",
       "  <thead>\n",
       "    <tr style=\"text-align: right;\">\n",
       "      <th></th>\n",
       "      <th>Last Name</th>\n",
       "      <th>Gender</th>\n",
       "      <th>Email</th>\n",
       "      <th>Phone</th>\n",
       "      <th>Salary</th>\n",
       "    </tr>\n",
       "  </thead>\n",
       "  <tbody>\n",
       "    <tr>\n",
       "      <th>0</th>\n",
       "      <td>Mahoney</td>\n",
       "      <td>Male</td>\n",
       "      <td>pwarner@example.org</td>\n",
       "      <td>857.139.8239</td>\n",
       "      <td>90000</td>\n",
       "    </tr>\n",
       "    <tr>\n",
       "      <th>1</th>\n",
       "      <td>Rivers</td>\n",
       "      <td>Female</td>\n",
       "      <td>fergusonkatherine@example.net</td>\n",
       "      <td>NaN</td>\n",
       "      <td>80000</td>\n",
       "    </tr>\n",
       "    <tr>\n",
       "      <th>2</th>\n",
       "      <td>Lowery</td>\n",
       "      <td>Female</td>\n",
       "      <td>fhoward@example.org</td>\n",
       "      <td>(599)782-0605</td>\n",
       "      <td>50000</td>\n",
       "    </tr>\n",
       "    <tr>\n",
       "      <th>3</th>\n",
       "      <td>Hooper</td>\n",
       "      <td>Male</td>\n",
       "      <td>zjohnston@example.com</td>\n",
       "      <td>NaN</td>\n",
       "      <td>65000</td>\n",
       "    </tr>\n",
       "    <tr>\n",
       "      <th>4</th>\n",
       "      <td>Rice</td>\n",
       "      <td>Female</td>\n",
       "      <td>elin@example.net</td>\n",
       "      <td>(390)417-1635x3010</td>\n",
       "      <td>100000</td>\n",
       "    </tr>\n",
       "    <tr>\n",
       "      <th>...</th>\n",
       "      <td>...</td>\n",
       "      <td>...</td>\n",
       "      <td>...</td>\n",
       "      <td>...</td>\n",
       "      <td>...</td>\n",
       "    </tr>\n",
       "    <tr>\n",
       "      <th>995</th>\n",
       "      <td>Bryant</td>\n",
       "      <td>Female</td>\n",
       "      <td>lyonsdaisy@example.net</td>\n",
       "      <td>021.775.2933</td>\n",
       "      <td>90000</td>\n",
       "    </tr>\n",
       "    <tr>\n",
       "      <th>996</th>\n",
       "      <td>Barry</td>\n",
       "      <td>Female</td>\n",
       "      <td>dariusbryan@example.com</td>\n",
       "      <td>001-149-710-7799x721</td>\n",
       "      <td>50000</td>\n",
       "    </tr>\n",
       "    <tr>\n",
       "      <th>997</th>\n",
       "      <td>Mckinney</td>\n",
       "      <td>Female</td>\n",
       "      <td>georgechan@example.org</td>\n",
       "      <td>+1-750-774-4128x33265</td>\n",
       "      <td>60000</td>\n",
       "    </tr>\n",
       "    <tr>\n",
       "      <th>998</th>\n",
       "      <td>Phelps</td>\n",
       "      <td>Male</td>\n",
       "      <td>wanda04@example.net</td>\n",
       "      <td>(915)292-2254</td>\n",
       "      <td>100000</td>\n",
       "    </tr>\n",
       "    <tr>\n",
       "      <th>999</th>\n",
       "      <td>Tran</td>\n",
       "      <td>Female</td>\n",
       "      <td>deannablack@example.org</td>\n",
       "      <td>079.752.5424x67259</td>\n",
       "      <td>90000</td>\n",
       "    </tr>\n",
       "  </tbody>\n",
       "</table>\n",
       "<p>1000 rows × 5 columns</p>\n",
       "</div>"
      ],
      "text/plain": [
       "    Last Name  Gender                          Email                  Phone  \\\n",
       "0     Mahoney    Male            pwarner@example.org           857.139.8239   \n",
       "1      Rivers  Female  fergusonkatherine@example.net                    NaN   \n",
       "2      Lowery  Female            fhoward@example.org          (599)782-0605   \n",
       "3      Hooper    Male          zjohnston@example.com                    NaN   \n",
       "4        Rice  Female               elin@example.net     (390)417-1635x3010   \n",
       "..        ...     ...                            ...                    ...   \n",
       "995    Bryant  Female         lyonsdaisy@example.net           021.775.2933   \n",
       "996     Barry  Female        dariusbryan@example.com   001-149-710-7799x721   \n",
       "997  Mckinney  Female         georgechan@example.org  +1-750-774-4128x33265   \n",
       "998    Phelps    Male            wanda04@example.net          (915)292-2254   \n",
       "999      Tran  Female        deannablack@example.org     079.752.5424x67259   \n",
       "\n",
       "     Salary  \n",
       "0     90000  \n",
       "1     80000  \n",
       "2     50000  \n",
       "3     65000  \n",
       "4    100000  \n",
       "..      ...  \n",
       "995   90000  \n",
       "996   50000  \n",
       "997   60000  \n",
       "998  100000  \n",
       "999   90000  \n",
       "\n",
       "[1000 rows x 5 columns]"
      ]
     },
     "execution_count": 128,
     "metadata": {},
     "output_type": "execute_result"
    }
   ],
   "source": [
    "# (b) Only read the columns: 'Last Name', 'Gender', 'Email', 'Phone' and 'Salary' from the file.\n",
    "df= pd.read_csv(\"People Data.csv\")\n",
    "df[[\"Last Name\",\"Gender\",\"Email\",\"Phone\",\"Salary\"]]"
   ]
  },
  {
   "cell_type": "code",
   "execution_count": 129,
   "id": "b28070b2-9405-41a6-ae42-1ef180c19fb6",
   "metadata": {},
   "outputs": [
    {
     "data": {
      "text/html": [
       "<div>\n",
       "<style scoped>\n",
       "    .dataframe tbody tr th:only-of-type {\n",
       "        vertical-align: middle;\n",
       "    }\n",
       "\n",
       "    .dataframe tbody tr th {\n",
       "        vertical-align: top;\n",
       "    }\n",
       "\n",
       "    .dataframe thead th {\n",
       "        text-align: right;\n",
       "    }\n",
       "</style>\n",
       "<table border=\"1\" class=\"dataframe\">\n",
       "  <thead>\n",
       "    <tr style=\"text-align: right;\">\n",
       "      <th></th>\n",
       "      <th>Index</th>\n",
       "      <th>User Id</th>\n",
       "      <th>First Name</th>\n",
       "      <th>Last Name</th>\n",
       "      <th>Gender</th>\n",
       "      <th>Email</th>\n",
       "      <th>Phone</th>\n",
       "      <th>Date of birth</th>\n",
       "      <th>Job Title</th>\n",
       "      <th>Salary</th>\n",
       "    </tr>\n",
       "  </thead>\n",
       "  <tbody>\n",
       "    <tr>\n",
       "      <th>0</th>\n",
       "      <td>1</td>\n",
       "      <td>8717bbf45cCDbEe</td>\n",
       "      <td>Shelia</td>\n",
       "      <td>Mahoney</td>\n",
       "      <td>Male</td>\n",
       "      <td>pwarner@example.org</td>\n",
       "      <td>857.139.8239</td>\n",
       "      <td>27-01-2014</td>\n",
       "      <td>Probation officer</td>\n",
       "      <td>90000</td>\n",
       "    </tr>\n",
       "    <tr>\n",
       "      <th>2</th>\n",
       "      <td>3</td>\n",
       "      <td>810Ce0F276Badec</td>\n",
       "      <td>Sheryl</td>\n",
       "      <td>Lowery</td>\n",
       "      <td>Female</td>\n",
       "      <td>fhoward@example.org</td>\n",
       "      <td>(599)782-0605</td>\n",
       "      <td>25-11-2013</td>\n",
       "      <td>Copy</td>\n",
       "      <td>50000</td>\n",
       "    </tr>\n",
       "    <tr>\n",
       "      <th>4</th>\n",
       "      <td>5</td>\n",
       "      <td>9afFEafAe1CBBB9</td>\n",
       "      <td>Lindsey</td>\n",
       "      <td>Rice</td>\n",
       "      <td>Female</td>\n",
       "      <td>elin@example.net</td>\n",
       "      <td>(390)417-1635x3010</td>\n",
       "      <td>15-04-1923</td>\n",
       "      <td>Biomedical engineer</td>\n",
       "      <td>100000</td>\n",
       "    </tr>\n",
       "    <tr>\n",
       "      <th>5</th>\n",
       "      <td>6</td>\n",
       "      <td>aF75e6dDEBC5b66</td>\n",
       "      <td>Sherry</td>\n",
       "      <td>Caldwell</td>\n",
       "      <td>Male</td>\n",
       "      <td>kaitlin13@example.net</td>\n",
       "      <td>8537800927</td>\n",
       "      <td>06-08-1917</td>\n",
       "      <td>Higher education lecturer</td>\n",
       "      <td>50000</td>\n",
       "    </tr>\n",
       "    <tr>\n",
       "      <th>6</th>\n",
       "      <td>7</td>\n",
       "      <td>efeb05c7Cc94EA3</td>\n",
       "      <td>Ernest</td>\n",
       "      <td>Hoffman</td>\n",
       "      <td>Male</td>\n",
       "      <td>jeffharvey@example.com</td>\n",
       "      <td>093.655.7480x7895</td>\n",
       "      <td>22-12-1984</td>\n",
       "      <td>Health visitor</td>\n",
       "      <td>60000</td>\n",
       "    </tr>\n",
       "    <tr>\n",
       "      <th>7</th>\n",
       "      <td>8</td>\n",
       "      <td>fb1BF3FED57E9d7</td>\n",
       "      <td>Doris</td>\n",
       "      <td>Andersen</td>\n",
       "      <td>Male</td>\n",
       "      <td>alicia33@example.org</td>\n",
       "      <td>4709522945</td>\n",
       "      <td>02-12-2016</td>\n",
       "      <td>Air broker</td>\n",
       "      <td>65000</td>\n",
       "    </tr>\n",
       "    <tr>\n",
       "      <th>8</th>\n",
       "      <td>9</td>\n",
       "      <td>421fAB9a3b98F30</td>\n",
       "      <td>Cheryl</td>\n",
       "      <td>Mays</td>\n",
       "      <td>Male</td>\n",
       "      <td>jake50@example.com</td>\n",
       "      <td>013.820.4758</td>\n",
       "      <td>16-12-2012</td>\n",
       "      <td>Designer, multimedia</td>\n",
       "      <td>50000</td>\n",
       "    </tr>\n",
       "    <tr>\n",
       "      <th>9</th>\n",
       "      <td>10</td>\n",
       "      <td>4A42Fe10dB717CB</td>\n",
       "      <td>Harry</td>\n",
       "      <td>Mitchell</td>\n",
       "      <td>Male</td>\n",
       "      <td>lanechristina@example.net</td>\n",
       "      <td>(560)903-5068x4985</td>\n",
       "      <td>29-06-1953</td>\n",
       "      <td>Insurance account manager</td>\n",
       "      <td>50000</td>\n",
       "    </tr>\n",
       "    <tr>\n",
       "      <th>10</th>\n",
       "      <td>11</td>\n",
       "      <td>44FAA9C3CE8DB2B</td>\n",
       "      <td>Casey</td>\n",
       "      <td>Ayala</td>\n",
       "      <td>Male</td>\n",
       "      <td>ncantu@example.com</td>\n",
       "      <td>8629884096</td>\n",
       "      <td>17-04-2020</td>\n",
       "      <td>Scientist, water quality</td>\n",
       "      <td>60000</td>\n",
       "    </tr>\n",
       "    <tr>\n",
       "      <th>11</th>\n",
       "      <td>12</td>\n",
       "      <td>86cCc6417942b4B</td>\n",
       "      <td>Sara</td>\n",
       "      <td>Huff</td>\n",
       "      <td>Male</td>\n",
       "      <td>kristy41@example.net</td>\n",
       "      <td>+1-041-859-3844x272</td>\n",
       "      <td>21-05-1964</td>\n",
       "      <td>Metallurgist</td>\n",
       "      <td>100000</td>\n",
       "    </tr>\n",
       "  </tbody>\n",
       "</table>\n",
       "</div>"
      ],
      "text/plain": [
       "    Index          User Id First Name Last Name  Gender  \\\n",
       "0       1  8717bbf45cCDbEe     Shelia   Mahoney    Male   \n",
       "2       3  810Ce0F276Badec     Sheryl    Lowery  Female   \n",
       "4       5  9afFEafAe1CBBB9    Lindsey      Rice  Female   \n",
       "5       6  aF75e6dDEBC5b66     Sherry  Caldwell    Male   \n",
       "6       7  efeb05c7Cc94EA3     Ernest   Hoffman    Male   \n",
       "7       8  fb1BF3FED57E9d7      Doris  Andersen    Male   \n",
       "8       9  421fAB9a3b98F30     Cheryl      Mays    Male   \n",
       "9      10  4A42Fe10dB717CB      Harry  Mitchell    Male   \n",
       "10     11  44FAA9C3CE8DB2B      Casey     Ayala    Male   \n",
       "11     12  86cCc6417942b4B       Sara      Huff    Male   \n",
       "\n",
       "                        Email                Phone Date of birth  \\\n",
       "0         pwarner@example.org         857.139.8239    27-01-2014   \n",
       "2         fhoward@example.org        (599)782-0605    25-11-2013   \n",
       "4            elin@example.net   (390)417-1635x3010    15-04-1923   \n",
       "5       kaitlin13@example.net           8537800927    06-08-1917   \n",
       "6      jeffharvey@example.com    093.655.7480x7895    22-12-1984   \n",
       "7        alicia33@example.org           4709522945    02-12-2016   \n",
       "8          jake50@example.com         013.820.4758    16-12-2012   \n",
       "9   lanechristina@example.net   (560)903-5068x4985    29-06-1953   \n",
       "10         ncantu@example.com           8629884096    17-04-2020   \n",
       "11       kristy41@example.net  +1-041-859-3844x272    21-05-1964   \n",
       "\n",
       "                    Job Title  Salary  \n",
       "0           Probation officer   90000  \n",
       "2                        Copy   50000  \n",
       "4         Biomedical engineer  100000  \n",
       "5   Higher education lecturer   50000  \n",
       "6              Health visitor   60000  \n",
       "7                  Air broker   65000  \n",
       "8        Designer, multimedia   50000  \n",
       "9   Insurance account manager   50000  \n",
       "10   Scientist, water quality   60000  \n",
       "11               Metallurgist  100000  "
      ]
     },
     "execution_count": 129,
     "metadata": {},
     "output_type": "execute_result"
    }
   ],
   "source": [
    "# (c) Display the first 10 rows of the filtered dataset.\n",
    "# Example filter: Only rows where 'Phone' column is not NaN\n",
    "filtered_df = df[df['Phone'].notna()]\n",
    "# Display the first 10 rows of the filtered dataset\n",
    "filtered_df.head(10)"
   ]
  },
  {
   "cell_type": "code",
   "execution_count": 132,
   "id": "a49a91b7-ddd8-4a74-a1f2-2a1c40cceadc",
   "metadata": {},
   "outputs": [
    {
     "data": {
      "text/plain": [
       "995     90000\n",
       "996     50000\n",
       "997     60000\n",
       "998    100000\n",
       "999     90000\n",
       "Name: Salary, dtype: int64"
      ]
     },
     "execution_count": 132,
     "metadata": {},
     "output_type": "execute_result"
    }
   ],
   "source": [
    "# (d) Extract the 'Salary\" column as a Series and display its last 5 values\n",
    "df[\"Salary\"].tail()"
   ]
  },
  {
   "cell_type": "markdown",
   "id": "0b56fa20-c1cb-4ab1-9b10-976adc0c7ed3",
   "metadata": {},
   "source": [
    "#### 9. Filter and select rows from the People_Dataset, where the \"Last Name' column contains the name 'Duke', 'Gender' column contains the word Female and 'Salary' should be less than 85000."
   ]
  },
  {
   "cell_type": "code",
   "execution_count": 138,
   "id": "7d7618de-c10d-48b9-97ee-9a3ba977306e",
   "metadata": {},
   "outputs": [
    {
     "data": {
      "text/html": [
       "<div>\n",
       "<style scoped>\n",
       "    .dataframe tbody tr th:only-of-type {\n",
       "        vertical-align: middle;\n",
       "    }\n",
       "\n",
       "    .dataframe tbody tr th {\n",
       "        vertical-align: top;\n",
       "    }\n",
       "\n",
       "    .dataframe thead th {\n",
       "        text-align: right;\n",
       "    }\n",
       "</style>\n",
       "<table border=\"1\" class=\"dataframe\">\n",
       "  <thead>\n",
       "    <tr style=\"text-align: right;\">\n",
       "      <th></th>\n",
       "      <th>Index</th>\n",
       "      <th>User Id</th>\n",
       "      <th>First Name</th>\n",
       "      <th>Last Name</th>\n",
       "      <th>Gender</th>\n",
       "      <th>Email</th>\n",
       "      <th>Phone</th>\n",
       "      <th>Date of birth</th>\n",
       "      <th>Job Title</th>\n",
       "      <th>Salary</th>\n",
       "    </tr>\n",
       "  </thead>\n",
       "  <tbody>\n",
       "    <tr>\n",
       "      <th>45</th>\n",
       "      <td>46</td>\n",
       "      <td>99A502C175C4EBd</td>\n",
       "      <td>Olivia</td>\n",
       "      <td>Duke</td>\n",
       "      <td>Female</td>\n",
       "      <td>diana26@example.net</td>\n",
       "      <td>001-366-475-8607x04350</td>\n",
       "      <td>13-10-1934</td>\n",
       "      <td>Dentist</td>\n",
       "      <td>60000</td>\n",
       "    </tr>\n",
       "    <tr>\n",
       "      <th>210</th>\n",
       "      <td>211</td>\n",
       "      <td>DF17975CC0a0373</td>\n",
       "      <td>Katrina</td>\n",
       "      <td>Duke</td>\n",
       "      <td>Female</td>\n",
       "      <td>robin78@example.com</td>\n",
       "      <td>740.434.0212</td>\n",
       "      <td>21-09-1935</td>\n",
       "      <td>Producer, radio</td>\n",
       "      <td>50000</td>\n",
       "    </tr>\n",
       "    <tr>\n",
       "      <th>457</th>\n",
       "      <td>458</td>\n",
       "      <td>dcE1B7DE83c1076</td>\n",
       "      <td>Traci</td>\n",
       "      <td>Duke</td>\n",
       "      <td>Female</td>\n",
       "      <td>perryhoffman@example.org</td>\n",
       "      <td>+1-903-596-0995x489</td>\n",
       "      <td>11-02-1997</td>\n",
       "      <td>Herbalist</td>\n",
       "      <td>50000</td>\n",
       "    </tr>\n",
       "    <tr>\n",
       "      <th>729</th>\n",
       "      <td>730</td>\n",
       "      <td>c9b482D7aa3e682</td>\n",
       "      <td>Lonnie</td>\n",
       "      <td>Duke</td>\n",
       "      <td>Female</td>\n",
       "      <td>kevinkramer@example.net</td>\n",
       "      <td>982.692.6257</td>\n",
       "      <td>12-05-2015</td>\n",
       "      <td>Nurse, adult</td>\n",
       "      <td>70000</td>\n",
       "    </tr>\n",
       "  </tbody>\n",
       "</table>\n",
       "</div>"
      ],
      "text/plain": [
       "     Index          User Id First Name Last Name  Gender  \\\n",
       "45      46  99A502C175C4EBd     Olivia      Duke  Female   \n",
       "210    211  DF17975CC0a0373    Katrina      Duke  Female   \n",
       "457    458  dcE1B7DE83c1076      Traci      Duke  Female   \n",
       "729    730  c9b482D7aa3e682     Lonnie      Duke  Female   \n",
       "\n",
       "                        Email                   Phone Date of birth  \\\n",
       "45        diana26@example.net  001-366-475-8607x04350    13-10-1934   \n",
       "210       robin78@example.com            740.434.0212    21-09-1935   \n",
       "457  perryhoffman@example.org     +1-903-596-0995x489    11-02-1997   \n",
       "729   kevinkramer@example.net            982.692.6257    12-05-2015   \n",
       "\n",
       "           Job Title  Salary  \n",
       "45           Dentist   60000  \n",
       "210  Producer, radio   50000  \n",
       "457        Herbalist   50000  \n",
       "729     Nurse, adult   70000  "
      ]
     },
     "execution_count": 138,
     "metadata": {},
     "output_type": "execute_result"
    }
   ],
   "source": [
    "df[(df[\"Last Name\"]==\"Duke\") & (df[\"Gender\"]==\"Female\") & (df[\"Salary\"]<85000)]"
   ]
  },
  {
   "cell_type": "markdown",
   "id": "d9e08a80-77f2-4ef0-8da7-f1124f2ca9ed",
   "metadata": {},
   "source": [
    "#### 10. Create a 7*5 Dataframe in Pandas using a series generated from 35 random integers between 1 to 6?"
   ]
  },
  {
   "cell_type": "code",
   "execution_count": 149,
   "id": "63ed1589-9563-4cd8-9429-293e698f92f2",
   "metadata": {},
   "outputs": [
    {
     "data": {
      "text/html": [
       "<div>\n",
       "<style scoped>\n",
       "    .dataframe tbody tr th:only-of-type {\n",
       "        vertical-align: middle;\n",
       "    }\n",
       "\n",
       "    .dataframe tbody tr th {\n",
       "        vertical-align: top;\n",
       "    }\n",
       "\n",
       "    .dataframe thead th {\n",
       "        text-align: right;\n",
       "    }\n",
       "</style>\n",
       "<table border=\"1\" class=\"dataframe\">\n",
       "  <thead>\n",
       "    <tr style=\"text-align: right;\">\n",
       "      <th></th>\n",
       "      <th>0</th>\n",
       "      <th>1</th>\n",
       "      <th>2</th>\n",
       "      <th>3</th>\n",
       "      <th>4</th>\n",
       "    </tr>\n",
       "  </thead>\n",
       "  <tbody>\n",
       "    <tr>\n",
       "      <th>0</th>\n",
       "      <td>5</td>\n",
       "      <td>6</td>\n",
       "      <td>1</td>\n",
       "      <td>4</td>\n",
       "      <td>4</td>\n",
       "    </tr>\n",
       "    <tr>\n",
       "      <th>1</th>\n",
       "      <td>4</td>\n",
       "      <td>2</td>\n",
       "      <td>4</td>\n",
       "      <td>6</td>\n",
       "      <td>3</td>\n",
       "    </tr>\n",
       "    <tr>\n",
       "      <th>2</th>\n",
       "      <td>5</td>\n",
       "      <td>1</td>\n",
       "      <td>1</td>\n",
       "      <td>5</td>\n",
       "      <td>3</td>\n",
       "    </tr>\n",
       "    <tr>\n",
       "      <th>3</th>\n",
       "      <td>2</td>\n",
       "      <td>1</td>\n",
       "      <td>2</td>\n",
       "      <td>6</td>\n",
       "      <td>2</td>\n",
       "    </tr>\n",
       "    <tr>\n",
       "      <th>4</th>\n",
       "      <td>6</td>\n",
       "      <td>1</td>\n",
       "      <td>2</td>\n",
       "      <td>5</td>\n",
       "      <td>4</td>\n",
       "    </tr>\n",
       "    <tr>\n",
       "      <th>5</th>\n",
       "      <td>1</td>\n",
       "      <td>4</td>\n",
       "      <td>6</td>\n",
       "      <td>1</td>\n",
       "      <td>3</td>\n",
       "    </tr>\n",
       "    <tr>\n",
       "      <th>6</th>\n",
       "      <td>4</td>\n",
       "      <td>1</td>\n",
       "      <td>2</td>\n",
       "      <td>4</td>\n",
       "      <td>6</td>\n",
       "    </tr>\n",
       "  </tbody>\n",
       "</table>\n",
       "</div>"
      ],
      "text/plain": [
       "   0  1  2  3  4\n",
       "0  5  6  1  4  4\n",
       "1  4  2  4  6  3\n",
       "2  5  1  1  5  3\n",
       "3  2  1  2  6  2\n",
       "4  6  1  2  5  4\n",
       "5  1  4  6  1  3\n",
       "6  4  1  2  4  6"
      ]
     },
     "execution_count": 149,
     "metadata": {},
     "output_type": "execute_result"
    }
   ],
   "source": [
    "np.random.seed(0)\n",
    "random_series=np.random.randint(1,7,35)\n",
    "pd.DataFrame(random_series.reshape(7,5))"
   ]
  },
  {
   "cell_type": "markdown",
   "id": "8c4ec027-9acf-4847-a059-aaf1118755ef",
   "metadata": {},
   "source": [
    "#### 11. . Create two different Series, each of length 50, with the following criteria:"
   ]
  },
  {
   "cell_type": "code",
   "execution_count": 159,
   "id": "b7c98a0d-4d6e-43dc-89c4-0955eb2e0389",
   "metadata": {},
   "outputs": [],
   "source": [
    "np.random.seed(0)\n",
    "# (a) The first Series should contain random numbers ranging from 10 to 50.\n",
    "series_1=pd.Series(np.random.randint(10,50,50))\n",
    "# (b) The second Series should contain random numbers ranging from 100 to 1000.\n",
    "series_2=pd.Series(np.random.randint(100,1000,50))"
   ]
  },
  {
   "cell_type": "code",
   "execution_count": 178,
   "id": "3599cfe7-3275-4153-8b0c-628f8bd58b1f",
   "metadata": {},
   "outputs": [
    {
     "data": {
      "text/html": [
       "<div>\n",
       "<style scoped>\n",
       "    .dataframe tbody tr th:only-of-type {\n",
       "        vertical-align: middle;\n",
       "    }\n",
       "\n",
       "    .dataframe tbody tr th {\n",
       "        vertical-align: top;\n",
       "    }\n",
       "\n",
       "    .dataframe thead th {\n",
       "        text-align: right;\n",
       "    }\n",
       "</style>\n",
       "<table border=\"1\" class=\"dataframe\">\n",
       "  <thead>\n",
       "    <tr style=\"text-align: right;\">\n",
       "      <th></th>\n",
       "      <th>col1</th>\n",
       "      <th>col2</th>\n",
       "    </tr>\n",
       "  </thead>\n",
       "  <tbody>\n",
       "    <tr>\n",
       "      <th>0</th>\n",
       "      <td>10</td>\n",
       "      <td>153</td>\n",
       "    </tr>\n",
       "    <tr>\n",
       "      <th>1</th>\n",
       "      <td>13</td>\n",
       "      <td>650</td>\n",
       "    </tr>\n",
       "    <tr>\n",
       "      <th>2</th>\n",
       "      <td>13</td>\n",
       "      <td>588</td>\n",
       "    </tr>\n",
       "    <tr>\n",
       "      <th>3</th>\n",
       "      <td>49</td>\n",
       "      <td>856</td>\n",
       "    </tr>\n",
       "    <tr>\n",
       "      <th>4</th>\n",
       "      <td>19</td>\n",
       "      <td>373</td>\n",
       "    </tr>\n",
       "  </tbody>\n",
       "</table>\n",
       "</div>"
      ],
      "text/plain": [
       "   col1  col2\n",
       "0    10   153\n",
       "1    13   650\n",
       "2    13   588\n",
       "3    49   856\n",
       "4    19   373"
      ]
     },
     "execution_count": 178,
     "metadata": {},
     "output_type": "execute_result"
    }
   ],
   "source": [
    "# (c) Create a DataFrame by joining these Series by column, and, change the names of the columns to 'coll', 'col2', etc.\n",
    "dataframe=pd.DataFrame(pd.concat([series_1,series_2], axis=1))\n",
    "dataframe.columns=[\"col1\",\"col2\"]\n",
    "dataframe.head()"
   ]
  },
  {
   "cell_type": "markdown",
   "id": "9ae3b1fc-41d7-483b-b7f4-6ef27d790b37",
   "metadata": {},
   "source": [
    "#### 12. Perform the following operations using people data set:"
   ]
  },
  {
   "cell_type": "code",
   "execution_count": 217,
   "id": "5fdb2903-1823-4ff7-9d28-ab8230521863",
   "metadata": {},
   "outputs": [
    {
     "name": "stdout",
     "output_type": "stream",
     "text": [
      "This is the final output\n",
      "     Index          User Id First Name Last Name  Gender  \\\n",
      "0        1  8717bbf45cCDbEe     Shelia   Mahoney    Male   \n",
      "1        2  3d5AD30A4cD38ed         Jo    Rivers  Female   \n",
      "2        3  810Ce0F276Badec     Sheryl    Lowery  Female   \n",
      "3        4  BF2a889C00f0cE1    Whitney    Hooper    Male   \n",
      "4        5  9afFEafAe1CBBB9    Lindsey      Rice  Female   \n",
      "..     ...              ...        ...       ...     ...   \n",
      "995    996  fedF4c7Fd9e7cFa       Kurt    Bryant  Female   \n",
      "996    997  ECddaFEDdEc4FAB      Donna     Barry  Female   \n",
      "997    998  2adde51d8B8979E      Cathy  Mckinney  Female   \n",
      "998    999  Fb2FE369D1E171A   Jermaine    Phelps    Male   \n",
      "999   1000  8b756f6231DDC6e        Lee      Tran  Female   \n",
      "\n",
      "                           Job Title  Salary  \n",
      "0                  Probation officer   90000  \n",
      "1                             Dancer   80000  \n",
      "2                               Copy   50000  \n",
      "3           Counselling psychologist   65000  \n",
      "4                Biomedical engineer  100000  \n",
      "..                               ...     ...  \n",
      "995                Personnel officer   90000  \n",
      "996          Education administrator   50000  \n",
      "997  Commercial/residential surveyor   60000  \n",
      "998                 Ambulance person  100000  \n",
      "999       Nurse, learning disability   90000  \n",
      "\n",
      "[1000 rows x 7 columns]\n"
     ]
    }
   ],
   "source": [
    "df=pd.read_csv(\"People Data.csv\")\n",
    "# # (a) Delete the 'Email', 'Phone', and 'Date of birth' columns from the dataset\n",
    "df=df.drop([\"Email\",\"Phone\",\"Date of birth\"], axis=1)\n",
    "# Delete the rows containing any missing values.\n",
    "df=df.dropna()\n",
    "# Print the final output also.\n",
    "print(\"This is the final output\")\n",
    "print(df)"
   ]
  },
  {
   "cell_type": "markdown",
   "id": "d53e0327-13aa-4453-9639-ede8bed4b5d3",
   "metadata": {},
   "source": [
    "#### 13. Create two NumPy arrays, x and y, each containing 100 random float values between 0 and 1. Perform the following tasks using Matplotlib and NumPy:"
   ]
  },
  {
   "cell_type": "code",
   "execution_count": 219,
   "id": "35489c8a-ed7c-477c-b1c3-adf9beb35174",
   "metadata": {},
   "outputs": [],
   "source": [
    "np.random.seed(0)\n",
    "x=np.random.rand(100)\n",
    "y=np.random.rand(100)"
   ]
  },
  {
   "cell_type": "code",
   "execution_count": 1,
   "id": "62b8f798-2feb-44a5-8431-02280cff23c7",
   "metadata": {},
   "outputs": [],
   "source": [
    "import matplotlib.pyplot as plt"
   ]
  },
  {
   "cell_type": "code",
   "execution_count": 227,
   "id": "e3bea704-54c0-4904-985d-9b6f81a88eba",
   "metadata": {},
   "outputs": [
    {
     "data": {
      "image/png": "[encoded data removed]",
      "text/plain": [
       "<Figure size 640x480 with 1 Axes>"
      ]
     },
     "metadata": {},
     "output_type": "display_data"
    }
   ],
   "source": [
    "# (a) Create a scatter plot using x and y, setting the color of the points to red and the marker style to 'o'.\n",
    "plt.scatter(x,y, color=\"r\", marker=\"o\")\n",
    "# (b) Add a horizontal line at y=0.5 with a dashed line style\n",
    "plt.axhline(y=0.5, color='blue', linestyle='--', label='y = 0.5')\n",
    "# (c) Add a vertical line at x=0.5 with a dotted line style\n",
    "plt.axvline(x=0.5, color='green', linestyle=':', label='x = 0.5')\n",
    "# Label the x-axis and y-axis\n",
    "plt.xlabel('X-axis')\n",
    "plt.ylabel('Y-axis')\n",
    "# Set the title of the plot\n",
    "plt.title('Advanced Scatter Plot of Random Values')\n",
    "# Display the legend\n",
    "plt.legend()\n",
    "plt.show()"
   ]
  },
  {
   "cell_type": "markdown",
   "id": "65e77036-4bb5-4a08-bd11-ef0f31502ff4",
   "metadata": {},
   "source": [
    "#### 14. Create a time-series dataset in a Pandas DataFrame with columns: 'Date', 'Temperature', 'Humidity' and Perform the following tasks using Matplotlib:"
   ]
  },
  {
   "cell_type": "code",
   "execution_count": 53,
   "id": "1eaa24e2-295f-405b-a514-fe0e2c9d24c9",
   "metadata": {},
   "outputs": [],
   "source": [
    "np.random.seed(0)\n",
    "date = pd.date_range('2024-01-01', periods=10)\n",
    "temperature= np.random.uniform(15,30,10)\n",
    "humidity=np.random.uniform(40,90,10)\n",
    "dict={\"Date\":date,\"Temperature\":temperature,\"Humidity\":humidity}\n",
    "df=pd.DataFrame(dict)"
   ]
  },
  {
   "cell_type": "code",
   "execution_count": 54,
   "id": "b8a517c3-8c4f-4477-a1c2-585a8a82d56a",
   "metadata": {},
   "outputs": [
    {
     "data": {
      "image/png": "[encoded data removed]",
      "text/plain": [
       "<Figure size 640x480 with 2 Axes>"
      ]
     },
     "metadata": {},
     "output_type": "display_data"
    }
   ],
   "source": [
    "# a) Plot the 'Temperature' and 'Humidity' on the same plot with different y-axes (left y-axis for 'Temperature' and right y-axis for Humidity').\n",
    "# fig that represent the overall figure. ax1 represents the ploting area with in the figure\n",
    "# plt.subplots() represents the figure and axis object in the same line.\n",
    "fig, ax1 = plt.subplots()\n",
    "# Plot the 'Temperature' and 'Humidity' on the same plot with different y-axes \n",
    "ax1.plot(df[\"Date\"], df[\"Temperature\"],label=\"Temperature\", color = \"blue\")\n",
    "ax1.set_ylabel(\"Temperature\", color=\"b\")\n",
    "ax1.legend(loc=\"upper left\")\n",
    "# create the 2nd y axis that share the same x axis as the first (ax1) axis\n",
    "ax2 = ax1.twinx()\n",
    "# 2nd y axis for humidity\n",
    "ax2.plot(df[\"Date\"],df[\"Humidity\"], label=\"Humidity\", color = \"red\")\n",
    "ax2.set_ylabel(\"Humidity\", color=\"r\")\n",
    "ax2.legend(loc=\"upper right\")\n",
    "# (b) Label the x-axis as 'Date'.\n",
    "plt.xlabel(\"Date\")\n",
    "# (c) Set the title of the plot as Temperature and Humidity Over Time'.\n",
    "plt.title(\"Temperature and Humidity Over Time\")\n",
    "plt.show()"
   ]
  },
  {
   "cell_type": "markdown",
   "id": "b03c5cd1-f9b0-4af6-b207-eb4332709b96",
   "metadata": {},
   "source": [
    "#### 15. Create a NumPy array data containing 1000 samples from a normal distribution. Perform the following tasks using Matplotlib:"
   ]
  },
  {
   "cell_type": "code",
   "execution_count": 57,
   "id": "b7bf1437-c5c8-4bd3-82dc-eca10013e30e",
   "metadata": {},
   "outputs": [
    {
     "data": {
      "image/png": "[encoded data removed]",
      "text/plain": [
       "<Figure size 640x480 with 1 Axes>"
      ]
     },
     "metadata": {},
     "output_type": "display_data"
    }
   ],
   "source": [
    "import numpy as np\n",
    "import matplotlib.pyplot as plt\n",
    "from scipy.stats import norm\n",
    "\n",
    "# Generate 1000 samples from a normal distribution\n",
    "data = np.random.normal(loc=0, scale=1, size=1000)\n",
    "\n",
    "# Plot the histogram\n",
    "plt.hist(data, bins=30, density=True, alpha=0.6)\n",
    "\n",
    "# Calculate the mean and standard deviation of the data\n",
    "mean, std = np.mean(data), np.std(data)\n",
    "\n",
    "# Generate x values for the PDF\n",
    "x = np.linspace(min(data), max(data), 100)\n",
    "\n",
    "# Plot the PDF\n",
    "plt.plot(x, norm.pdf(x, mean, std), color='red', lw=3, label='Normal PDF')\n",
    "\n",
    "# Label the axes and set the title\n",
    "plt.xlabel('Value')\n",
    "plt.ylabel('Frequency/Probability')\n",
    "plt.title('Histogram with PDF Overlay')\n",
    "\n",
    "# Add a legend\n",
    "plt.legend()\n",
    "\n",
    "# Show the plot\n",
    "plt.show()"
   ]
  },
  {
   "cell_type": "markdown",
   "id": "aa8770e3-42a3-4bb7-afdd-950226b725f8",
   "metadata": {},
   "source": [
    "#### 16. 16. Set the title of the plot as 'Histogram with PDF Overlay'."
   ]
  },
  {
   "cell_type": "code",
   "execution_count": 58,
   "id": "ce3fffee-fa9e-467b-971d-640e3405cae0",
   "metadata": {},
   "outputs": [],
   "source": [
    "# Ans >> Already executed in previous answer."
   ]
  },
  {
   "cell_type": "markdown",
   "id": "4fa9d28c-04e3-411c-a63c-3660d3a9f36a",
   "metadata": {},
   "source": [
    "#### 17. - Create a Seaborn scatter plot of two random arrays, color points based on their position relative to the origin (quadrants), add a legend, label the axes, and set the title as 'Quadrant-wise Scatter Plot'."
   ]
  },
  {
   "cell_type": "code",
   "execution_count": 3,
   "id": "58acc9bf-39a9-4f7e-aa14-2da8243873d7",
   "metadata": {},
   "outputs": [],
   "source": [
    "import numpy as np\n",
    "import pandas as pd\n",
    "import seaborn as sns\n",
    "import matplotlib.pyplot as plt"
   ]
  },
  {
   "cell_type": "code",
   "execution_count": 4,
   "id": "68eee8fe-b95f-400a-8613-ad58f4123eeb",
   "metadata": {},
   "outputs": [],
   "source": [
    "np.random.seed(0)\n",
    "x=np.random.randn(100)\n",
    "y=np.random.randn(100)\n",
    "# create dataframe\n",
    "df= pd.DataFrame({\"x\":x,\"y\":y})\n",
    "# Define the quadrant for each point based on the sign of x and y\n",
    "def get_quardrant(x,y):\n",
    "    if x>0 and y>0:\n",
    "        return \"Q1\"\n",
    "    elif x<0 and y>0:\n",
    "        return \"Q2\"\n",
    "    elif x<0 and y<0:\n",
    "        return \"Q3\"\n",
    "    elif x>0 and y<0:\n",
    "        return \"Q4\"\n",
    "# apply\n",
    "df[\"Quardrant\"]=df.apply(lambda row: get_quardrant(row[\"x\"],row[\"y\"]), axis=1)"
   ]
  },
  {
   "cell_type": "code",
   "execution_count": 9,
   "id": "03b94452-5b7b-42a3-ac6c-a326aba83fc8",
   "metadata": {},
   "outputs": [
    {
     "data": {
      "image/png": "[encoded data removed]",
      "text/plain": [
       "<Figure size 582.361x500 with 1 Axes>"
      ]
     },
     "metadata": {},
     "output_type": "display_data"
    }
   ],
   "source": [
    "sns.relplot(data=df,x=\"x\",y=\"y\",hue=\"Quardrant\")\n",
    "plt.xlabel(\"X_axis\")\n",
    "plt.ylabel(\"Y-axis\")\n",
    "plt.title(\"Quardrant-wise scatter plot\")\n",
    "plt.show()"
   ]
  },
  {
   "cell_type": "markdown",
   "id": "26ae53ba-6f66-42d8-86e3-1471417f7525",
   "metadata": {},
   "source": [
    "#### 18. With Bokeh, plot a line chart of a sine wave function, add grid lines, label the axes, and set the title as 'Sine Wave Function'."
   ]
  },
  {
   "cell_type": "code",
   "execution_count": 27,
   "id": "b1ee3c3d-0631-40c3-9db5-7504db0f98cd",
   "metadata": {},
   "outputs": [],
   "source": [
    "import bokeh.io\n",
    "import bokeh.plotting\n",
    "bokeh.io.output_notebook\n",
    "from bokeh.plotting import figure, output_file, show"
   ]
  },
  {
   "cell_type": "code",
   "execution_count": 7,
   "id": "d1b04b40-dc13-4f1f-bf6a-dcba50285da9",
   "metadata": {},
   "outputs": [],
   "source": [
    "x = np.linspace(0, 2*np.pi, 100) # this is the best for to show complete shine wave , range (0 to 2*np.pi)\n",
    "y = np.sin(x)\n",
    "p=figure(title=\"Sine Wave Function\", x_axis_label='x', y_axis_label='y')\n",
    "p.line(x,y)\n",
    "show(p)"
   ]
  },
  {
   "cell_type": "markdown",
   "id": "a05fa46d-4be3-4015-8d24-cef1e9709853",
   "metadata": {},
   "source": [
    "#### 19.Using Bokeh, generate a bar chart of randomly generated categorical data, color bars based on their values, add hover tooltips to display exact values, label the axes, and set the title as 'Random Categorical Bar Chart'."
   ]
  },
  {
   "cell_type": "code",
   "execution_count": 52,
   "id": "2498ba5f-af43-4abc-aebe-79fbade2b059",
   "metadata": {},
   "outputs": [],
   "source": [
    "from bokeh.models import HoverTool\n",
    "np.random.seed(0)\n",
    "categories = ['A', 'B', 'C', 'D', 'E']\n",
    "values = np.random.randint(1, 50, size=len(categories))\n",
    "p = figure(x_range=categories, height=450, title='Random Categorical Bar Chart')\n",
    "p.vbar(x=categories, top=values, width=0.9, color=['red', 'blue', 'green', 'orange', 'purple'])\n",
    "\n",
    "# Add hover tooltips to display exact values\n",
    "hover = HoverTool(tooltips=[('Category', '@x'), ('Value', '@top')])\n",
    "p.add_tools(hover) # add hover tools in the bokeh plot p\n",
    " \n",
    "p.xaxis.axis_label = 'Categories'\n",
    "p.yaxis.axis_label = 'Values'\n",
    "show(p)"
   ]
  },
  {
   "cell_type": "code",
   "execution_count": null,
   "id": "b6c7c6ef-1503-4225-b873-08b09abc105c",
   "metadata": {},
   "outputs": [],
   "source": []
  },
  {
   "cell_type": "code",
   "execution_count": null,
   "id": "df7f0c3f-d3e9-471b-8503-8c9cd8073e45",
   "metadata": {},
   "outputs": [],
   "source": []
  }
 ],
 "metadata": {
  "kernelspec": {
   "display_name": "Python 3 (ipykernel)",
   "language": "python",
   "name": "python3"
  },
  "language_info": {
   "codemirror_mode": {
    "name": "ipython",
    "version": 3
   },
   "file_extension": ".py",
   "mimetype": "text/x-python",
   "name": "python",
   "nbconvert_exporter": "python",
   "pygments_lexer": "ipython3",
   "version": "3.12.4"
  }
 },
 "nbformat": 4,
 "nbformat_minor": 5
}

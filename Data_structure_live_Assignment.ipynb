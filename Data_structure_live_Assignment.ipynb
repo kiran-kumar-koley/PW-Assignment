{
 "cells": [
  {
   "cell_type": "markdown",
   "id": "f24966e7-bf56-4f13-b5d1-3b4fb5a1a474",
   "metadata": {},
   "source": [
    "#### 1. Write a code to reverse a string."
   ]
  },
  {
   "cell_type": "code",
   "execution_count": 2,
   "id": "dba8cef9-f7fe-4c10-a577-82921604189b",
   "metadata": {},
   "outputs": [
    {
     "name": "stdout",
     "output_type": "stream",
     "text": [
      "The given string is  Kiran\n",
      "The reverse of the given string is:  nariK\n"
     ]
    }
   ],
   "source": [
    "string = \"Kiran\"\n",
    "print(\"The given string is \", string)\n",
    "a=string[::-1]\n",
    "print(\"The reverse of the given string is: \",a)"
   ]
  },
  {
   "cell_type": "markdown",
   "id": "55050062-9f5e-4f3b-8912-d3d1ae9d301d",
   "metadata": {},
   "source": [
    "#### 2. Write a code to count the number of vowels in a string."
   ]
  },
  {
   "cell_type": "code",
   "execution_count": 5,
   "id": "80ec370b-e8e3-44ea-b79d-50208f7abb1d",
   "metadata": {},
   "outputs": [
    {
     "data": {
      "text/plain": [
       "('The no. of vowel of the given string is: ', 2)"
      ]
     },
     "execution_count": 5,
     "metadata": {},
     "output_type": "execute_result"
    }
   ],
   "source": [
    "def count_vowel(string):\n",
    "    vowel='aeiouAEIOU'\n",
    "    count=0\n",
    "    for i in vowel:\n",
    "        if i in string:\n",
    "            count=count+1\n",
    "    return \"The no. of vowel of the given string is: \",count\n",
    "count_vowel(\"KIran\")"
   ]
  },
  {
   "cell_type": "markdown",
   "id": "02078e57-0616-458a-b337-322ffa0b3c47",
   "metadata": {},
   "source": [
    "#### 3. Write a code to check if a given string is a palindrome or not."
   ]
  },
  {
   "cell_type": "code",
   "execution_count": 9,
   "id": "c752632a-7378-4aca-9c4a-b2928fbc4a30",
   "metadata": {},
   "outputs": [
    {
     "name": "stdin",
     "output_type": "stream",
     "text": [
      "Enter the string here: wow\n"
     ]
    },
    {
     "name": "stdout",
     "output_type": "stream",
     "text": [
      "wow it is a palindrome string.\n"
     ]
    }
   ],
   "source": [
    "def is_palindrome(string):\n",
    "    a = string.lower()\n",
    "    return a == a[::-1]\n",
    "enter_string = input(\"Enter the string here:\")\n",
    "if is_palindrome(enter_string):\n",
    "    print(f\"{enter_string} it is a palindrome string.\")\n",
    "else:\n",
    "    print(f\"{enter_string} it is not a palindrome string\")"
   ]
  },
  {
   "cell_type": "markdown",
   "id": "fd82f916-4138-4443-a9ad-123373dd5cd5",
   "metadata": {},
   "source": [
    "#### 4. Write a code to check if two given strings are anagrams of each other."
   ]
  },
  {
   "cell_type": "code",
   "execution_count": 16,
   "id": "e88df8b3-f996-42fb-94d5-dacd98d3e4ff",
   "metadata": {},
   "outputs": [
    {
     "name": "stdin",
     "output_type": "stream",
     "text": [
      "Rnter the first string:  Listen\n",
      "Enyer the second string : Silent\n"
     ]
    },
    {
     "name": "stdout",
     "output_type": "stream",
     "text": [
      "Listen,Silent are anagrams of each other.\n"
     ]
    }
   ],
   "source": [
    "def anagrams(str1,str2):\n",
    "    string1=str1.replace(\" \",\"\").lower()\n",
    "    string2=str2.replace(\" \",\"\").lower()\n",
    "    return sorted(string1)==sorted(string2)\n",
    "str1=input(\"Rnter the first string: \")\n",
    "str2= input(\"Enyer the second string :\")\n",
    "if anagrams(str1,str2):\n",
    "    print(f\"{str1},{str2} are anagrams of each other.\")\n",
    "else:\n",
    "    print(f\"{str1},{str2} are not anagrams of each other.\")"
   ]
  },
  {
   "cell_type": "markdown",
   "id": "46f3fd54-8689-4bd9-8294-285c695a4692",
   "metadata": {},
   "source": [
    "#### 5. Write a code to find all occurrences of a given substring within another string."
   ]
  },
  {
   "cell_type": "code",
   "execution_count": 20,
   "id": "5da86e73-c0a1-47aa-9211-cb9322d0371b",
   "metadata": {},
   "outputs": [
    {
     "name": "stdin",
     "output_type": "stream",
     "text": [
      "Enter the main string:  hellohello\n",
      "Enter the substring:  lo\n"
     ]
    },
    {
     "name": "stdout",
     "output_type": "stream",
     "text": [
      "The substring 'lo' occurs at positions: [3, 8]\n"
     ]
    }
   ],
   "source": [
    "def find_all_occurrences(main_string, sub_string):\n",
    "    occurrences = []\n",
    "    start = 0\n",
    "    while True:\n",
    "        index = main_string.find(sub_string, start)\n",
    "        if index == -1:\n",
    "            break\n",
    "        occurrences.append(index)\n",
    "        start = index + 1\n",
    "    return occurrences\n",
    "\n",
    "main_string = input(\"Enter the main string: \") # input for main string is \"hellohello\"\n",
    "sub_string = input(\"Enter the substring: \") # input for sub string is \"lo\"\n",
    "result = find_all_occurrences(main_string, sub_string)\n",
    "\n",
    "if result:\n",
    "    print(f\"The substring '{sub_string}' occurs at positions: {result}\")\n",
    "else:\n",
    "    print(f\"The substring '{sub_string}' was not found.\")\n"
   ]
  },
  {
   "cell_type": "markdown",
   "id": "24442ce9-8f20-41fd-a654-8e8bd91900cb",
   "metadata": {},
   "source": [
    "#### 6. - Write a code to perform basic string compression using the counts of repeated characters."
   ]
  },
  {
   "cell_type": "code",
   "execution_count": 1,
   "id": "bb562e68-51fe-4a71-bb4f-d21072298b77",
   "metadata": {},
   "outputs": [
    {
     "name": "stdin",
     "output_type": "stream",
     "text": [
      "Enter a string:  aaaabbccd\n"
     ]
    },
    {
     "name": "stdout",
     "output_type": "stream",
     "text": [
      "Compressed string: a4b2c2d1\n"
     ]
    }
   ],
   "source": [
    "def compress_string(s):\n",
    "    compressed = []\n",
    "    count = 1\n",
    "    for i in range(1, len(s)):\n",
    "        if s[i] == s[i - 1]:\n",
    "            count += 1\n",
    "        else:\n",
    "            compressed.append(s[i - 1] + str(count))\n",
    "            count = 1\n",
    "    compressed.append(s[-1] + str(count))\n",
    "\n",
    "    compressed_string = ''.join(compressed)\n",
    "    return compressed_string\n",
    "\n",
    "input_string = input(\"Enter a string: \")\n",
    "result = compress_string(input_string)\n",
    "print(\"Compressed string:\", result)\n"
   ]
  },
  {
   "cell_type": "markdown",
   "id": "57e9815c-43a0-45cd-8ff2-ccdb3a8dd9ed",
   "metadata": {},
   "source": [
    "#### 7. Write a code to determine if a string has all unique characters."
   ]
  },
  {
   "cell_type": "code",
   "execution_count": 3,
   "id": "c0f6a494-6cc8-4fec-8cdd-8f0b2fa4e8fa",
   "metadata": {},
   "outputs": [
    {
     "name": "stdin",
     "output_type": "stream",
     "text": [
      "Enter the string: kkkoley\n"
     ]
    },
    {
     "name": "stdout",
     "output_type": "stream",
     "text": [
      "The input string is kkkoley\n",
      "Repeated character are present\n"
     ]
    }
   ],
   "source": [
    "def str_unique(string):\n",
    "    list1=[]\n",
    "    for i in string:\n",
    "        if i in list1:\n",
    "            return False\n",
    "        else:\n",
    "            list1.append(i)\n",
    "    return True\n",
    "string=input(\"Enter the string:\")\n",
    "print(\"The input string is\" ,string)\n",
    "if str_unique(string):\n",
    "    print(\"The given string has unique character\")\n",
    "else:\n",
    "    print(\"Repeated character are present\")"
   ]
  },
  {
   "cell_type": "markdown",
   "id": "2de52238-2175-4550-86bb-556f6fea191f",
   "metadata": {},
   "source": [
    "#### 8. . Write a code to convert a given string to uppercase or lowercase."
   ]
  },
  {
   "cell_type": "code",
   "execution_count": 6,
   "id": "0cdb7e52-64cf-48d1-8947-ebb568dfe59e",
   "metadata": {},
   "outputs": [
    {
     "name": "stdin",
     "output_type": "stream",
     "text": [
      "Enter the string here for upper case :  kiran\n"
     ]
    },
    {
     "name": "stdout",
     "output_type": "stream",
     "text": [
      "The input string for upper case is: kiran\n"
     ]
    },
    {
     "name": "stdin",
     "output_type": "stream",
     "text": [
      "Enter the string here for lower case :  KIRAN\n"
     ]
    },
    {
     "name": "stdout",
     "output_type": "stream",
     "text": [
      "The input string for lower case is: KIRAN\n",
      "The upper case of kiran is KIRAN\n",
      "The Lower case of KIRAN is kiran\n"
     ]
    }
   ],
   "source": [
    "def upper_case(string):\n",
    "    uc=string.upper()\n",
    "    print(f\"The upper case of {string} is {uc}\")\n",
    "\n",
    "def lower_case(string1):\n",
    "    uc=string1.lower()\n",
    "    print(f\"The Lower case of {string1} is {uc}\")\n",
    "\n",
    "string=input(\"Enter the string here for upper case : \")\n",
    "print(\"The input string for upper case is:\",string)\n",
    "string1=input(\"Enter the string here for lower case : \")\n",
    "print(\"The input string for lower case is:\",string1)\n",
    "upper_case(string)\n",
    "lower_case(string1)"
   ]
  },
  {
   "cell_type": "markdown",
   "id": "16ed2271-9436-422f-aa84-86e1c844b491",
   "metadata": {},
   "source": [
    "#### 9. Write a code to count the number of words in a string."
   ]
  },
  {
   "cell_type": "code",
   "execution_count": 11,
   "id": "24279815-603c-4da7-b6c7-82379c440d8f",
   "metadata": {},
   "outputs": [
    {
     "name": "stdin",
     "output_type": "stream",
     "text": [
      "Enter the string I am the best in the universe\n"
     ]
    },
    {
     "name": "stdout",
     "output_type": "stream",
     "text": [
      "The input string is :  I am the best in the universe\n",
      "The no. of words of the given string is 7\n"
     ]
    }
   ],
   "source": [
    "def count_words(string):\n",
    "    words=string.split()\n",
    "    count=len(words)\n",
    "    return count\n",
    "string= input(\"Enter the string\")\n",
    "print(\"The input string is : \",string)\n",
    "print(\"The no. of words of the given string is\",count_words(string))"
   ]
  },
  {
   "cell_type": "markdown",
   "id": "9ddf0060-55fe-41e0-959e-69f24425198f",
   "metadata": {},
   "source": [
    "#### 10. Write a code to concatenate two strings without using the + operator."
   ]
  },
  {
   "cell_type": "code",
   "execution_count": 13,
   "id": "462d4485-e874-44f1-88fb-f5bd01fc3479",
   "metadata": {},
   "outputs": [
    {
     "data": {
      "text/plain": [
       "'Pwskills'"
      ]
     },
     "execution_count": 13,
     "metadata": {},
     "output_type": "execute_result"
    }
   ],
   "source": [
    "str1= \"Pw\"\n",
    "str2=\"skills\"\n",
    "l1=[str1,str2]\n",
    "result= \"\".join(l1)\n",
    "result"
   ]
  },
  {
   "cell_type": "markdown",
   "id": "975fe70f-7080-4ba2-9f38-f1a4c9c878a1",
   "metadata": {},
   "source": [
    "#### 11. Write a code to remove all occurrences of a specific element from a list."
   ]
  },
  {
   "cell_type": "code",
   "execution_count": 25,
   "id": "2f94e2dd-0df4-4af5-b028-48d74ca52d81",
   "metadata": {},
   "outputs": [
    {
     "name": "stdin",
     "output_type": "stream",
     "text": [
      "Enter how many element you want:  5\n",
      "Enter the element here: 1\n",
      "Enter the element here: 2\n",
      "Enter the element here: 3\n",
      "Enter the element here: 2\n",
      "Enter the element here: 2\n"
     ]
    },
    {
     "name": "stdout",
     "output_type": "stream",
     "text": [
      "[1, 2, 3, 2, 2]\n"
     ]
    },
    {
     "name": "stdin",
     "output_type": "stream",
     "text": [
      "what element you want to remove 2\n"
     ]
    },
    {
     "name": "stdout",
     "output_type": "stream",
     "text": [
      "After removing a specific element the lists are:  [1, 3]\n"
     ]
    }
   ],
   "source": [
    "def element_rem(list1):\n",
    "    e_rem=eval(input('what element you want to remove'))\n",
    "    while e_rem in list1:\n",
    "            list1.remove(e_rem)\n",
    "    return list1\n",
    "\n",
    "num=int(input(\"Enter how many element you want: \"))\n",
    "list1=[eval(input(\"Enter the element here:\")) for i in range(num)]\n",
    "print(list1)\n",
    "print(\"After removing a specific element the lists are: \", element_rem(list1))"
   ]
  },
  {
   "cell_type": "markdown",
   "id": "ac8ab101-0bd4-4407-b5d5-f58fb16953b2",
   "metadata": {},
   "source": [
    "#### 12.  Implement a code to find the second largest number in a given list of integers"
   ]
  },
  {
   "cell_type": "code",
   "execution_count": 31,
   "id": "0b79e7bd-3d77-4433-9344-26b0a435dc7f",
   "metadata": {},
   "outputs": [
    {
     "name": "stdout",
     "output_type": "stream",
     "text": [
      "The list is [5, 10, 20, 50, 30]\n",
      "The second largest number of the given list is 30\n"
     ]
    }
   ],
   "source": [
    "list1=[5,10,20,50,30]\n",
    "print(\"The list is\", list1)\n",
    "r=sorted(list1, reverse=True)\n",
    "print(\"The second largest number of the given list is\", r[1])"
   ]
  },
  {
   "cell_type": "markdown",
   "id": "83238cdb-4869-4634-9135-084b0b9273d1",
   "metadata": {},
   "source": [
    "#### 13. Create a code to count the occurrences of each element in a list and return a dictionary with elements as keys and their counts as values."
   ]
  },
  {
   "cell_type": "code",
   "execution_count": 32,
   "id": "e5bfb189-8ab0-4913-91a6-efe4350345cd",
   "metadata": {},
   "outputs": [
    {
     "name": "stdout",
     "output_type": "stream",
     "text": [
      "Output is:  {1: 2, 2: 2, 3: 3, 4: 2}\n"
     ]
    }
   ],
   "source": [
    "list1=[1,2,2,3,3,3,4,4,1]\n",
    "set1=set(list1)\n",
    "list2=list(set1)\n",
    "dicti={}\n",
    "for i in list2:\n",
    "    count=list1.count(i)\n",
    "    dicti[i]=count\n",
    "print(\"Output is: \",dicti)"
   ]
  },
  {
   "cell_type": "markdown",
   "id": "bd2cb055-d46e-4718-a19b-7752d793e813",
   "metadata": {},
   "source": [
    "#### 14. Write a code to reverse a list in-place without using any built-in reverse functions."
   ]
  },
  {
   "cell_type": "code",
   "execution_count": 36,
   "id": "1d1e2c80-3db7-47f6-8085-df5869c7f632",
   "metadata": {},
   "outputs": [
    {
     "name": "stdout",
     "output_type": "stream",
     "text": [
      "[5, 4, 3, 2, 1]\n"
     ]
    }
   ],
   "source": [
    "def reverse_list_in_place(lst):\n",
    "    left = 0\n",
    "    right = len(lst) - 1\n",
    "    while left < right:\n",
    "        lst[left], lst[right] = lst[right], lst[left]\n",
    "        left += 1\n",
    "        right -= 1\n",
    "my_list = [1, 2, 3, 4, 5]\n",
    "reverse_list_in_place(my_list)\n",
    "print(my_list)\n"
   ]
  },
  {
   "cell_type": "markdown",
   "id": "ae90d273-9a1b-4cbe-9cd1-0f7739e46a4d",
   "metadata": {},
   "source": [
    "#### 15. . Implement a code to find and remove duplicates from a list while preserving the original order of elements."
   ]
  },
  {
   "cell_type": "code",
   "execution_count": 37,
   "id": "18eea321-2965-4ace-8c83-06d8337e62eb",
   "metadata": {},
   "outputs": [
    {
     "name": "stdout",
     "output_type": "stream",
     "text": [
      "[1, 2, 3, 4, 5]\n"
     ]
    }
   ],
   "source": [
    "def remove_duplicates(lst):\n",
    "    seen = set()    # A set to keep track of seen elements\n",
    "    result = []     # A list to store the result without duplicates\n",
    "\n",
    "    for item in lst:\n",
    "        if item not in seen:\n",
    "            seen.add(item)    # Add the item to the set of seen elements\n",
    "            result.append(item)  # Add the item to the result list\n",
    "    return result\n",
    "my_list = [1, 2, 2, 3, 4, 4, 5]\n",
    "cleaned_list = remove_duplicates(my_list)\n",
    "print(cleaned_list)  "
   ]
  },
  {
   "cell_type": "markdown",
   "id": "17784f80-1dba-4ed2-90f9-9a5865a02c30",
   "metadata": {},
   "source": [
    "#### 16. - Create a code to check if a given list is sorted (either in ascending or descending order) or not."
   ]
  },
  {
   "cell_type": "code",
   "execution_count": 38,
   "id": "ab95ba4d-37aa-4b75-8ca6-6f8eef1c67cb",
   "metadata": {},
   "outputs": [
    {
     "name": "stdout",
     "output_type": "stream",
     "text": [
      "True\n",
      "True\n",
      "False\n",
      "True\n"
     ]
    }
   ],
   "source": [
    "def is_sorted(lst):\n",
    "    if not lst:  \n",
    "        return True   \n",
    "    ascending = True\n",
    "    descending = True\n",
    "    \n",
    "    for i in range(1, len(lst)):\n",
    "        if lst[i] < lst[i - 1]:\n",
    "            ascending = False\n",
    "            break\n",
    "            \n",
    "    for i in range(1, len(lst)):\n",
    "        if lst[i] > lst[i - 1]:\n",
    "            descending = False\n",
    "            break   \n",
    "    return ascending or descending\n",
    "print(is_sorted([1, 2, 3, 4, 5]))  \n",
    "print(is_sorted([5, 4, 3, 2, 1]))  \n",
    "print(is_sorted([1, 3, 2, 4, 5])) \n",
    "print(is_sorted([]))              \n"
   ]
  },
  {
   "cell_type": "markdown",
   "id": "87d639c0-9777-4517-ba38-b503fd9d06e9",
   "metadata": {},
   "source": [
    "#### 17. Write a code to merge two sorted lists into a single sorted list."
   ]
  },
  {
   "cell_type": "code",
   "execution_count": 39,
   "id": "bc6490d7-5b3d-4105-abf8-b6fa6aeb80ec",
   "metadata": {},
   "outputs": [
    {
     "name": "stdout",
     "output_type": "stream",
     "text": [
      "[1, 2, 3, 4, 5, 6, 7, 8]\n"
     ]
    }
   ],
   "source": [
    "def merge_sorted_lists(list1, list2):\n",
    "    merged_list = []\n",
    "    i = 0  \n",
    "    j = 0  \n",
    "    while i < len(list1) and j < len(list2):\n",
    "        if list1[i] < list2[j]:\n",
    "            merged_list.append(list1[i])\n",
    "            i += 1\n",
    "        else:\n",
    "            merged_list.append(list2[j])\n",
    "            j += 1\n",
    "    while i < len(list1):\n",
    "        merged_list.append(list1[i])\n",
    "        i += 1\n",
    "    while j < len(list2):\n",
    "        merged_list.append(list2[j])\n",
    "        j += 1   \n",
    "    return merged_list\n",
    "\n",
    "list1 = [1, 3, 5, 7]\n",
    "list2 = [2, 4, 6, 8]\n",
    "merged_list = merge_sorted_lists(list1, list2)\n",
    "print(merged_list)  "
   ]
  },
  {
   "cell_type": "markdown",
   "id": "311e30e2-63cc-4895-8911-333edf2bd2e4",
   "metadata": {},
   "source": [
    "#### 18. Implement a code to find the intersection of two given lists."
   ]
  },
  {
   "cell_type": "code",
   "execution_count": 40,
   "id": "4589fae2-d7d4-40f8-9c57-50b3d7615fbe",
   "metadata": {},
   "outputs": [
    {
     "name": "stdout",
     "output_type": "stream",
     "text": [
      "[4, 5]\n"
     ]
    }
   ],
   "source": [
    "def find_intersection(list1, list2):\n",
    "    set1 = set(list1)\n",
    "    set2 = set(list2)\n",
    "    intersection = set1 & set2\n",
    "    return list(intersection)\n",
    "list1 = [1, 2, 3, 4, 5]\n",
    "list2 = [4, 5, 6, 7, 8]\n",
    "intersection_list = find_intersection(list1, list2)\n",
    "print(intersection_list)\n"
   ]
  },
  {
   "cell_type": "markdown",
   "id": "04e05ed9-e789-401d-ba7c-63e874d6268a",
   "metadata": {},
   "source": [
    "#### 19. Create a code to find the union of two lists without duplicates."
   ]
  },
  {
   "cell_type": "code",
   "execution_count": 42,
   "id": "d4d10cc0-111b-4a9e-a41d-ac2d2f6ba14e",
   "metadata": {},
   "outputs": [
    {
     "name": "stdout",
     "output_type": "stream",
     "text": [
      "[1, 2, 3, 4, 5, 6, 7, 8]\n"
     ]
    }
   ],
   "source": [
    "def find_union(list1, list2):\n",
    "    set1 = set(list1)\n",
    "    set2 = set(list2)\n",
    "    union = set1 | set2\n",
    "    return list(union)\n",
    "list1 = [1, 2, 3, 4, 5]\n",
    "list2 = [4, 5, 6, 7, 8]\n",
    "union_list = find_union(list1, list2)\n",
    "print(union_list) \n"
   ]
  },
  {
   "cell_type": "markdown",
   "id": "75dc6d01-52d2-474a-a207-669ff4f81df8",
   "metadata": {},
   "source": [
    "#### 20. Write a code to shuffle a given list randomly without using any built-in shuffle functions."
   ]
  },
  {
   "cell_type": "code",
   "execution_count": 43,
   "id": "7c66a291-40c6-4e43-82fb-64ca8d2f2cf4",
   "metadata": {},
   "outputs": [
    {
     "name": "stdout",
     "output_type": "stream",
     "text": [
      "[4, 1, 3, 2, 5]\n"
     ]
    }
   ],
   "source": [
    "import random\n",
    "def shuffle_list(lst):\n",
    "    for i in range(len(lst) - 1, 0, -1):\n",
    "        j = random.randint(0, i)\n",
    "        lst[i], lst[j] = lst[j], lst[i]\n",
    "my_list = [1, 2, 3, 4, 5]\n",
    "shuffle_list(my_list)\n",
    "print(my_list) \n"
   ]
  },
  {
   "cell_type": "markdown",
   "id": "89dd44a9-bce9-45bc-a992-35125ac14932",
   "metadata": {},
   "source": [
    "#### 21. Write a code that takes two tuples as input and returns a new tuple containing elements that are common to both input tuples."
   ]
  },
  {
   "cell_type": "code",
   "execution_count": 44,
   "id": "1dd96801-9fd3-438f-a8ed-6b665a49b691",
   "metadata": {},
   "outputs": [
    {
     "name": "stdout",
     "output_type": "stream",
     "text": [
      "(4, 5)\n"
     ]
    }
   ],
   "source": [
    "def intersect_tuples(tuple1, tuple2):\n",
    "    set1 = set(tuple1)\n",
    "    set2 = set(tuple2)\n",
    "    intersection = set1 & set2\n",
    "    return tuple(intersection)\n",
    "tuple1 = (1, 2, 3, 4, 5)\n",
    "tuple2 = (4, 5, 6, 7, 8)\n",
    "result = intersect_tuples(tuple1, tuple2)\n",
    "print(result)"
   ]
  },
  {
   "cell_type": "markdown",
   "id": "0c0a560d-3b60-40a4-8568-4b82943fb8d2",
   "metadata": {},
   "source": [
    "#### 22. Create a code that prompts the user to enter two sets of integers separated by commas. Then, print the intersection of these two sets."
   ]
  },
  {
   "cell_type": "code",
   "execution_count": 3,
   "id": "6b0160f0-588b-4139-b129-a31e19df36bf",
   "metadata": {},
   "outputs": [
    {
     "name": "stdin",
     "output_type": "stream",
     "text": [
      "Enter the first set of integers, separated by commas:  4,5,6,7\n"
     ]
    },
    {
     "name": "stdout",
     "output_type": "stream",
     "text": [
      "Set 1 are: {4, 5, 6, 7}\n"
     ]
    },
    {
     "name": "stdin",
     "output_type": "stream",
     "text": [
      "Enter the second set of integers, separated by commas:  6,7,8,9\n"
     ]
    },
    {
     "name": "stdout",
     "output_type": "stream",
     "text": [
      "Set 2 are : {8, 9, 6, 7}\n",
      "The intersection of the two sets is: {6, 7}\n"
     ]
    }
   ],
   "source": [
    "def get_set_from_input(prompt):\n",
    "    user_input = input(prompt)\n",
    "    return set(map(int, user_input.split(',')))\n",
    "\n",
    "def main():\n",
    "    set1 = get_set_from_input(\"Enter the first set of integers, separated by commas: \")\n",
    "    print(\"Set 1 are:\",set1)\n",
    "    set2 = get_set_from_input(\"Enter the second set of integers, separated by commas: \")\n",
    "    print(\"Set 2 are :\",set2)\n",
    "    intersection = set1 & set2\n",
    "    print(\"The intersection of the two sets is:\", intersection)\n",
    "\n",
    "if __name__ == \"__main__\":\n",
    "    main()"
   ]
  },
  {
   "cell_type": "markdown",
   "id": "23bd9181-c590-4197-9f30-19a1af0b2d12",
   "metadata": {},
   "source": [
    "#### 23. - Write a code to concatenate two tuples. The function should take two tuples as input and return a new tuple containing elements from both input tuples."
   ]
  },
  {
   "cell_type": "code",
   "execution_count": 4,
   "id": "e752ca8e-b88d-479c-a652-348a4768352f",
   "metadata": {},
   "outputs": [
    {
     "name": "stdout",
     "output_type": "stream",
     "text": [
      "(1, 2, 3, 4, 5, 6)\n"
     ]
    }
   ],
   "source": [
    "def concatenate_tuples(tuple1, tuple2):\n",
    "    result = tuple1 + tuple2\n",
    "    return result\n",
    "tuple1 = (1, 2, 3)\n",
    "tuple2 = (4, 5, 6)\n",
    "concatenated_tuple = concatenate_tuples(tuple1, tuple2)\n",
    "print(concatenated_tuple)  "
   ]
  },
  {
   "cell_type": "markdown",
   "id": "56ec5315-a037-4cb7-a52f-1c007ebe3bad",
   "metadata": {},
   "source": [
    "#### 24. Develop a code that prompts the user to input two sets of strings. Then, print the elements that are present in the first set but not in the second set."
   ]
  },
  {
   "cell_type": "code",
   "execution_count": 6,
   "id": "f8135d44-f73e-4ee0-8a19-de44cec4d3c2",
   "metadata": {},
   "outputs": [
    {
     "name": "stdin",
     "output_type": "stream",
     "text": [
      "Enter the first set of strings, separated by commas:  kiran,kumar,koley\n"
     ]
    },
    {
     "name": "stdout",
     "output_type": "stream",
     "text": [
      "The set 1 are {'kiran', 'koley', 'kumar'}\n"
     ]
    },
    {
     "name": "stdin",
     "output_type": "stream",
     "text": [
      "Enter the second set of strings, separated by commas:  sankha,kumar,manna\n"
     ]
    },
    {
     "name": "stdout",
     "output_type": "stream",
     "text": [
      "The set 2 are {'kumar', 'manna', 'sankha'}\n",
      "Elements in the first set but not in the second set: {'kiran', 'koley'}\n"
     ]
    }
   ],
   "source": [
    "def get_set_from_input(prompt):\n",
    "    user_input = input(prompt)\n",
    "    return set(user_input.split(','))\n",
    "\n",
    "def main():\n",
    "    set1 = get_set_from_input(\"Enter the first set of strings, separated by commas: \")\n",
    "    print(\"The set 1 are\",set1)\n",
    "    set2 = get_set_from_input(\"Enter the second set of strings, separated by commas: \") \n",
    "    print(\"The set 2 are\",set2)\n",
    "    difference = set1 - set2\n",
    "    print(\"Elements in the first set but not in the second set:\", difference)\n",
    "\n",
    "if __name__ == \"__main__\":\n",
    "    main()"
   ]
  },
  {
   "cell_type": "markdown",
   "id": "e313e543-2a6e-4beb-bf01-b3d7f66823d5",
   "metadata": {},
   "source": [
    "#### 25. - Create a code that takes a tuple and two integers as input. The function should return a new tuple containing elements from the original tuple within the specified range of indices."
   ]
  },
  {
   "cell_type": "code",
   "execution_count": 7,
   "id": "67fb40a5-a253-4a34-8938-4186d50327e0",
   "metadata": {},
   "outputs": [
    {
     "name": "stdout",
     "output_type": "stream",
     "text": [
      "(30, 40, 50)\n"
     ]
    }
   ],
   "source": [
    "def slice_tuple(original_tuple, start_index, end_index):\n",
    "    if not (0 <= start_index <= end_index <= len(original_tuple)):\n",
    "        raise ValueError(\"Indices are out of range or invalid.\")\n",
    "    return original_tuple[start_index:end_index]\n",
    "original_tuple = (10, 20, 30, 40, 50, 60, 70)\n",
    "start_index = 2\n",
    "end_index = 5\n",
    "sliced_tuple = slice_tuple(original_tuple, start_index, end_index)\n",
    "print(sliced_tuple) "
   ]
  },
  {
   "cell_type": "markdown",
   "id": "87e92bb3-c48e-4a5b-af6d-3acf43169b14",
   "metadata": {},
   "source": [
    "#### 26. Write a code that prompts the user to input two sets of characters. Then, print the union of these two sets."
   ]
  },
  {
   "cell_type": "code",
   "execution_count": 9,
   "id": "8f60123d-0001-4d2b-afae-0e066e0912bc",
   "metadata": {},
   "outputs": [
    {
     "name": "stdin",
     "output_type": "stream",
     "text": [
      "Enter the first set of characters, separated by commas:  a,b,c,s\n"
     ]
    },
    {
     "name": "stdout",
     "output_type": "stream",
     "text": [
      "Set1 are:  {'s', 'a', 'c', 'b'}\n"
     ]
    },
    {
     "name": "stdin",
     "output_type": "stream",
     "text": [
      "Enter the second set of characters, separated by commas:  s,b,e,f\n"
     ]
    },
    {
     "name": "stdout",
     "output_type": "stream",
     "text": [
      "Set2 are:  {'s', 'b', 'e', 'f'}\n",
      "The union of the two sets is: {'a', 'b', 'f', 'c', 's', 'e'}\n"
     ]
    }
   ],
   "source": [
    "def get_set_from_input(prompt):\n",
    "    user_input = input(prompt)\n",
    "    return set(user_input.split(','))\n",
    "\n",
    "def main():\n",
    "    set1 = get_set_from_input(\"Enter the first set of characters, separated by commas: \")\n",
    "    print(\"Set1 are: \",set1)\n",
    "    set2 = get_set_from_input(\"Enter the second set of characters, separated by commas: \")\n",
    "    print(\"Set2 are: \",set2)\n",
    "    union = set1 | set2\n",
    "    print(\"The union of the two sets is:\", union)\n",
    "\n",
    "if __name__ == \"__main__\":\n",
    "    main()"
   ]
  },
  {
   "cell_type": "markdown",
   "id": "00e23ca9-292f-4c0d-ba78-fcbccc09d5f3",
   "metadata": {},
   "source": [
    "#### 27. Develop a code that takes a tuple of integers as input. The function should return the maximum and minimum values from the tuple using tuple unpacking."
   ]
  },
  {
   "cell_type": "code",
   "execution_count": 10,
   "id": "f4b3e57c-9ba7-4ae1-9fee-f02b349c915c",
   "metadata": {},
   "outputs": [
    {
     "name": "stdout",
     "output_type": "stream",
     "text": [
      "Maximum value: 23\n",
      "Minimum value: 1\n"
     ]
    }
   ],
   "source": [
    "def find_max_min(input_tuple):\n",
    "    max_val = max(input_tuple)\n",
    "    min_val = min(input_tuple)\n",
    "    return max_val, min_val\n",
    "input_tuple = (10, 5, 8, 23, 1)\n",
    "max_val, min_val = find_max_min(input_tuple)\n",
    "print(f\"Maximum value: {max_val}\")\n",
    "print(f\"Minimum value: {min_val}\")"
   ]
  },
  {
   "cell_type": "markdown",
   "id": "9a26a083-023d-4039-8c2f-eb3316945c2d",
   "metadata": {},
   "source": [
    "#### 28. Create a code that defines two sets of integers. Then, print the union, intersection, and difference of these two sets."
   ]
  },
  {
   "cell_type": "code",
   "execution_count": 11,
   "id": "6b1d54a6-c28f-4633-9741-e3fee44f53c9",
   "metadata": {},
   "outputs": [
    {
     "name": "stdout",
     "output_type": "stream",
     "text": [
      "Union of the two sets: {1, 2, 3, 4, 5, 6, 7, 8}\n",
      "Intersection of the two sets: {4, 5}\n",
      "Difference of the two sets (set1 - set2): {1, 2, 3}\n"
     ]
    }
   ],
   "source": [
    "def main():\n",
    "    # Define two sets of integers\n",
    "    set1 = {1, 2, 3, 4, 5}\n",
    "    set2 = {4, 5, 6, 7, 8}\n",
    "    union_set = set1 | set2\n",
    "    intersection_set = set1 & set2\n",
    "    difference_set = set1 - set2\n",
    "    print(\"Union of the two sets:\", union_set)\n",
    "    print(\"Intersection of the two sets:\", intersection_set)\n",
    "    print(\"Difference of the two sets (set1 - set2):\", difference_set)\n",
    "\n",
    "if __name__ == \"__main__\":\n",
    "    main()\n"
   ]
  },
  {
   "cell_type": "markdown",
   "id": "c382bcff-8154-485b-9409-5fcb44d8c561",
   "metadata": {},
   "source": [
    "#### 29. Write a code that takes a tuple and an element as input. The function should return the count of occurrences of the given element in the tuple."
   ]
  },
  {
   "cell_type": "code",
   "execution_count": 12,
   "id": "7e70366b-ee28-4ab4-8ddd-e280b4edf918",
   "metadata": {},
   "outputs": [
    {
     "name": "stdout",
     "output_type": "stream",
     "text": [
      "The element 2 occurs 3 times in the tuple.\n"
     ]
    }
   ],
   "source": [
    "def count_occurrences(input_tuple, element):\n",
    "    return input_tuple.count(element)\n",
    "input_tuple = (1, 2, 3, 2, 4, 2, 5)\n",
    "element = 2\n",
    "count = count_occurrences(input_tuple, element)\n",
    "print(f\"The element {element} occurs {count} times in the tuple.\")"
   ]
  },
  {
   "cell_type": "markdown",
   "id": "31449eb9-2636-410f-9017-de68d303fab7",
   "metadata": {},
   "source": [
    "#### 30. . Develop a code that prompts the user to input two sets of strings. Then, print the symmetric difference of these two sets."
   ]
  },
  {
   "cell_type": "code",
   "execution_count": 13,
   "id": "31f41b0b-47d9-4e05-98dd-8884316b4579",
   "metadata": {},
   "outputs": [
    {
     "name": "stdin",
     "output_type": "stream",
     "text": [
      "Enter the first set of strings, separated by commas:  kiran,kumar,koley\n"
     ]
    },
    {
     "name": "stdout",
     "output_type": "stream",
     "text": [
      "Set1 are:  {'kiran', 'koley', 'kumar'}\n"
     ]
    },
    {
     "name": "stdin",
     "output_type": "stream",
     "text": [
      "Enter the second set of strings, separated by commas:  koley,kumar,Ronit\n"
     ]
    },
    {
     "name": "stdout",
     "output_type": "stream",
     "text": [
      "Set2 are:  {'kumar', 'koley', 'Ronit'}\n",
      "The symmetric difference of the two sets is: {'Ronit', 'kiran'}\n"
     ]
    }
   ],
   "source": [
    "def get_set_from_input(prompt):\n",
    "    user_input = input(prompt)\n",
    "    return set(user_input.split(','))\n",
    "\n",
    "def main():\n",
    "    set1 = get_set_from_input(\"Enter the first set of strings, separated by commas: \")\n",
    "    print(\"Set1 are: \",set1)\n",
    "    set2 = get_set_from_input(\"Enter the second set of strings, separated by commas: \")\n",
    "    print(\"Set2 are: \",set2)\n",
    "    symmetric_difference = set1 ^ set2\n",
    "    print(\"The symmetric difference of the two sets is:\", symmetric_difference)\n",
    "\n",
    "if __name__ == \"__main__\":\n",
    "    main()\n"
   ]
  },
  {
   "cell_type": "markdown",
   "id": "702a1522-0845-4ccd-ac64-47bb54df7fc6",
   "metadata": {},
   "source": [
    "#### 31. Write a code that takes a list of words as input and returns a dictionary where the keys are unique words and the values are the frequencies of those words in the input list."
   ]
  },
  {
   "cell_type": "code",
   "execution_count": 14,
   "id": "9b88b155-ab9c-415c-a04c-f84d361b704a",
   "metadata": {},
   "outputs": [
    {
     "name": "stdin",
     "output_type": "stream",
     "text": [
      "Enter a list of words separated by spaces:  kiran sankha kiran kiran sankha\n"
     ]
    },
    {
     "name": "stdout",
     "output_type": "stream",
     "text": [
      "Word frequencies: {'kiran': 3, 'sankha': 2}\n"
     ]
    }
   ],
   "source": [
    "def count_word_frequencies(word_list):\n",
    "    word_freq = {}\n",
    "    for word in word_list:\n",
    "        if word in word_freq:\n",
    "            word_freq[word] += 1\n",
    "        else:\n",
    "            word_freq[word] = 1    \n",
    "    return word_freq\n",
    "input_list = input(\"Enter a list of words separated by spaces: \").split()\n",
    "word_frequencies = count_word_frequencies(input_list)\n",
    "print(\"Word frequencies:\", word_frequencies)\n"
   ]
  },
  {
   "cell_type": "markdown",
   "id": "d157ca3f-85e1-4ab7-af25-2cfeddacc2be",
   "metadata": {},
   "source": [
    "#### 32. Write a code that takes two dictionaries as input and merges them into a single dictionary. If there are common keys, the values should be added together."
   ]
  },
  {
   "cell_type": "code",
   "execution_count": 15,
   "id": "493c5006-e880-43ba-85bc-a992819317e6",
   "metadata": {},
   "outputs": [
    {
     "name": "stdout",
     "output_type": "stream",
     "text": [
      "Merged dictionary: {'a': 10, 'b': 35, 'c': 35, 'd': 10}\n"
     ]
    }
   ],
   "source": [
    "def merge_dictionaries(dict1, dict2):\n",
    "    merged_dict = {}\n",
    "    for key, value in dict1.items():\n",
    "        merged_dict[key] = value\n",
    "    for key, value in dict2.items():\n",
    "        if key in merged_dict:\n",
    "            merged_dict[key] += value\n",
    "        else:\n",
    "            merged_dict[key] = value   \n",
    "    return merged_dict\n",
    "dict1 = {'a': 10, 'b': 20, 'c': 30}\n",
    "dict2 = {'b': 15, 'c': 5, 'd': 10}\n",
    "merged_dict = merge_dictionaries(dict1, dict2)\n",
    "print(\"Merged dictionary:\", merged_dict)\n"
   ]
  },
  {
   "cell_type": "markdown",
   "id": "58b04eff-8c47-40f1-9efe-8a20df24dcf9",
   "metadata": {},
   "source": [
    "#### 33. - Write a code to access a value in a nested dictionary. The function should take the dictionary and a list of keys as input, and return the corresponding value. If any of the keys do not exist in the dictionary, the function should return None."
   ]
  },
  {
   "cell_type": "code",
   "execution_count": 16,
   "id": "326e6cc8-c449-4698-bd9f-d212eb1846e7",
   "metadata": {},
   "outputs": [
    {
     "name": "stdout",
     "output_type": "stream",
     "text": [
      "The value for keys ['a', 'b', 'c'] is: 42\n",
      "The value for keys ['a', 'b', 'x'] is: None\n"
     ]
    }
   ],
   "source": [
    "def get_nested_value(d, keys):\n",
    "    current_level = d\n",
    "    for key in keys:\n",
    "        if key in current_level:\n",
    "            current_level = current_level[key]\n",
    "        else:\n",
    "            return None\n",
    "    return current_level\n",
    "nested_dict = {\n",
    "    'a': {\n",
    "        'b': {\n",
    "            'c': 42\n",
    "        }\n",
    "    }\n",
    "}\n",
    "keys = ['a', 'b', 'c']\n",
    "value = get_nested_value(nested_dict, keys)\n",
    "print(f\"The value for keys {keys} is: {value}\")\n",
    "keys_invalid = ['a', 'b', 'x']\n",
    "value_invalid = get_nested_value(nested_dict, keys_invalid)\n",
    "print(f\"The value for keys {keys_invalid} is: {value_invalid}\")\n"
   ]
  },
  {
   "cell_type": "markdown",
   "id": "fcc7285e-1d46-48e6-852e-c901476f895d",
   "metadata": {},
   "source": [
    "#### 34. Write a code that takes a dictionary as input and returns a sorted version of it based on the values. You can choose whether to sort in ascending or descending order."
   ]
  },
  {
   "cell_type": "code",
   "execution_count": 17,
   "id": "95298fcc-7e36-4fd5-9731-1090413a0700",
   "metadata": {},
   "outputs": [
    {
     "name": "stdout",
     "output_type": "stream",
     "text": [
      "Ascending order: {'b': 1, 'c': 2, 'a': 3}\n",
      "Descending order: {'a': 3, 'c': 2, 'b': 1}\n"
     ]
    }
   ],
   "source": [
    "def sort_dictionary_by_value(d, ascending=True):\n",
    "    sorted_dict = dict(sorted(d.items(), key=lambda item: item[1], reverse=not ascending))\n",
    "    return sorted_dict\n",
    "input_dict = {'a': 3, 'b': 1, 'c': 2}\n",
    "ascending_sorted_dict = sort_dictionary_by_value(input_dict, ascending=True)\n",
    "descending_sorted_dict = sort_dictionary_by_value(input_dict, ascending=False)\n",
    "\n",
    "print(\"Ascending order:\", ascending_sorted_dict)\n",
    "print(\"Descending order:\", descending_sorted_dict)\n"
   ]
  },
  {
   "cell_type": "markdown",
   "id": "31b44e2b-cc2e-4945-93b6-d4e7e3337412",
   "metadata": {},
   "source": [
    "#### 35. Write a code that inverts a dictionary, swapping keys and values. Ensure that the inverted dictionary correctly handles cases where multiple keys have the same value by storing the keys as a list in the inverted dictionary."
   ]
  },
  {
   "cell_type": "code",
   "execution_count": 18,
   "id": "c2ba49cd-2a73-47f0-b4e5-79a678d7cd29",
   "metadata": {},
   "outputs": [
    {
     "name": "stdout",
     "output_type": "stream",
     "text": [
      "Inverted dictionary: {1: ['a', 'c'], 2: ['b'], 3: ['d']}\n"
     ]
    }
   ],
   "source": [
    "def invert_dictionary(d):\n",
    "    inverted_dict = {}\n",
    "    for key, value in d.items():\n",
    "        if value in inverted_dict:\n",
    "            inverted_dict[value].append(key)\n",
    "        else:\n",
    "            inverted_dict[value] = [key]\n",
    "    return inverted_dict\n",
    "original_dict = {'a': 1, 'b': 2, 'c': 1, 'd': 3}\n",
    "inverted_dict = invert_dictionary(original_dict)\n",
    "print(\"Inverted dictionary:\", inverted_dict)\n"
   ]
  },
  {
   "cell_type": "code",
   "execution_count": null,
   "id": "71e613ff-596b-4dc9-b4a4-bc5f07656270",
   "metadata": {},
   "outputs": [],
   "source": []
  }
 ],
 "metadata": {
  "kernelspec": {
   "display_name": "Python 3 (ipykernel)",
   "language": "python",
   "name": "python3"
  },
  "language_info": {
   "codemirror_mode": {
    "name": "ipython",
    "version": 3
   },
   "file_extension": ".py",
   "mimetype": "text/x-python",
   "name": "python",
   "nbconvert_exporter": "python",
   "pygments_lexer": "ipython3",
   "version": "3.10.8"
  }
 },
 "nbformat": 4,
 "nbformat_minor": 5
}

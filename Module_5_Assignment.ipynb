{
 "cells": [
  {
   "cell_type": "markdown",
   "id": "2a04e148-66d2-4ee8-ae50-8c4bf88f8782",
   "metadata": {},
   "source": [
    "### 1. Discuss string slicing and provide examples"
   ]
  },
  {
   "cell_type": "markdown",
   "id": "7369def2-67c0-4dc4-915f-1a6b2c619c9c",
   "metadata": {},
   "source": [
    "#### Example of string slicing :"
   ]
  },
  {
   "cell_type": "code",
   "execution_count": 2,
   "id": "3a8efadf-afc3-45d4-8469-6cfe3db3e32e",
   "metadata": {},
   "outputs": [
    {
     "data": {
      "text/plain": [
       "'llo World'"
      ]
     },
     "execution_count": 2,
     "metadata": {},
     "output_type": "execute_result"
    }
   ],
   "source": [
    "a=\"Hello World\"\n",
    "a[2::] # Here the result is the string sliced from  2 no. index to last index and step is increment by 1"
   ]
  },
  {
   "cell_type": "code",
   "execution_count": 6,
   "id": "44ccbc9d-0008-4695-99f5-f53c37faf7ba",
   "metadata": {},
   "outputs": [
    {
     "data": {
      "text/plain": [
       "'Hello world'"
      ]
     },
     "execution_count": 6,
     "metadata": {},
     "output_type": "execute_result"
    }
   ],
   "source": [
    "a=\"Hello world\"\n",
    "a[::] # here the string sliced whole string that is given"
   ]
  },
  {
   "cell_type": "code",
   "execution_count": 7,
   "id": "9ed65c46-1bed-4c9f-8e90-6ba1144a3cec",
   "metadata": {},
   "outputs": [
    {
     "data": {
      "text/plain": [
       "'dlrow  olleH'"
      ]
     },
     "execution_count": 7,
     "metadata": {},
     "output_type": "execute_result"
    }
   ],
   "source": [
    "a=\"Hello  world\"\n",
    "a[-1::-1] # Here i sliced the given string as reverse"
   ]
  },
  {
   "cell_type": "code",
   "execution_count": 10,
   "id": "9074d9c2-dad9-46d9-a29e-e22996550b46",
   "metadata": {},
   "outputs": [
    {
     "data": {
      "text/plain": [
       "'hlowrd'"
      ]
     },
     "execution_count": 10,
     "metadata": {},
     "output_type": "execute_result"
    }
   ],
   "source": [
    "a=\"hello world\"\n",
    "a[::2]# Here i sliced the give string as increment by 2( means escape one character)"
   ]
  },
  {
   "cell_type": "markdown",
   "id": "243d3ef6-f761-43b9-89db-fecdee8b4bcf",
   "metadata": {},
   "source": [
    "### 2. Explain the key features of lists in Python."
   ]
  },
  {
   "cell_type": "code",
   "execution_count": 14,
   "id": "7f8da1fc-8d87-487f-b270-16f76ccc745b",
   "metadata": {},
   "outputs": [
    {
     "data": {
      "text/plain": [
       "[1, 2, 3]"
      ]
     },
     "execution_count": 14,
     "metadata": {},
     "output_type": "execute_result"
    }
   ],
   "source": [
    "# Ordered Collection\n",
    "list=[1,2,3]\n",
    "list"
   ]
  },
  {
   "cell_type": "code",
   "execution_count": 15,
   "id": "8931f443-be66-4cd8-a890-5f5f5b76ea61",
   "metadata": {},
   "outputs": [
    {
     "data": {
      "text/plain": [
       "[1, 2, 3, 4]"
      ]
     },
     "execution_count": 15,
     "metadata": {},
     "output_type": "execute_result"
    }
   ],
   "source": [
    "# Mutable\n",
    "list.append(4) # add element at the end of list\n",
    "list"
   ]
  },
  {
   "cell_type": "code",
   "execution_count": 17,
   "id": "211effd0-756a-4911-9aa9-5e7753dc088d",
   "metadata": {},
   "outputs": [
    {
     "name": "stdout",
     "output_type": "stream",
     "text": [
      "['Kiran', 1, 1.2, True, (2+3j)]\n",
      "<class 'list'>\n"
     ]
    }
   ],
   "source": [
    "# Heterogeneous\n",
    "list1=[\"Kiran\",1,1.2,True,2+3j]\n",
    "print(list1)\n",
    "print(type(list1))"
   ]
  },
  {
   "cell_type": "code",
   "execution_count": 23,
   "id": "ebf45c1f-4a54-4169-8921-2d14f6e2f36b",
   "metadata": {},
   "outputs": [
    {
     "name": "stdout",
     "output_type": "stream",
     "text": [
      "[1, 2, 3]\n",
      "Before append the length of the given list is: 3\n",
      "[1, 2, 3, 4]\n",
      "After append the length of the given list is: 4\n"
     ]
    }
   ],
   "source": [
    "#Dynamic Size\n",
    "list2=[1,2,3]\n",
    "print(list2)\n",
    "print(\"Before append the length of the given list is:\", len(list2))\n",
    "list2.append(4)\n",
    "print(list2)\n",
    "print(\"After append the length of the given list is:\", len(list2))"
   ]
  },
  {
   "cell_type": "code",
   "execution_count": 25,
   "id": "90f782be-bd5c-438c-aa98-70e1bf375afa",
   "metadata": {},
   "outputs": [
    {
     "data": {
      "text/plain": [
       "2"
      ]
     },
     "execution_count": 25,
     "metadata": {},
     "output_type": "execute_result"
    }
   ],
   "source": [
    "# Supports Indexing and Slicing :\n",
    "list2[1]"
   ]
  },
  {
   "cell_type": "code",
   "execution_count": 26,
   "id": "485668d4-7fbd-4063-aa67-92a77d05a14d",
   "metadata": {},
   "outputs": [
    {
     "data": {
      "text/plain": [
       "[2, 3, 4]"
      ]
     },
     "execution_count": 26,
     "metadata": {},
     "output_type": "execute_result"
    }
   ],
   "source": [
    "list2[1:]"
   ]
  },
  {
   "cell_type": "markdown",
   "id": "9026b05d-9c6d-4053-ba50-3ab83e23b9fd",
   "metadata": {},
   "source": [
    "### 3. Describe how to access, modify, and delete elements in a list with examples."
   ]
  },
  {
   "cell_type": "code",
   "execution_count": 9,
   "id": "83ce5ee6-7ed4-4217-95d7-32be99091aa4",
   "metadata": {},
   "outputs": [
    {
     "name": "stdout",
     "output_type": "stream",
     "text": [
      "Access all list elements:  [1, 2, 3, 'Kiran', 'Kumar', 'Koley']\n",
      "Access index no 1 to 4 : [2, 3, 'Kiran', 'Kumar']\n"
     ]
    }
   ],
   "source": [
    "# (i) We can access elements from a list using indexing,slicing methods.\n",
    "# Access using slicing examole below :\n",
    "a=[1,2,3,\"Kiran\",\"Kumar\",\"Koley\"]\n",
    "print(\"Access all list elements: \", a[::]) # Access all list element using slicing methods\n",
    "print(\"Access index no 1 to 4 :\", a[1:5])"
   ]
  },
  {
   "cell_type": "code",
   "execution_count": 10,
   "id": "cd13ec80-c54b-419e-b7ce-672ccb72e41b",
   "metadata": {},
   "outputs": [
    {
     "name": "stdout",
     "output_type": "stream",
     "text": [
      "Koley\n",
      "3\n"
     ]
    }
   ],
   "source": [
    "# Access using indexing examole below:\n",
    "print(a[5])\n",
    "print(a[2])"
   ]
  },
  {
   "cell_type": "code",
   "execution_count": 17,
   "id": "be998e77-4d58-4f39-b2a3-987bdfd53ebc",
   "metadata": {},
   "outputs": [
    {
     "data": {
      "text/plain": [
       "[98, 99, 3, 'Rohan', 'Kumar', 'Koley', 100, 456, 34, 56]"
      ]
     },
     "execution_count": 17,
     "metadata": {},
     "output_type": "execute_result"
    }
   ],
   "source": [
    "# (ii) We can modify element in a list by accessing new value to a specific index or slice of the list.\n",
    "a[3]=\"Rohan\"\n",
    "a"
   ]
  },
  {
   "cell_type": "code",
   "execution_count": 18,
   "id": "e7b4f9bb-b628-4172-a1e6-460d110b63e5",
   "metadata": {},
   "outputs": [
    {
     "data": {
      "text/plain": [
       "[98, 99, 3, 'Rohan', 'Kumar', 'Koley', 100, 456, 34, 56]"
      ]
     },
     "execution_count": 18,
     "metadata": {},
     "output_type": "execute_result"
    }
   ],
   "source": [
    "a[0:2]=[98,99]\n",
    "a"
   ]
  },
  {
   "cell_type": "code",
   "execution_count": 19,
   "id": "4ad7c299-86ef-4a4a-aa3a-8fd4cb88a468",
   "metadata": {},
   "outputs": [
    {
     "data": {
      "text/plain": [
       "[98, 99, 3, 'Rohan', 'Kumar', 'Koley', 100, 456, 34, 56, 100]"
      ]
     },
     "execution_count": 19,
     "metadata": {},
     "output_type": "execute_result"
    }
   ],
   "source": [
    "a.append(100)\n",
    "a"
   ]
  },
  {
   "cell_type": "code",
   "execution_count": 20,
   "id": "a945471b-f950-422c-a680-20384e537c69",
   "metadata": {},
   "outputs": [
    {
     "data": {
      "text/plain": [
       "[98, 99, 3, 'Rohan', 'Kumar', 'Koley', 100, 456, 34, 56, 100, 456, 34, 56]"
      ]
     },
     "execution_count": 20,
     "metadata": {},
     "output_type": "execute_result"
    }
   ],
   "source": [
    "b=(456,34,56)\n",
    "a.extend(b)\n",
    "a"
   ]
  },
  {
   "cell_type": "code",
   "execution_count": 21,
   "id": "7632bb39-c261-4afb-91d5-4b753bebde6f",
   "metadata": {},
   "outputs": [
    {
     "name": "stdout",
     "output_type": "stream",
     "text": [
      "[98, 99, 3, 'Rohan', 'Kumar', 'Koley', 100, 456, 34, 56, 100, 456, 34, 56]\n"
     ]
    },
    {
     "data": {
      "text/plain": [
       "[98, 3, 'Rohan', 'Kumar', 'Koley', 100, 456, 34, 56, 100, 456, 34, 56]"
      ]
     },
     "execution_count": 21,
     "metadata": {},
     "output_type": "execute_result"
    }
   ],
   "source": [
    "# Deleting element from a list using several methods :\n",
    "print(a)\n",
    "del a[1]\n",
    "a"
   ]
  },
  {
   "cell_type": "code",
   "execution_count": 22,
   "id": "d3b63d71-80ea-4540-a742-0befd1a96aec",
   "metadata": {},
   "outputs": [
    {
     "data": {
      "text/plain": [
       "[98, 3, 'Kumar', 'Koley', 100, 456, 34, 56, 100, 456, 34, 56]"
      ]
     },
     "execution_count": 22,
     "metadata": {},
     "output_type": "execute_result"
    }
   ],
   "source": [
    "a.remove(\"Rohan\")\n",
    "a"
   ]
  },
  {
   "cell_type": "code",
   "execution_count": 28,
   "id": "da229c5f-ed14-42d9-a2b4-424828dfc1af",
   "metadata": {},
   "outputs": [
    {
     "data": {
      "text/plain": [
       "[98, 3, 'Kumar', 'Koley', 100, 456, 34, 56, 100, 456, 34]"
      ]
     },
     "execution_count": 28,
     "metadata": {},
     "output_type": "execute_result"
    }
   ],
   "source": [
    "n=[98, 3, 'Kumar', 'Koley', 100, 456, 34, 56, 100, 456, 34, 56]\n",
    "n.pop()# remove last elemrnt in a list by default\n",
    "n"
   ]
  },
  {
   "cell_type": "markdown",
   "id": "49ed50a2-c7cf-4bdb-81d3-657be24ed54d",
   "metadata": {},
   "source": [
    "### 5. Describe the key features of sets and provide examples of their use."
   ]
  },
  {
   "cell_type": "code",
   "execution_count": 6,
   "id": "1fa006ef-a995-4eaf-b393-782c39e2cab1",
   "metadata": {},
   "outputs": [
    {
     "data": {
      "text/plain": [
       "{1, 5, 9, 'kiran'}"
      ]
     },
     "execution_count": 6,
     "metadata": {},
     "output_type": "execute_result"
    }
   ],
   "source": [
    "# Unorder collection\n",
    "s={1,\"kiran\",9,5}\n",
    "s #The output is unordered."
   ]
  },
  {
   "cell_type": "code",
   "execution_count": 8,
   "id": "76d8ee19-5bc1-41ee-a7d7-847e71094283",
   "metadata": {},
   "outputs": [
    {
     "data": {
      "text/plain": [
       "{1, 3, 22}"
      ]
     },
     "execution_count": 8,
     "metadata": {},
     "output_type": "execute_result"
    }
   ],
   "source": [
    "# Unique Elements\n",
    "# Ser automatically delete duplicate element.\n",
    "s={1,22,22,3}\n",
    "s"
   ]
  },
  {
   "cell_type": "code",
   "execution_count": 11,
   "id": "f9d66d34-6479-4c37-98ac-b722698d78cf",
   "metadata": {},
   "outputs": [
    {
     "name": "stdout",
     "output_type": "stream",
     "text": [
      "This is given set: {1, 2, 3}\n",
      "After adding element in a set: {1, 2, 3, 4}\n",
      "After removing an element in a set: {1, 3, 4}\n"
     ]
    }
   ],
   "source": [
    "# Mutable\n",
    "my_set = {1, 2, 3}\n",
    "print(\"This is given set:\", my_set)\n",
    "my_set.add(4) \n",
    "print(\"After adding element in a set:\", my_set)\n",
    "my_set.remove(2)  \n",
    "print(\"After removing an element in a set:\", my_set)\n"
   ]
  },
  {
   "cell_type": "code",
   "execution_count": 12,
   "id": "11ef1e4e-ae3e-4e89-8361-95061ea7543c",
   "metadata": {},
   "outputs": [
    {
     "ename": "TypeError",
     "evalue": "'set' object is not subscriptable",
     "output_type": "error",
     "traceback": [
      "\u001b[0;31m---------------------------------------------------------------------------\u001b[0m",
      "\u001b[0;31mTypeError\u001b[0m                                 Traceback (most recent call last)",
      "Cell \u001b[0;32mIn[12], line 3\u001b[0m\n\u001b[1;32m      1\u001b[0m \u001b[38;5;66;03m# Unindexed\u001b[39;00m\n\u001b[1;32m      2\u001b[0m \u001b[38;5;66;03m# bellow example throw a type error because it not support indexing\u001b[39;00m\n\u001b[0;32m----> 3\u001b[0m \u001b[43mmy_set\u001b[49m\u001b[43m[\u001b[49m\u001b[38;5;241;43m1\u001b[39;49m\u001b[43m]\u001b[49m\n",
      "\u001b[0;31mTypeError\u001b[0m: 'set' object is not subscriptable"
     ]
    }
   ],
   "source": [
    "# Unindexed\n",
    "# bellow example throw a type error because it not support indexing\n",
    "my_set[1]"
   ]
  },
  {
   "cell_type": "code",
   "execution_count": 15,
   "id": "393af2a6-4605-419d-a4d3-1ba88a878ccb",
   "metadata": {},
   "outputs": [
    {
     "name": "stdout",
     "output_type": "stream",
     "text": [
      "Union:  {1, 2, 3, 5, 6}\n",
      "Intersection:  {3}\n",
      "Difference:  {1, 2}\n",
      "Symmtric_difference:  {1, 2, 5, 6}\n"
     ]
    }
   ],
   "source": [
    "# Set Operations\n",
    "set1={1,2,3}\n",
    "set2={3,5,6}\n",
    "\n",
    "print(\"Union: \",set1|set2)\n",
    "print(\"Intersection: \",set1 & set2)\n",
    "print(\"Difference: \",set1-set2)\n",
    "print(\"Symmtric_difference: \",set1^set2)"
   ]
  },
  {
   "cell_type": "markdown",
   "id": "78395b2f-32c3-44e5-8a30-a4b2abb40fab",
   "metadata": {},
   "source": [
    "### 6. Discuss the use cases of tuples and sets in Python programming."
   ]
  },
  {
   "cell_type": "code",
   "execution_count": 19,
   "id": "1aa6ce1c-d029-4851-a067-0b6e5db9853c",
   "metadata": {},
   "outputs": [],
   "source": [
    "# Tuple use cases\n",
    "# Immutable Data Collections\n",
    "coordinates = (10.0, 20.0)  # A fixed pair of coordinates\n",
    "color = (255, 0, 0)  # A fixed RGB color value (red)\n"
   ]
  },
  {
   "cell_type": "code",
   "execution_count": 20,
   "id": "a417c646-ad15-4356-858e-8d971c12bece",
   "metadata": {},
   "outputs": [
    {
     "name": "stdout",
     "output_type": "stream",
     "text": [
      "8175133\n"
     ]
    }
   ],
   "source": [
    "#Using as Dictionary Keys\n",
    "c = {\n",
    "    (\"New York\", \"USA\"): 8175133,\n",
    "    (\"Los Angeles\", \"USA\"): 3792621\n",
    "}\n",
    "print(c[(\"New York\", \"USA\")]) "
   ]
  },
  {
   "cell_type": "code",
   "execution_count": 21,
   "id": "05b1ee73-8e8b-4fbc-936c-1cd4a286db7d",
   "metadata": {},
   "outputs": [],
   "source": [
    "# Ensuring Data Integrity : \n",
    "constants = (3.14159, 2.71828)  # Pi and Euler's number"
   ]
  },
  {
   "cell_type": "code",
   "execution_count": 22,
   "id": "a364a71b-38f3-46f8-a162-fdab5e29d135",
   "metadata": {},
   "outputs": [
    {
     "name": "stdout",
     "output_type": "stream",
     "text": [
      "{1, 2, 3, 4, 5}\n"
     ]
    }
   ],
   "source": [
    "# Sets use cases:\n",
    "# Removing Duplicates from a Collection:\n",
    "a = [1, 2, 2, 3, 4, 4, 5]\n",
    "unique_items = set(a)\n",
    "print(unique_items)  "
   ]
  },
  {
   "cell_type": "code",
   "execution_count": 23,
   "id": "f38fcd31-8e34-4c4a-b769-15284ad30e12",
   "metadata": {},
   "outputs": [
    {
     "name": "stdout",
     "output_type": "stream",
     "text": [
      "Union:  {1, 2, 3, 5, 6}\n",
      "Intersection:  {3}\n",
      "Difference:  {1, 2}\n",
      "Symmtric_difference:  {1, 2, 5, 6}\n"
     ]
    }
   ],
   "source": [
    "# Mathematical Set Operations :\n",
    "set1={1,2,3}\n",
    "set2={3,5,6}\n",
    "\n",
    "print(\"Union: \",set1|set2)\n",
    "print(\"Intersection: \",set1 & set2)\n",
    "print(\"Difference: \",set1-set2)\n",
    "print(\"Symmtric_difference: \",set1^set2)"
   ]
  },
  {
   "cell_type": "code",
   "execution_count": 24,
   "id": "489faf6b-b9f6-49fc-b9c2-284614cf6e60",
   "metadata": {},
   "outputs": [
    {
     "name": "stdout",
     "output_type": "stream",
     "text": [
      "{'warning', 'debug', 'error', 'info'}\n"
     ]
    }
   ],
   "source": [
    "# Filtering Unique Data : \n",
    "logs = [\"error\", \"info\", \"warning\", \"error\", \"debug\", \"info\"]\n",
    "unique_logs = set(logs)\n",
    "print(unique_logs)"
   ]
  },
  {
   "cell_type": "markdown",
   "id": "e8541651-f9f8-4662-9691-ce3f0235a135",
   "metadata": {},
   "source": [
    "### 7. Describe how to add, modify, and delete items in a dictionary with examples."
   ]
  },
  {
   "cell_type": "code",
   "execution_count": 26,
   "id": "5d6135d2-ce23-4356-a0dd-150c8e68b81c",
   "metadata": {},
   "outputs": [
    {
     "data": {
      "text/plain": [
       "{'Kiran': 21, 'Rohan': 22, 'Sudip': 23}"
      ]
     },
     "execution_count": 26,
     "metadata": {},
     "output_type": "execute_result"
    }
   ],
   "source": [
    "# Adding items to a dictionary\n",
    "dict={\"Kiran\": 21,\"Rohan\":22} # This is a dictionary\n",
    "dict[\"Sudip\"]=23 # Adding key & value in previously created dictionary \n",
    "dict"
   ]
  },
  {
   "cell_type": "code",
   "execution_count": 27,
   "id": "292efeef-8ab4-4f41-9bc5-c2c274b64435",
   "metadata": {},
   "outputs": [
    {
     "data": {
      "text/plain": [
       "{'Kiran': 45, 'Rohan': 22, 'Sudip': 23}"
      ]
     },
     "execution_count": 27,
     "metadata": {},
     "output_type": "execute_result"
    }
   ],
   "source": [
    "# Modifying Items in a Dictionary\n",
    "# Modify previously created dictionaries\n",
    "dict[\"Kiran\"]=45\n",
    "dict"
   ]
  },
  {
   "cell_type": "code",
   "execution_count": 36,
   "id": "de747530-d916-4310-bad3-bd0ab59e8c59",
   "metadata": {},
   "outputs": [
    {
     "name": "stdout",
     "output_type": "stream",
     "text": [
      "This is orginal dict {'Kiran': 21, 'Rohan': 22, 'karan': 89, 'Shankha': 100}\n",
      "After deleting\n"
     ]
    },
    {
     "data": {
      "text/plain": [
       "{'Rohan': 22, 'karan': 89, 'Shankha': 100}"
      ]
     },
     "execution_count": 36,
     "metadata": {},
     "output_type": "execute_result"
    }
   ],
   "source": [
    "#Deleting Items from a Dictionary\n",
    "# there are several methods to delete\n",
    "dict1={\"Kiran\": 21,\"Rohan\":22, \"karan\":89,\"Shankha\":100}\n",
    "print(\"This is orginal dict\",dict1)\n",
    "print(\"After deleting\")\n",
    "del dict1[\"Kiran\"] # using del , deleting \"Kiran\" key.\n",
    "dict1"
   ]
  },
  {
   "cell_type": "code",
   "execution_count": 37,
   "id": "ca3c9196-b6ff-4d78-af1f-663301cb8647",
   "metadata": {},
   "outputs": [
    {
     "data": {
      "text/plain": [
       "{'Rohan': 22, 'karan': 89}"
      ]
     },
     "execution_count": 37,
     "metadata": {},
     "output_type": "execute_result"
    }
   ],
   "source": [
    "dict1.pop(\"Shankha\")# deleting using pop()\n",
    "dict1"
   ]
  },
  {
   "cell_type": "code",
   "execution_count": 38,
   "id": "eca22bba-cff9-4c7f-a305-29876b8a2bbb",
   "metadata": {},
   "outputs": [
    {
     "data": {
      "text/plain": [
       "{}"
      ]
     },
     "execution_count": 38,
     "metadata": {},
     "output_type": "execute_result"
    }
   ],
   "source": [
    "# deleting using clear()\n",
    "dict1.clear() # deleting all dictionary element\n",
    "dict1"
   ]
  },
  {
   "cell_type": "markdown",
   "id": "307b4040-014f-460e-86f9-b3a40831782b",
   "metadata": {},
   "source": [
    "### 8. - Discuss the importance of dictionary keys being immutable and provide examples."
   ]
  },
  {
   "cell_type": "code",
   "execution_count": 2,
   "id": "fd972f4b-b3d5-43f6-b222-17c3ed7e9431",
   "metadata": {},
   "outputs": [
    {
     "name": "stdout",
     "output_type": "stream",
     "text": [
      "coordinates\n"
     ]
    }
   ],
   "source": [
    "#Immutable Keys (Allowed)\n",
    "b = {\n",
    "    1: \"one\", \n",
    "    \"name\": \"Alice\",  \n",
    "    (10, 20): \"coordinates\" \n",
    "}\n",
    "print(b[(10, 20)])  "
   ]
  },
  {
   "cell_type": "code",
   "execution_count": 4,
   "id": "9332b621-a44b-42f3-8789-1d68e6518899",
   "metadata": {},
   "outputs": [
    {
     "ename": "TypeError",
     "evalue": "unhashable type: 'list'",
     "output_type": "error",
     "traceback": [
      "\u001b[0;31m---------------------------------------------------------------------------\u001b[0m",
      "\u001b[0;31mTypeError\u001b[0m                                 Traceback (most recent call last)",
      "Cell \u001b[0;32mIn[4], line 4\u001b[0m\n\u001b[1;32m      2\u001b[0m my_dict \u001b[38;5;241m=\u001b[39m {}\n\u001b[1;32m      3\u001b[0m key \u001b[38;5;241m=\u001b[39m [\u001b[38;5;241m1\u001b[39m, \u001b[38;5;241m2\u001b[39m, \u001b[38;5;241m3\u001b[39m]\n\u001b[0;32m----> 4\u001b[0m \u001b[43mmy_dict\u001b[49m\u001b[43m[\u001b[49m\u001b[43mkey\u001b[49m\u001b[43m]\u001b[49m \u001b[38;5;241m=\u001b[39m \u001b[38;5;124m\"\u001b[39m\u001b[38;5;124mlist as a key\u001b[39m\u001b[38;5;124m\"\u001b[39m  \u001b[38;5;66;03m# This will raise a TypeError: unhashable type: 'list'\u001b[39;00m\n",
      "\u001b[0;31mTypeError\u001b[0m: unhashable type: 'list'"
     ]
    }
   ],
   "source": [
    "# Mutable Keys (Not Allowed)\n",
    "my_dict = {}\n",
    "key = [1, 2, 3]\n",
    "my_dict[key] = \"list as a key\"  # This will raise a TypeError: unhashable type: 'list'\n"
   ]
  },
  {
   "cell_type": "code",
   "execution_count": null,
   "id": "13942730-95ac-48ca-b17c-33713ce3bc02",
   "metadata": {},
   "outputs": [],
   "source": [
    "# Why Mutability is a Problem\n",
    "my_dict = {}\n",
    "key = [1, 2, 3]\n",
    "# Imagine this was allowed:\n",
    "# my_dict[key] = \"value\"\n",
    "\n",
    "key.append(4)\n",
    "# Now, if the dictionary tried to access the key, it wouldn't find the correct entry,\n",
    "# because the hash of the list has changed.\n",
    "# This would break the dictionary's internal structure and lead to errors.\n"
   ]
  }
 ],
 "metadata": {
  "kernelspec": {
   "display_name": "Python 3 (ipykernel)",
   "language": "python",
   "name": "python3"
  },
  "language_info": {
   "codemirror_mode": {
    "name": "ipython",
    "version": 3
   },
   "file_extension": ".py",
   "mimetype": "text/x-python",
   "name": "python",
   "nbconvert_exporter": "python",
   "pygments_lexer": "ipython3",
   "version": "3.10.8"
  }
 },
 "nbformat": 4,
 "nbformat_minor": 5
}

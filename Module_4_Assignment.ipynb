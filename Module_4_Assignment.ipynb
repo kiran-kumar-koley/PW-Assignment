{
 "cells": [
  {
   "cell_type": "markdown",
   "id": "6ccf2b68-73e4-446e-a7f2-4a095119d739",
   "metadata": {},
   "source": [
    "### 1. Explain the key features of python that make it a popular choice for programming?"
   ]
  },
  {
   "cell_type": "markdown",
   "id": "4888a051-14dc-4a5a-ae66-59fdd8ce8962",
   "metadata": {},
   "source": [
    "Ans - There are several features present in python that's make it popular . let's discuss about features-\n",
    "1. Readability and Simplicity: Its syntax is clean and easy to understand, which makes it accessible for beginners.\n",
    "2. Cross-Platform Compatibility: Python runs on various operating systems, enhancing its utility.\n",
    "3. Extremely Dynamic: Python is the most dynamic language in today. That means the type of variable is determined during runtime or during setup. Because of this feature we don't have to define the type of variable.\n",
    "4. Extensive array of libraries: python incluing a large number of libraries That may be imported at any time and used it in a specific program right away.\n",
    "5. Multipurpose: Python is a versatile programming language that can be used for multiple purposes.\n",
    "6. Machine Learning: In the world of technology, machine learning has a bright future , python is with out a doubt python is the best language for machine learning."
   ]
  },
  {
   "cell_type": "markdown",
   "id": "21cb9fcc-e608-46df-940e-1848b6ba760c",
   "metadata": {
    "tags": []
   },
   "source": [
    "### 2. Describe the role of predefined keywords in Python and provide examples of how they are used in a program."
   ]
  },
  {
   "cell_type": "markdown",
   "id": "5907984f-c04d-415d-8862-d112612de486",
   "metadata": {},
   "source": [
    "Ans.\n",
    "Python Keywords are some predefined and reserved words in Python that have special meanings. Keywords are used to define the syntax of the coding. The keyword cannot be used as an identifier, function, or variable name. All the keywords in Python are written in lowercase except True and False. Example of keywords are mentioned in below."
   ]
  },
  {
   "cell_type": "code",
   "execution_count": 2,
   "id": "89fc3a0c-967b-4ff5-92f9-68532ba2efa0",
   "metadata": {},
   "outputs": [
    {
     "name": "stdout",
     "output_type": "stream",
     "text": [
      "\n",
      "Here is a list of the Python keywords.  Enter any keyword to get more help.\n",
      "\n",
      "False               class               from                or\n",
      "None                continue            global              pass\n",
      "True                def                 if                  raise\n",
      "and                 del                 import              return\n",
      "as                  elif                in                  try\n",
      "assert              else                is                  while\n",
      "async               except              lambda              with\n",
      "await               finally             nonlocal            yield\n",
      "break               for                 not                 \n",
      "\n"
     ]
    }
   ],
   "source": [
    "help(\"keywords\")"
   ]
  },
  {
   "cell_type": "code",
   "execution_count": 28,
   "id": "71db4d7f-b3be-4f72-bb87-5f861b631475",
   "metadata": {},
   "outputs": [
    {
     "name": "stdin",
     "output_type": "stream",
     "text": [
      "Enter a number 1 to 50:  35\n"
     ]
    },
    {
     "name": "stdout",
     "output_type": "stream",
     "text": [
      "The number is greter than or equai to 20\n"
     ]
    }
   ],
   "source": [
    "# Example : How keywords are used in a program. Here i used if,elif,else keywords.\n",
    "a=int(input(\"Enter a number 1 to 50: \"))\n",
    "if a<=50 and a>1:\n",
    "    if a>=40:\n",
    "        print(\"The number is greter than or equai to 40\")\n",
    "    elif a>=20:\n",
    "        print(\"The number is greter than or equai to 20\")\n",
    "    else:\n",
    "        print(\"The number is greter than or equai to 1\")\n",
    "else:\n",
    "    print(\"Please enter the number between 1 to 50\")\n",
    "    "
   ]
  },
  {
   "cell_type": "markdown",
   "id": "150dbd13-47e2-49e3-85ac-cf0da2cb2e6f",
   "metadata": {},
   "source": [
    "### 3. Compare and contrast mutable and immutable objects in Python with examples."
   ]
  },
  {
   "cell_type": "markdown",
   "id": "42b860f3-ba65-4e86-94be-784eec587e81",
   "metadata": {},
   "source": [
    "Mutable Object: 1. Can be modified after creation.\n",
    "                2. Changes made in place.\n",
    "                3. Not hashable.\n",
    "                4. Example :Lists, Dictionaries, Sets.\n",
    "Immutable Object: 1. Cannot be modified after creation.\n",
    "                 2. Changes result in new objects.\n",
    "                 3. Hashable\n",
    "                 4. Example : Tuples, strings, integers, floats."
   ]
  },
  {
   "cell_type": "markdown",
   "id": "fe022c2b-149b-494e-ba7b-2a7ef0ef82c6",
   "metadata": {},
   "source": [
    "Contrast:\n",
    "\n",
    "1. Modification: Mutable object allow in place modification but it requires carefull handelling. on the other hand Immutable object maintain consistecy and predictibility of the data because this type of data can't change.\n",
    "\n",
    "2. Memory usages: In mutable object after modifing data it does not create new object so, it save the memory space. on the other hand immutable object after modifying data it create new object so, it increasing the memory space.\n",
    "\n",
    "3. Thread safety : Immutable objects are inherently thread-safe because their state cannot change. on the other hand Mutable object need another mechanism to ensure thread safety."
   ]
  },
  {
   "cell_type": "markdown",
   "id": "4cb1bc6e-acbf-4dbe-8a17-70d5fecf241f",
   "metadata": {},
   "source": [
    "Example of Mutable object"
   ]
  },
  {
   "cell_type": "code",
   "execution_count": 35,
   "id": "a613c0dd-fc96-429f-ba49-9f702ab07e64",
   "metadata": {},
   "outputs": [
    {
     "name": "stdout",
     "output_type": "stream",
     "text": [
      "List is:  [1, 2, 3]\n",
      "After modify list:  [1, 5, 3]\n",
      "After add element in list: [1, 5, 3, 6]\n"
     ]
    }
   ],
   "source": [
    "# Example of mutable object \n",
    "a=[1,2,3]\n",
    "print(\"List is: \",a)\n",
    "a[1]=5\n",
    "print(\"After modify list: \",a)\n",
    "a.append(6)\n",
    "print(\"After add element in list:\",a)"
   ]
  },
  {
   "cell_type": "code",
   "execution_count": 42,
   "id": "4b15aa95-e9e7-4046-96de-0dbf7d532e37",
   "metadata": {},
   "outputs": [
    {
     "name": "stdout",
     "output_type": "stream",
     "text": [
      "{1, 2, 4, 5}\n"
     ]
    }
   ],
   "source": [
    "b={1,2,4}\n",
    "b.add(5)\n",
    "print(b)\n",
    "# In case of set, it can't support item assignment. like this b[1]=5"
   ]
  },
  {
   "cell_type": "markdown",
   "id": "73a3f7c0-8179-4496-88fa-81e2c3b5a468",
   "metadata": {},
   "source": [
    "Example of Immutable object"
   ]
  },
  {
   "cell_type": "code",
   "execution_count": 45,
   "id": "6e8dcf18-dc1c-4fdc-b6f1-f9694423c8d2",
   "metadata": {},
   "outputs": [
    {
     "ename": "TypeError",
     "evalue": "'tuple' object does not support item assignment",
     "output_type": "error",
     "traceback": [
      "\u001b[0;31m---------------------------------------------------------------------------\u001b[0m",
      "\u001b[0;31mTypeError\u001b[0m                                 Traceback (most recent call last)",
      "Cell \u001b[0;32mIn[45], line 3\u001b[0m\n\u001b[1;32m      1\u001b[0m \u001b[38;5;66;03m# Example of immutable object , We can't modify data element\u001b[39;00m\n\u001b[1;32m      2\u001b[0m c\u001b[38;5;241m=\u001b[39m(\u001b[38;5;241m1\u001b[39m,\u001b[38;5;241m2\u001b[39m,\u001b[38;5;241m3\u001b[39m)\n\u001b[0;32m----> 3\u001b[0m \u001b[43mc\u001b[49m\u001b[43m[\u001b[49m\u001b[38;5;241;43m2\u001b[39;49m\u001b[43m]\u001b[49m\u001b[38;5;241m=\u001b[39m\u001b[38;5;241m5\u001b[39m \u001b[38;5;66;03m# It can raise a type error\u001b[39;00m\n\u001b[1;32m      4\u001b[0m \u001b[38;5;28mprint\u001b[39m(c)\n",
      "\u001b[0;31mTypeError\u001b[0m: 'tuple' object does not support item assignment"
     ]
    }
   ],
   "source": [
    "# Example of immutable object , We can't modify data element\n",
    "c=(1,2,3)\n",
    "c[2]=5 # It can raise a type error\n",
    "print(c)"
   ]
  },
  {
   "cell_type": "markdown",
   "id": "ce32dee6-f84a-4559-91fb-ccd70e9ef7e6",
   "metadata": {},
   "source": [
    " * We can add element in a new tupple object where we can concatinate two tuple. Example bellow.."
   ]
  },
  {
   "cell_type": "code",
   "execution_count": 44,
   "id": "415424f0-cb19-40cd-9dc2-d5bdf04ccb28",
   "metadata": {},
   "outputs": [
    {
     "data": {
      "text/plain": [
       "(1, 2, 3, 4, 5)"
      ]
     },
     "execution_count": 44,
     "metadata": {},
     "output_type": "execute_result"
    }
   ],
   "source": [
    "tup=(1,2,3)\n",
    "tup1=(4,5)\n",
    "new_tup=(tup+tup1)\n",
    "new_tup"
   ]
  },
  {
   "cell_type": "markdown",
   "id": "8a617c9e-6aea-4970-a7c2-09e910075f2d",
   "metadata": {},
   "source": [
    "* There is present another way we can add, modify , delete every thing in immutable object. At first we convert the immutable object to mutable object then we work of this After that we again convert it in immutable object. Example bellow..."
   ]
  },
  {
   "cell_type": "code",
   "execution_count": 48,
   "id": "e7873f10-d3e2-4089-9cff-fc1a13763bcc",
   "metadata": {},
   "outputs": [
    {
     "name": "stdout",
     "output_type": "stream",
     "text": [
      "This is tuple:  (1, 2, 3)\n",
      "After convert in list:  [1, 2, 3]\n",
      "After modifieng 1 no. index:  [1, 5, 3]\n",
      "After adding element:  [1, 5, 3, 6]\n",
      "This is tuple now: (1, 5, 3, 6)\n"
     ]
    }
   ],
   "source": [
    "#At first this is now tuple\n",
    "a=(1,2,3)\n",
    "print(\"This is tuple: \",a)\n",
    "# convering tuple to list\n",
    "b=list(a)\n",
    "type(b)\n",
    "print(\"After convert in list: \",b)\n",
    "b[1]=5\n",
    "print(\"After modifieng 1 no. index: \",b)\n",
    "b.append(6)# Adding element\n",
    "print(\"After adding element: \",b)\n",
    "# And finnaly convert it in tuple\n",
    "c=tuple(b)\n",
    "print(\"This is tuple now:\",c)\n"
   ]
  },
  {
   "cell_type": "markdown",
   "id": "f819015e-cd86-4937-8a38-abd7014365ba",
   "metadata": {},
   "source": [
    "### 4. Discuss the different types of operators in Python and provide examples of how they are used."
   ]
  },
  {
   "cell_type": "markdown",
   "id": "8267c35b-2197-4a8b-b209-3559c2ae785f",
   "metadata": {},
   "source": [
    "Ans - \n",
    "There are different types operator present in python. let's discuss about them with example.."
   ]
  },
  {
   "cell_type": "markdown",
   "id": "f65f17f3-0db5-435a-8e75-b708c088f474",
   "metadata": {},
   "source": [
    "i. Arithmatic operators: +,-,*,/,//,**,%"
   ]
  },
  {
   "cell_type": "code",
   "execution_count": 1,
   "id": "3505074f-b714-4d8c-8829-d1c6d1ab6eb7",
   "metadata": {},
   "outputs": [
    {
     "name": "stdout",
     "output_type": "stream",
     "text": [
      "Addition:  16\n",
      "Subtraction:  6\n",
      "Multiplication:  55\n",
      "Divison:  2.2\n",
      "Floor division:  2\n",
      "Exponents:  161051\n",
      "Modulus:  1\n"
     ]
    }
   ],
   "source": [
    "a=11\n",
    "b=5\n",
    "print(\"Addition: \",a+b)\n",
    "print(\"Subtraction: \",a-b)\n",
    "print(\"Multiplication: \",a*b)\n",
    "print(\"Divison: \",a/b)\n",
    "print(\"Floor division: \",a//b)\n",
    "print(\"Exponents: \",a**b)\n",
    "print(\"Modulus: \",a%b)"
   ]
  },
  {
   "cell_type": "markdown",
   "id": "f33e5616-79a6-4baa-be25-6fa88c6a408f",
   "metadata": {},
   "source": [
    "ii. Assignment operators: =,+=,-+,*=,/="
   ]
  },
  {
   "cell_type": "code",
   "execution_count": 3,
   "id": "c7048ef3-cf99-43d1-b6dd-f2b3a58ee381",
   "metadata": {},
   "outputs": [
    {
     "name": "stdout",
     "output_type": "stream",
     "text": [
      "8\n",
      "6\n"
     ]
    }
   ],
   "source": [
    "a=6 #\"=\" is used for assign purpose, here assign a value in a variable named a\n",
    "a+=2 #Thos means a=a+2\n",
    "print(a) \n",
    "a-=2 # Thos means a=a-2\n",
    "print(a) "
   ]
  },
  {
   "cell_type": "markdown",
   "id": "73fde403-78eb-4977-be59-d03a868bb03d",
   "metadata": {},
   "source": [
    "iii. Comparison Operators:  <, >, >=, <=, ==, !="
   ]
  },
  {
   "cell_type": "code",
   "execution_count": 7,
   "id": "8353e15c-ea24-47ed-a489-b30d2dfc951b",
   "metadata": {},
   "outputs": [
    {
     "name": "stdout",
     "output_type": "stream",
     "text": [
      "False\n",
      "True\n",
      "False\n",
      "False\n",
      "True\n",
      "True\n"
     ]
    }
   ],
   "source": [
    "a=10\n",
    "b=15\n",
    "print(a>b)\n",
    "print(a<b)\n",
    "print(a==b)\n",
    "print(a>=b)\n",
    "print(a<=b)\n",
    "print(a!=b)"
   ]
  },
  {
   "cell_type": "markdown",
   "id": "aaef2268-a073-41bf-a7f9-f8e93b41fc0c",
   "metadata": {},
   "source": [
    "iv. Logical operators: and , or, not"
   ]
  },
  {
   "cell_type": "code",
   "execution_count": 10,
   "id": "51be437c-240c-4ec2-9ca0-02663bb6ff7a",
   "metadata": {},
   "outputs": [
    {
     "name": "stdout",
     "output_type": "stream",
     "text": [
      "False\n",
      "True\n",
      "True\n"
     ]
    }
   ],
   "source": [
    "x=10\n",
    "y=20\n",
    "print(x==10 and x<y and x==y) # logical and\n",
    "print(x==10 or x<y or x==y)# logical or\n",
    "print(not x!=10) # Logical not"
   ]
  },
  {
   "cell_type": "markdown",
   "id": "e5d4caa1-2935-48a9-9031-6f4862088b1a",
   "metadata": {},
   "source": [
    "v. Membership operator: in , not in"
   ]
  },
  {
   "cell_type": "code",
   "execution_count": 11,
   "id": "775dc133-a865-4936-bda6-18b2d747f070",
   "metadata": {},
   "outputs": [
    {
     "name": "stdout",
     "output_type": "stream",
     "text": [
      "False\n",
      "True\n"
     ]
    }
   ],
   "source": [
    "a=\"Hello\"\n",
    "print(\"h\" in a)\n",
    "print(\"h\" not in a)"
   ]
  },
  {
   "cell_type": "markdown",
   "id": "ee422ba8-a948-4533-a638-20fc11fc70d1",
   "metadata": {},
   "source": [
    "vi. identify operator: is , is not"
   ]
  },
  {
   "cell_type": "code",
   "execution_count": 16,
   "id": "66fbd907-c1d2-4b39-8efd-58af7cb5c9d8",
   "metadata": {},
   "outputs": [
    {
     "name": "stdout",
     "output_type": "stream",
     "text": [
      "True\n",
      "False\n"
     ]
    }
   ],
   "source": [
    "x=10\n",
    "y=10\n",
    "print(x is y)\n",
    "print(x is not y)"
   ]
  },
  {
   "cell_type": "markdown",
   "id": "847a4b8f-228e-4399-888b-8947eeb81106",
   "metadata": {},
   "source": [
    "vii. Bitwise operators: and(&),or(|), xor(^),  bitwise left shift(<<), Bitwise right shift(>>)"
   ]
  },
  {
   "cell_type": "code",
   "execution_count": 20,
   "id": "b38c1f49-77ae-400b-80d0-5d6364a13677",
   "metadata": {},
   "outputs": [
    {
     "name": "stdout",
     "output_type": "stream",
     "text": [
      "And: 4\n",
      "or: 13\n",
      "xor: 9\n",
      "Rght shift: 3\n",
      "Left shift: 48\n"
     ]
    }
   ],
   "source": [
    "a=12\n",
    "b=5\n",
    "print(\"And:\",a&b)\n",
    "print(\"or:\",a|b)\n",
    "print(\"xor:\",a^b)\n",
    "print(\"Rght shift:\",a>>2)\n",
    "print(\"Left shift:\",a<<2)"
   ]
  },
  {
   "cell_type": "markdown",
   "id": "544bde32-72e9-468f-8ad7-36c5682fb702",
   "metadata": {},
   "source": [
    "### 5. Explain the concept of type casting in Python with examples."
   ]
  },
  {
   "cell_type": "raw",
   "id": "a5aacbe7-f4f4-46a8-a183-a876e32e43bb",
   "metadata": {},
   "source": [
    "Ans.\n",
    "Type casting method is a method in python where we can convert the datatype to another data type, mainly two type of type casting present: 1. Implicit type casting\n",
    "                 2. Explicit type casting"
   ]
  },
  {
   "cell_type": "code",
   "execution_count": 35,
   "id": "3ae5b5af-46ff-4165-a2e2-0fc16babc275",
   "metadata": {},
   "outputs": [
    {
     "name": "stdout",
     "output_type": "stream",
     "text": [
      "Convert integer to float type:  123.0 <class 'float'>\n"
     ]
    }
   ],
   "source": [
    "a=123\n",
    "b=float(a)\n",
    "print(\"Convert integer to float type: \",b,type(b))\n"
   ]
  },
  {
   "cell_type": "code",
   "execution_count": 42,
   "id": "26d4ad2d-9bed-4429-96e2-2fd6daa69149",
   "metadata": {},
   "outputs": [
    {
     "data": {
      "text/plain": [
       "'132'"
      ]
     },
     "execution_count": 42,
     "metadata": {},
     "output_type": "execute_result"
    }
   ],
   "source": [
    "# conver integer to string data type\n",
    "a=132\n",
    "b=str(a)\n",
    "b"
   ]
  },
  {
   "cell_type": "code",
   "execution_count": 43,
   "id": "1b4fd540-c6d0-42f4-8f53-f99bff30c26e",
   "metadata": {},
   "outputs": [
    {
     "data": {
      "text/plain": [
       "str"
      ]
     },
     "execution_count": 43,
     "metadata": {},
     "output_type": "execute_result"
    }
   ],
   "source": [
    "type(b)"
   ]
  },
  {
   "cell_type": "raw",
   "id": "7664153b-8db4-4a78-b8dc-2713fd4c6b99",
   "metadata": {},
   "source": [
    "i. Implicit type casting: When we create a variable python understand the data type."
   ]
  },
  {
   "cell_type": "code",
   "execution_count": 46,
   "id": "bb56a7e9-e894-4ffc-b4b3-ca61cf2ae23e",
   "metadata": {},
   "outputs": [
    {
     "data": {
      "text/plain": [
       "str"
      ]
     },
     "execution_count": 46,
     "metadata": {},
     "output_type": "execute_result"
    }
   ],
   "source": [
    "# Example of implicit\n",
    "a=\"Kiran\"\n",
    "type(a)"
   ]
  },
  {
   "cell_type": "raw",
   "id": "f4c27bbd-478b-4eb2-9876-224c5e227335",
   "metadata": {},
   "source": [
    "ii. Explicit Type casting : When we convet datatype using inbuild function."
   ]
  },
  {
   "cell_type": "code",
   "execution_count": 48,
   "id": "0248781a-1986-4fc1-b0ee-934c07fd2a3a",
   "metadata": {},
   "outputs": [
    {
     "name": "stdout",
     "output_type": "stream",
     "text": [
      "(1, 2, 3)\n",
      "<class 'tuple'>\n",
      "After convert tuple to list  [1, 2, 3]\n",
      "<class 'list'>\n"
     ]
    }
   ],
   "source": [
    "a=(1,2,3)\n",
    "print(a)\n",
    "print(type(a))\n",
    "b=list(a)\n",
    "print(\"After convert tuple to list \",b)\n",
    "print(type(b))"
   ]
  },
  {
   "cell_type": "markdown",
   "id": "b145f82d-2cf1-47e4-aa8e-f7a651cb7c7f",
   "metadata": {},
   "source": [
    "### 6. How do conditional statements work in Python? Illustrate with examples"
   ]
  },
  {
   "cell_type": "raw",
   "id": "dabf26d8-ed9c-4e80-8415-bc8bd6f938e1",
   "metadata": {},
   "source": [
    "Ans.\n",
    "The concept of conditional statement is that if the condition is true then if block statements is executed, when condition is false then else block statements is executed.\n",
    "There are some types of Conditional statements are:\n",
    "i. if statement.\n",
    "ii. if else statement.\n",
    "iii. if elif else statement.\n",
    "iv. Nested if else statement.\n",
    "\n",
    "The example of conditional statement mentioned bellow"
   ]
  },
  {
   "cell_type": "code",
   "execution_count": 49,
   "id": "31659e24-a151-495e-9fab-ab6e14713e2b",
   "metadata": {},
   "outputs": [
    {
     "name": "stdout",
     "output_type": "stream",
     "text": [
      "a is greter than 5\n"
     ]
    }
   ],
   "source": [
    "# if statement\n",
    "a=10\n",
    "if a>5:\n",
    "    print(\"a is greter than 5\")"
   ]
  },
  {
   "cell_type": "code",
   "execution_count": 52,
   "id": "cb1a04c0-ab3a-4135-aaa9-07c3f6663fbf",
   "metadata": {},
   "outputs": [
    {
     "name": "stdin",
     "output_type": "stream",
     "text": [
      "Enter the number: -2\n"
     ]
    },
    {
     "name": "stdout",
     "output_type": "stream",
     "text": [
      "It is not positive number.\n"
     ]
    }
   ],
   "source": [
    "#if else statement\n",
    "a=int(input(\"Enter the number:\"))\n",
    "if a>0:\n",
    "    print(\"It is positive number.\")\n",
    "else:\n",
    "    print(\"It is not positive number.\")\n"
   ]
  },
  {
   "cell_type": "code",
   "execution_count": 54,
   "id": "ff38f55f-4a9c-45d0-a5b8-00e6057fd6e8",
   "metadata": {},
   "outputs": [
    {
     "name": "stdout",
     "output_type": "stream",
     "text": [
      "Second Division\n"
     ]
    }
   ],
   "source": [
    "# if elif else statement\n",
    "grade= 5.5\n",
    "if grade>=7.0 and grade<=10.0:\n",
    "    print(\"First Division\")\n",
    "elif grade>=5.0 and grade<=7.0:\n",
    "    print(\"Second Division\")\n",
    "else:\n",
    "    print(\"Third Division\")"
   ]
  },
  {
   "cell_type": "code",
   "execution_count": 56,
   "id": "05f559c5-64d0-460c-bda2-df9c63cb54ba",
   "metadata": {},
   "outputs": [
    {
     "name": "stdout",
     "output_type": "stream",
     "text": [
      "The number is zero.\n"
     ]
    }
   ],
   "source": [
    "# nested if else statement\n",
    "num = 0\n",
    "\n",
    "if num > 0:\n",
    "    print(\"The number is positive.\")\n",
    "else:\n",
    "    if num < 0:\n",
    "        print(\"The number is negative.\")\n",
    "    else:\n",
    "        print(\"The number is zero.\")"
   ]
  },
  {
   "cell_type": "markdown",
   "id": "ba54e7fe-785e-4010-8400-ee0bbf6a7a70",
   "metadata": {},
   "source": [
    "### 7. Describe the different types of loops in Python and their use cases with examples."
   ]
  },
  {
   "cell_type": "raw",
   "id": "c31d2582-1978-444c-b68a-bd1ca34d14ec",
   "metadata": {},
   "source": [
    "Ans.\n",
    "In Python, loops are employed to repeat a sequence of actions or code until a specific condition is fulfilled. \n",
    "Python offers two primary types of loops: for loops and while loops. “for” loops are used for iterating over a sequence of elements, while “while” loops are used for executing code until a specified condition becomes False.\n",
    "Example of loops..below\n"
   ]
  },
  {
   "cell_type": "code",
   "execution_count": 59,
   "id": "29fa058a-6468-45a5-8ad7-b15639e797dc",
   "metadata": {},
   "outputs": [
    {
     "name": "stdout",
     "output_type": "stream",
     "text": [
      "* * * \n",
      "* * * \n",
      "* * * \n",
      "* * * \n"
     ]
    }
   ],
   "source": [
    "# Create star pattern using for loop\n",
    "for i in range(4):\n",
    "    for j in range(3):\n",
    "        print(\"*\", end=\" \")\n",
    "    print()"
   ]
  },
  {
   "cell_type": "code",
   "execution_count": 60,
   "id": "a76b9156-ce61-4707-bf31-b84ac42de4c4",
   "metadata": {},
   "outputs": [
    {
     "name": "stdout",
     "output_type": "stream",
     "text": [
      "* * * \n",
      "* * * \n",
      "* * * \n",
      "* * * \n"
     ]
    }
   ],
   "source": [
    "# create star pattern using while loop\n",
    "row=1\n",
    "while row<=4:\n",
    "    col=1\n",
    "    while col<=3:\n",
    "        print(\"*\", end=\" \")\n",
    "        col=col+1\n",
    "    print()\n",
    "    row=row+1"
   ]
  },
  {
   "cell_type": "code",
   "execution_count": 64,
   "id": "a3dbf3ba-b1dd-433a-9bb3-31f0350b4f83",
   "metadata": {},
   "outputs": [
    {
     "name": "stdout",
     "output_type": "stream",
     "text": [
      "1\n",
      "3\n",
      "5\n",
      "7\n",
      "9\n",
      "11\n",
      "13\n",
      "15\n",
      "17\n",
      "19\n",
      "21\n",
      "23\n",
      "25\n",
      "27\n",
      "29\n",
      "31\n",
      "33\n",
      "35\n",
      "37\n",
      "39\n",
      "41\n",
      "43\n",
      "45\n",
      "47\n",
      "49\n",
      "51\n",
      "53\n",
      "55\n",
      "57\n",
      "59\n",
      "61\n",
      "63\n",
      "65\n",
      "67\n",
      "69\n",
      "71\n",
      "73\n",
      "75\n",
      "77\n",
      "79\n",
      "81\n",
      "83\n",
      "85\n",
      "87\n",
      "89\n",
      "91\n",
      "93\n",
      "95\n",
      "97\n",
      "99\n",
      "completed\n"
     ]
    }
   ],
   "source": [
    "# print odd no up to 100\n",
    "for i in range(1,101):\n",
    "    if i%2==0:\n",
    "        continue\n",
    "    else:\n",
    "        print(i)\n",
    "else:\n",
    "    print(\"completed\")"
   ]
  },
  {
   "cell_type": "code",
   "execution_count": null,
   "id": "6cb4383e-fa68-4fec-9ee3-5f5be2a62184",
   "metadata": {},
   "outputs": [],
   "source": []
  }
 ],
 "metadata": {
  "kernelspec": {
   "display_name": "Python 3 (ipykernel)",
   "language": "python",
   "name": "python3"
  },
  "language_info": {
   "codemirror_mode": {
    "name": "ipython",
    "version": 3
   },
   "file_extension": ".py",
   "mimetype": "text/x-python",
   "name": "python",
   "nbconvert_exporter": "python",
   "pygments_lexer": "ipython3",
   "version": "3.10.8"
  }
 },
 "nbformat": 4,
 "nbformat_minor": 5
}

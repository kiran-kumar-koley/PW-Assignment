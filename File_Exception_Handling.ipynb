{
 "cells": [
  {
   "cell_type": "markdown",
   "id": "76598d67-2751-4a74-bc54-9c9b62b40837",
   "metadata": {},
   "source": [
    "### 2. Describe what a process pool is and how it helps in managing multiple processes efficiently."
   ]
  },
  {
   "cell_type": "code",
   "execution_count": 1,
   "id": "4fc4eaad-6a04-4c27-9dfb-084b187e0b73",
   "metadata": {},
   "outputs": [
    {
     "name": "stdout",
     "output_type": "stream",
     "text": [
      "[1, 4, 9, 16]\n"
     ]
    }
   ],
   "source": [
    "# Example\n",
    "from multiprocessing import Pool\n",
    "\n",
    "def square(x):\n",
    "    return x * x\n",
    "\n",
    "if __name__ == \"__main__\":\n",
    "    with Pool(4) as p:  # Create a pool with 4 workers\n",
    "        result = p.map(square, [1, 2, 3, 4])  # Apply the function to each item\n",
    "    print(result)  "
   ]
  },
  {
   "cell_type": "markdown",
   "id": "de6140e1-49b6-42ec-b32b-b9d1f45935fc",
   "metadata": {},
   "source": [
    "### 3.Explain what multiprocessing is and why it is used in Python programs."
   ]
  },
  {
   "cell_type": "code",
   "execution_count": 2,
   "id": "31e19fc8-72b8-4686-a97b-b2b873f1e898",
   "metadata": {},
   "outputs": [
    {
     "name": "stdout",
     "output_type": "stream",
     "text": [
      "Task executed by process\n"
     ]
    }
   ],
   "source": [
    "from multiprocessing import Process\n",
    "\n",
    "def task():\n",
    "    print(\"Task executed by process\")\n",
    "\n",
    "if __name__ == \"__main__\":\n",
    "    p = Process(target=task)\n",
    "    p.start()  # Start the new process\n",
    "    p.join()   # Wait for the process to complete"
   ]
  },
  {
   "cell_type": "markdown",
   "id": "5c516c18-2874-49e9-8927-ac1e1b5d7ee7",
   "metadata": {},
   "source": [
    "### 4.  Write a Python program using multithreading where one thread adds numbers to a list, and another thread removes numbers from the list. Implement a mechanism to avoid race conditions using threading.Lock."
   ]
  },
  {
   "cell_type": "code",
   "execution_count": 3,
   "id": "6832bdb8-a74c-4923-9763-11da8eec55f4",
   "metadata": {},
   "outputs": [
    {
     "name": "stdout",
     "output_type": "stream",
     "text": [
      "Added 0\n",
      "Removed 0\n",
      "Added 1\n",
      "Removed 1\n",
      "Added 2\n",
      "Removed 2\n",
      "Added 3\n",
      "Added 4\n",
      "Removed 3\n",
      "Removed 4\n",
      "Final list: []\n"
     ]
    }
   ],
   "source": [
    "import threading\n",
    "import time\n",
    "\n",
    "# Shared list and lock\n",
    "numbers = []\n",
    "lock = threading.Lock()\n",
    "\n",
    "def add_numbers():\n",
    "    for i in range(5):\n",
    "        with lock:\n",
    "            numbers.append(i)\n",
    "            print(f\"Added {i}\")\n",
    "        time.sleep(1)\n",
    "\n",
    "def remove_numbers():\n",
    "    for i in range(5):\n",
    "        with lock:\n",
    "            if numbers:\n",
    "                removed = numbers.pop(0)\n",
    "                print(f\"Removed {removed}\")\n",
    "        time.sleep(1.5)\n",
    "\n",
    "# Creating threads\n",
    "t1 = threading.Thread(target=add_numbers)\n",
    "t2 = threading.Thread(target=remove_numbers)\n",
    "\n",
    "# Starting threads\n",
    "t1.start()\n",
    "t2.start()\n",
    "\n",
    "# Waiting for both threads to complete\n",
    "t1.join()\n",
    "t2.join()\n",
    "\n",
    "print(\"Final list:\", numbers)\n"
   ]
  },
  {
   "cell_type": "markdown",
   "id": "18073167-ac93-4354-be51-f567a13b64ae",
   "metadata": {},
   "source": [
    "### 6 Discuss why it's crucial to handle exceptions in concurrent programs and the techniques available for doing so."
   ]
  },
  {
   "cell_type": "code",
   "execution_count": 1,
   "id": "c451946d-1aa6-432d-b261-3bacdfcbec6a",
   "metadata": {},
   "outputs": [],
   "source": [
    "# Techniques for Handling Exceptions:"
   ]
  },
  {
   "cell_type": "code",
   "execution_count": 2,
   "id": "5492f3e0-7bf7-4a0a-bf48-85517c299783",
   "metadata": {},
   "outputs": [
    {
     "name": "stdout",
     "output_type": "stream",
     "text": [
      "Error: Task failed!\n"
     ]
    }
   ],
   "source": [
    "# Try-Except Blocks: \n",
    "import threading\n",
    "\n",
    "def task():\n",
    "    try:\n",
    "        raise ValueError(\"Task failed!\")\n",
    "    except Exception as e:\n",
    "        print(f\"Error: {e}\")\n",
    "\n",
    "t = threading.Thread(target=task)\n",
    "t.start()\n",
    "t.join()\n"
   ]
  },
  {
   "cell_type": "code",
   "execution_count": 3,
   "id": "72e5c4aa-7169-46ae-9692-5ea2d33b1c95",
   "metadata": {},
   "outputs": [
    {
     "name": "stdout",
     "output_type": "stream",
     "text": [
      "Exception caught: Error in task!\n"
     ]
    }
   ],
   "source": [
    "# Concurrent.futures Module:\n",
    "from concurrent.futures import ThreadPoolExecutor\n",
    "\n",
    "def task():\n",
    "    raise RuntimeError(\"Error in task!\")\n",
    "\n",
    "with ThreadPoolExecutor() as executor:\n",
    "    future = executor.submit(task)\n",
    "    try:\n",
    "        future.result()\n",
    "    except Exception as e:\n",
    "        print(f\"Exception caught: {e}\")\n"
   ]
  },
  {
   "cell_type": "markdown",
   "id": "c0cd06eb-c197-4f21-8da8-be18c1582621",
   "metadata": {},
   "source": [
    "### 7. Create a program that uses a thread pool to calculate the factorial of numbers from 1 to 10 concurrently. Use concurrent.futures.ThreadPoolExecutor to manage the threads."
   ]
  },
  {
   "cell_type": "code",
   "execution_count": null,
   "id": "233e6f01-bd93-47cb-b779-7de0f02486e0",
   "metadata": {},
   "outputs": [],
   "source": [
    "from concurrent.futures import ThreadPoolExecutor\n",
    "import math\n",
    "\n",
    "# Function to calculate factorial\n",
    "def factorial(n):\n",
    "    return math.factorial(n)\n",
    "\n",
    "# Main block to create a thread pool and calculate factorials concurrently\n",
    "if __name__ == \"__main__\":\n",
    "    numbers = range(1, 11)  # Numbers from 1 to 10\n",
    "\n",
    "    # Using ThreadPoolExecutor to manage threads\n",
    "    with ThreadPoolExecutor() as executor:\n",
    "        results = executor.map(factorial, numbers)\n",
    "\n",
    "    # Output the results\n",
    "    for number, result in zip(numbers, results):\n",
    "        print(f\"Factorial of {number} is {result}\")\n"
   ]
  },
  {
   "cell_type": "markdown",
   "id": "baf5567e-b05e-4b3b-b97c-026602d5fbf9",
   "metadata": {},
   "source": [
    "### 8. Create a Python program that uses multiprocessing.Pool to compute the square of numbers from 1 to 10 in parallel. Measure the time taken to perform this computation using a pool of different sizes (e.g., 2, 4, 8 processes)."
   ]
  },
  {
   "cell_type": "code",
   "execution_count": 4,
   "id": "d89a5cfc-a364-4c46-b975-1fcb7287ee78",
   "metadata": {},
   "outputs": [
    {
     "name": "stdout",
     "output_type": "stream",
     "text": [
      "Pool Size: 2, Results: [1, 4, 9, 16, 25, 36, 49, 64, 81, 100], Time Taken: 0.0014 seconds\n",
      "Pool Size: 4, Results: [1, 4, 9, 16, 25, 36, 49, 64, 81, 100], Time Taken: 0.0015 seconds\n",
      "Pool Size: 8, Results: [1, 4, 9, 16, 25, 36, 49, 64, 81, 100], Time Taken: 0.0018 seconds\n"
     ]
    }
   ],
   "source": [
    "import multiprocessing\n",
    "import time\n",
    "\n",
    "# Function to compute the square of a number\n",
    "def square(n):\n",
    "    return n * n\n",
    "\n",
    "# Function to measure the time taken for computation using different pool sizes\n",
    "def compute_with_pool_size(pool_size):\n",
    "    numbers = range(1, 11)  # Numbers from 1 to 10\n",
    "    with multiprocessing.Pool(pool_size) as pool:\n",
    "        start_time = time.time()  # Start timing\n",
    "        results = pool.map(square, numbers)\n",
    "        end_time = time.time()  # End timing\n",
    "    return results, end_time - start_time\n",
    "\n",
    "if __name__ == \"__main__\":\n",
    "    for pool_size in [2, 4, 8]:  # Test with pool sizes 2, 4, 8\n",
    "        results, duration = compute_with_pool_size(pool_size)\n",
    "        print(f\"Pool Size: {pool_size}, Results: {results}, Time Taken: {duration:.4f} seconds\")\n"
   ]
  },
  {
   "cell_type": "code",
   "execution_count": null,
   "id": "04de0db8-d170-4559-840a-6996e109730f",
   "metadata": {},
   "outputs": [],
   "source": []
  }
 ],
 "metadata": {
  "kernelspec": {
   "display_name": "Python 3 (ipykernel)",
   "language": "python",
   "name": "python3"
  },
  "language_info": {
   "codemirror_mode": {
    "name": "ipython",
    "version": 3
   },
   "file_extension": ".py",
   "mimetype": "text/x-python",
   "name": "python",
   "nbconvert_exporter": "python",
   "pygments_lexer": "ipython3",
   "version": "3.10.8"
  }
 },
 "nbformat": 4,
 "nbformat_minor": 5
}

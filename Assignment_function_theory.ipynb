{
 "cells": [
  {
   "cell_type": "markdown",
   "id": "d861790b-769f-4fe7-a62d-39a9de796353",
   "metadata": {},
   "source": [
    "### 1. What is the difference between a function and a method in Python?"
   ]
  },
  {
   "cell_type": "code",
   "execution_count": 2,
   "id": "f387a69f-3aa4-49d8-8afc-bce81c20f6b4",
   "metadata": {},
   "outputs": [
    {
     "name": "stdin",
     "output_type": "stream",
     "text": [
      "Enter name: Kiran\n"
     ]
    },
    {
     "name": "stdout",
     "output_type": "stream",
     "text": [
      "Your name : Kiran\n"
     ]
    }
   ],
   "source": [
    "# Function\n",
    "def n(name):\n",
    "    print(\"Your name :\",name)\n",
    "name=input(\"Enter name:\")\n",
    "n(name)"
   ]
  },
  {
   "cell_type": "code",
   "execution_count": 4,
   "id": "81165972-240b-4656-927c-6ade174764b1",
   "metadata": {},
   "outputs": [
    {
     "name": "stdin",
     "output_type": "stream",
     "text": [
      "Enter name: kiran\n"
     ]
    },
    {
     "name": "stdout",
     "output_type": "stream",
     "text": [
      "your name:  kiran\n"
     ]
    }
   ],
   "source": [
    "# Method\n",
    "class nam:\n",
    "    def __init__(self,name):\n",
    "        self.name=name\n",
    "    def n(self):\n",
    "        print(\"your name: \",self.name)\n",
    "a=input(\"Enter name:\")\n",
    "k=nam(a)\n",
    "k.n()"
   ]
  },
  {
   "cell_type": "markdown",
   "id": "468a8c55-3860-402c-ad7d-0ea42df2d098",
   "metadata": {},
   "source": [
    "### 2. Explain the concept of function arguments and parameters in Python."
   ]
  },
  {
   "cell_type": "code",
   "execution_count": 5,
   "id": "618cce3d-90f6-49c2-aace-b64e902647bd",
   "metadata": {},
   "outputs": [
    {
     "data": {
      "text/plain": [
       "('Addition of two numbers', 5)"
      ]
     },
     "execution_count": 5,
     "metadata": {},
     "output_type": "execute_result"
    }
   ],
   "source": [
    "def add(a,b): # here a and b is the parameter that is define in the function defination\n",
    "    return \"Addition of two numbers\",a+b\n",
    "add(2,3) # here 2,3 is the arguments, that is the actual values of the parameter a,b (a=2 and b=3)"
   ]
  },
  {
   "cell_type": "markdown",
   "id": "02385e7c-d476-4799-81db-f5ac52264c51",
   "metadata": {},
   "source": [
    "### 3. What are the different ways to define and call a function in Python?\n"
   ]
  },
  {
   "cell_type": "code",
   "execution_count": 1,
   "id": "922d951e-c6b1-43ce-8987-f72889d0efa0",
   "metadata": {},
   "outputs": [
    {
     "data": {
      "text/plain": [
       "6"
      ]
     },
     "execution_count": 1,
     "metadata": {},
     "output_type": "execute_result"
    }
   ],
   "source": [
    "# 1. standard function:\n",
    "def mul(a,b):\n",
    "    return a*b\n",
    "mul(2,3)"
   ]
  },
  {
   "cell_type": "code",
   "execution_count": 4,
   "id": "98cbc81e-4114-4fe1-899c-86db15fcb1dd",
   "metadata": {},
   "outputs": [
    {
     "name": "stdout",
     "output_type": "stream",
     "text": [
      "Name:  Kiran Class:  12 Age:  20\n",
      "Name:  Ranit Class:  12 Age:  18\n"
     ]
    }
   ],
   "source": [
    "# Default arguments:\n",
    "def s_list(name,s_class,age=18): # default arguments always place end of the all parameter.\n",
    "    print(\"Name: \", name,\"Class: \",s_class,\"Age: \",age)\n",
    "s_list(\"Kiran\",12,20)\n",
    "s_list(\"Ranit\",12)"
   ]
  },
  {
   "cell_type": "code",
   "execution_count": 6,
   "id": "ad8de925-acec-4d64-b8a5-41e180e08063",
   "metadata": {},
   "outputs": [
    {
     "name": "stdout",
     "output_type": "stream",
     "text": [
      "Name:  Sankha Class:  8 Age:  12\n"
     ]
    }
   ],
   "source": [
    "# Keyword arguments:\n",
    "def s_list(name,s_class,age): \n",
    "    print(\"Name: \", name,\"Class: \",s_class,\"Age: \",age)\n",
    "s_list(name=\"Sankha\",s_class=8, age=12)"
   ]
  },
  {
   "cell_type": "code",
   "execution_count": 9,
   "id": "04c84c71-53cb-40b5-8c97-ea2562b407a9",
   "metadata": {},
   "outputs": [
    {
     "data": {
      "text/plain": [
       "30"
      ]
     },
     "execution_count": 9,
     "metadata": {},
     "output_type": "execute_result"
    }
   ],
   "source": [
    "# Arbitary argument:\n",
    "def add(*args):\n",
    "    return sum(args)\n",
    "add(1,5,4,10,10)"
   ]
  },
  {
   "cell_type": "code",
   "execution_count": 12,
   "id": "03814a91-2358-41ff-9f3d-ce7c67e0295c",
   "metadata": {},
   "outputs": [
    {
     "name": "stdout",
     "output_type": "stream",
     "text": [
      "{'Name': 'Kiran', 'Vill': 'Subalchak', 'Age': 21, 'Qualification': 'Graduated'}\n"
     ]
    }
   ],
   "source": [
    "# Keyword arbitary arguments:\n",
    "def s_list1(**ka):\n",
    "    print(ka)\n",
    "s_list1(Name=\"Kiran\",Vill=\"Subalchak\", Age=21, Qualification=\"Graduated\")"
   ]
  },
  {
   "cell_type": "markdown",
   "id": "d53db4b3-0448-4a6b-b513-99b32e4634e7",
   "metadata": {},
   "source": [
    "### 4. What is the purpose of the 'return' statement in a Python function?"
   ]
  },
  {
   "cell_type": "code",
   "execution_count": 13,
   "id": "b3b755cc-94e4-4014-ad72-bbdb1b6381d4",
   "metadata": {},
   "outputs": [
    {
     "data": {
      "text/plain": [
       "'I am a python programmer'"
      ]
     },
     "execution_count": 13,
     "metadata": {},
     "output_type": "execute_result"
    }
   ],
   "source": [
    "def new():\n",
    "    return \"I am a python programmer\"\n",
    "new() #Here the value is return after the function completion"
   ]
  },
  {
   "cell_type": "markdown",
   "id": "d393db28-ba81-41ba-a4db-56b533365454",
   "metadata": {},
   "source": [
    "### 5. What are iterators in Python and how do they differ from iterables?"
   ]
  },
  {
   "cell_type": "code",
   "execution_count": 14,
   "id": "3bbf9961-9ead-4f18-a2b8-30be57e33d3c",
   "metadata": {},
   "outputs": [
    {
     "data": {
      "text/plain": [
       "<list_iterator at 0x70c3e0543dc0>"
      ]
     },
     "execution_count": 14,
     "metadata": {},
     "output_type": "execute_result"
    }
   ],
   "source": [
    "l=[1,2,3,4,5] # List is a iterable object\n",
    "a=iter(l) # we can create a object that can be iterated.\n",
    "a"
   ]
  },
  {
   "cell_type": "code",
   "execution_count": 15,
   "id": "72ee959f-d146-4061-866b-8860a82b5867",
   "metadata": {},
   "outputs": [
    {
     "data": {
      "text/plain": [
       "1"
      ]
     },
     "execution_count": 15,
     "metadata": {},
     "output_type": "execute_result"
    }
   ],
   "source": [
    "next(a) # Now we can access element one by one using this function"
   ]
  },
  {
   "cell_type": "code",
   "execution_count": 16,
   "id": "f2e6970b-6686-40de-96a5-75706b4e7aa9",
   "metadata": {},
   "outputs": [
    {
     "data": {
      "text/plain": [
       "2"
      ]
     },
     "execution_count": 16,
     "metadata": {},
     "output_type": "execute_result"
    }
   ],
   "source": [
    "next(a)"
   ]
  },
  {
   "cell_type": "code",
   "execution_count": 17,
   "id": "b1cc061c-c678-4c2f-8321-b84aa3b7a080",
   "metadata": {},
   "outputs": [
    {
     "data": {
      "text/plain": [
       "3"
      ]
     },
     "execution_count": 17,
     "metadata": {},
     "output_type": "execute_result"
    }
   ],
   "source": [
    "next(a)"
   ]
  },
  {
   "cell_type": "code",
   "execution_count": 18,
   "id": "5ecfed0c-e5b8-4690-9ee4-6558221c1636",
   "metadata": {},
   "outputs": [
    {
     "data": {
      "text/plain": [
       "4"
      ]
     },
     "execution_count": 18,
     "metadata": {},
     "output_type": "execute_result"
    }
   ],
   "source": [
    "next(a)"
   ]
  },
  {
   "cell_type": "code",
   "execution_count": 19,
   "id": "80454095-1d23-4ff9-bb66-0229f6eec130",
   "metadata": {},
   "outputs": [
    {
     "data": {
      "text/plain": [
       "5"
      ]
     },
     "execution_count": 19,
     "metadata": {},
     "output_type": "execute_result"
    }
   ],
   "source": [
    "next(a)"
   ]
  },
  {
   "cell_type": "code",
   "execution_count": 21,
   "id": "781673af-5443-4841-9d4c-df623661ebd1",
   "metadata": {},
   "outputs": [
    {
     "ename": "StopIteration",
     "evalue": "",
     "output_type": "error",
     "traceback": [
      "\u001b[0;31m---------------------------------------------------------------------------\u001b[0m",
      "\u001b[0;31mStopIteration\u001b[0m                             Traceback (most recent call last)",
      "Cell \u001b[0;32mIn[21], line 1\u001b[0m\n\u001b[0;32m----> 1\u001b[0m \u001b[38;5;28;43mnext\u001b[39;49m\u001b[43m(\u001b[49m\u001b[43ma\u001b[49m\u001b[43m)\u001b[49m \u001b[38;5;66;03m# There are no member present on that list that reason it throws an error \"stop iteration\"\u001b[39;00m\n",
      "\u001b[0;31mStopIteration\u001b[0m: "
     ]
    }
   ],
   "source": [
    "next(a) # There are no member present on that list that reason it throws an error \"stop iteration\""
   ]
  },
  {
   "cell_type": "markdown",
   "id": "e89e3c49-a85d-4bf6-bbfc-5fb7cd316f08",
   "metadata": {},
   "source": [
    "### 6.Explain the concept of generators in Python and how they are defined."
   ]
  },
  {
   "cell_type": "code",
   "execution_count": 27,
   "id": "c8d049ca-a86a-4ac0-9561-8d572da1492b",
   "metadata": {},
   "outputs": [
    {
     "data": {
      "text/plain": [
       "<generator object sqr at 0x70c3e0245a80>"
      ]
     },
     "execution_count": 27,
     "metadata": {},
     "output_type": "execute_result"
    }
   ],
   "source": [
    "def sqr(num):\n",
    "    yield num**2\n",
    "a=sqr(10)\n",
    "a"
   ]
  },
  {
   "cell_type": "code",
   "execution_count": 28,
   "id": "000c4a6a-d7e8-45a4-bb58-cc9f679ca66e",
   "metadata": {},
   "outputs": [
    {
     "data": {
      "text/plain": [
       "100"
      ]
     },
     "execution_count": 28,
     "metadata": {},
     "output_type": "execute_result"
    }
   ],
   "source": [
    "next(a)"
   ]
  },
  {
   "cell_type": "markdown",
   "id": "92804d4e-4557-4d8d-b43b-638281d0455c",
   "metadata": {},
   "source": [
    "### 7. What are the advantages of using generators over regular functions?"
   ]
  },
  {
   "cell_type": "code",
   "execution_count": 7,
   "id": "d4553728-1f96-4c15-97c9-377e2f6e7d27",
   "metadata": {},
   "outputs": [
    {
     "data": {
      "text/plain": [
       "<generator object sqr at 0x73523049ae30>"
      ]
     },
     "execution_count": 7,
     "metadata": {},
     "output_type": "execute_result"
    }
   ],
   "source": [
    "def sqr(num):\n",
    "    for i in range(1,num):\n",
    "        yield i**2\n",
    "a=sqr(10000000000) # In generator function generator don't compute all values untill they are needed. That reason it is very faster than regular function.And it takes less time for compute for large value.\n",
    "a"
   ]
  },
  {
   "cell_type": "code",
   "execution_count": 8,
   "id": "17dbf83b-a854-4cc8-9b65-696e64d5c483",
   "metadata": {},
   "outputs": [
    {
     "data": {
      "text/plain": [
       "1"
      ]
     },
     "execution_count": 8,
     "metadata": {},
     "output_type": "execute_result"
    }
   ],
   "source": [
    "next(a)"
   ]
  },
  {
   "cell_type": "code",
   "execution_count": 9,
   "id": "b6e7817c-978b-4d86-9985-aee62713e188",
   "metadata": {},
   "outputs": [
    {
     "data": {
      "text/plain": [
       "4"
      ]
     },
     "execution_count": 9,
     "metadata": {},
     "output_type": "execute_result"
    }
   ],
   "source": [
    "next(a)"
   ]
  },
  {
   "cell_type": "code",
   "execution_count": 10,
   "id": "701ae218-5e51-4e61-a2b2-17fa903e9ca8",
   "metadata": {},
   "outputs": [
    {
     "data": {
      "text/plain": [
       "9"
      ]
     },
     "execution_count": 10,
     "metadata": {},
     "output_type": "execute_result"
    }
   ],
   "source": [
    "next(a)"
   ]
  },
  {
   "cell_type": "code",
   "execution_count": 11,
   "id": "3d5cc7e0-7d3b-4fe2-8ae3-0057551d89a8",
   "metadata": {},
   "outputs": [
    {
     "data": {
      "text/plain": [
       "16"
      ]
     },
     "execution_count": 11,
     "metadata": {},
     "output_type": "execute_result"
    }
   ],
   "source": [
    "next(a)"
   ]
  },
  {
   "cell_type": "code",
   "execution_count": null,
   "id": "5a476be0-d8e8-4d10-a765-08bf43edea62",
   "metadata": {},
   "outputs": [],
   "source": [
    "# on the othe hand in regular function , At first it complete the compute all value before returning.\n",
    "def sqr1(num):\n",
    "    for i in range(num):\n",
    "        return i**2\n",
    "sqr(10000000000) # I can't run the funtion this times because it takes more time for compute or return error for large no. values"
   ]
  },
  {
   "cell_type": "markdown",
   "id": "d1a7353f-b49e-4746-94c9-2dcb8e72606b",
   "metadata": {},
   "source": [
    "### 8.What is a lambda function in Python and when is it typically used?"
   ]
  },
  {
   "cell_type": "code",
   "execution_count": 16,
   "id": "97ebf3c2-890a-40ef-9b59-29c9c595344a",
   "metadata": {},
   "outputs": [
    {
     "name": "stdin",
     "output_type": "stream",
     "text": [
      "What's number you want: 5\n"
     ]
    },
    {
     "data": {
      "text/plain": [
       "[0, 1, 1, 2, 3]"
      ]
     },
     "execution_count": 16,
     "metadata": {},
     "output_type": "execute_result"
    }
   ],
   "source": [
    "fibo=lambda x: x if x<=1 else fibo(x-1)+fibo(x-2)\n",
    "a=int(input(\"What's number you want:\"))\n",
    "a=[fibo(i) for i in range(a)]\n",
    "a"
   ]
  },
  {
   "cell_type": "markdown",
   "id": "cc5d31b9-f466-4cca-9b3a-b421d12b1de8",
   "metadata": {},
   "source": [
    "### 9. Explain the purpose and usage of the map() function in Python."
   ]
  },
  {
   "cell_type": "code",
   "execution_count": 19,
   "id": "ecd6a01f-ddb6-495d-99b8-64c667b93e63",
   "metadata": {},
   "outputs": [
    {
     "name": "stdout",
     "output_type": "stream",
     "text": [
      "[5, 7, 9]\n"
     ]
    }
   ],
   "source": [
    "list1 = [1, 2, 3]\n",
    "list2 = [4, 5, 6]\n",
    "result = map(lambda x, y: x + y, list1, list2)\n",
    "print(list(result))\n"
   ]
  },
  {
   "cell_type": "markdown",
   "id": "cb2d5d57-f34a-4ca9-9aea-92cf0b68f4fb",
   "metadata": {},
   "source": [
    "### 10. What is the difference between map(),reduce(), and filter() functions in Python?\n"
   ]
  },
  {
   "cell_type": "code",
   "execution_count": 21,
   "id": "986cfd03-0f74-4421-8741-30c8c251dbb9",
   "metadata": {},
   "outputs": [
    {
     "data": {
      "text/plain": [
       "[4, 9, 16]"
      ]
     },
     "execution_count": 21,
     "metadata": {},
     "output_type": "execute_result"
    }
   ],
   "source": [
    "# map()\n",
    "list1=[2,3,4]\n",
    "a=list(map(lambda x: x**2,list1))\n",
    "a"
   ]
  },
  {
   "cell_type": "code",
   "execution_count": 22,
   "id": "d216383e-cf55-4258-bd90-1e1c4c89d8e4",
   "metadata": {},
   "outputs": [
    {
     "data": {
      "text/plain": [
       "[2, 4, 6, 8, 10]"
      ]
     },
     "execution_count": 22,
     "metadata": {},
     "output_type": "execute_result"
    }
   ],
   "source": [
    "# filter()\n",
    "list2=[i for i in range(1,11)]\n",
    "b=list(filter(lambda x: x%2==0,list2))\n",
    "b"
   ]
  },
  {
   "cell_type": "code",
   "execution_count": 23,
   "id": "92e2ee39-cd58-4bdd-bb9c-61d01660b1d9",
   "metadata": {},
   "outputs": [
    {
     "data": {
      "text/plain": [
       "36"
      ]
     },
     "execution_count": 23,
     "metadata": {},
     "output_type": "execute_result"
    }
   ],
   "source": [
    "# reduce()\n",
    "from functools import reduce\n",
    "list3=[5,6,7,8,10]\n",
    "a=reduce(lambda x,y: x+y,list3)\n",
    "a"
   ]
  },
  {
   "cell_type": "markdown",
   "id": "e3824cb0-9821-46e9-8003-2d2918b9a93e",
   "metadata": {},
   "source": [
    "### 11.Using pen & Paper write the internal mechanism for sum operation using reduce function on this given list:[47,11,42,13];"
   ]
  },
  {
   "cell_type": "code",
   "execution_count": 24,
   "id": "d70eda0f-c5c0-4ac3-8924-fab00d3508cc",
   "metadata": {},
   "outputs": [
    {
     "data": {
      "text/plain": [
       "113"
      ]
     },
     "execution_count": 24,
     "metadata": {},
     "output_type": "execute_result"
    }
   ],
   "source": [
    "from functools import reduce\n",
    "list1=[47,11,42,13]\n",
    "a=reduce(lambda x,y: x+y,list1)\n",
    "a"
   ]
  },
  {
   "cell_type": "code",
   "execution_count": null,
   "id": "8899c18b-cbb8-4816-86f2-e17850b9c51b",
   "metadata": {},
   "outputs": [],
   "source": []
  },
  {
   "cell_type": "code",
   "execution_count": null,
   "id": "58a372f9-2e7f-477e-af0a-d61a168574b7",
   "metadata": {},
   "outputs": [],
   "source": []
  }
 ],
 "metadata": {
  "kernelspec": {
   "display_name": "Python 3 (ipykernel)",
   "language": "python",
   "name": "python3"
  },
  "language_info": {
   "codemirror_mode": {
    "name": "ipython",
    "version": 3
   },
   "file_extension": ".py",
   "mimetype": "text/x-python",
   "name": "python",
   "nbconvert_exporter": "python",
   "pygments_lexer": "ipython3",
   "version": "3.10.8"
  }
 },
 "nbformat": 4,
 "nbformat_minor": 5
}
